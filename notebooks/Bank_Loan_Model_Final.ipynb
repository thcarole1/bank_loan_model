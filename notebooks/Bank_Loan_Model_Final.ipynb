{
 "cells": [
  {
   "cell_type": "markdown",
   "id": "8e161e88",
   "metadata": {},
   "source": [
    "# Bank loan model : The big picture\n"
   ]
  },
  {
   "cell_type": "markdown",
   "id": "f74436f0",
   "metadata": {},
   "source": [
    "This case is about a bank (**Thera Bank**) which has a growing customer base.\n",
    "\n",
    "\n",
    "Majority of these customers are **liability customers** (depositors) with varying size of deposits. The number of customers who are also borrowers (asset customers) is quite small, and **the bank is interested in expanding this base rapidly to bring in more loan business and in the process, earn more through the interest on loans**. \n",
    "\n",
    "\n",
    "In particular, the management wants to **explore ways of converting its liability customers to personal loan customers (while retaining them as depositors)**. \n",
    "\n",
    "\n",
    "A campaign that the bank ran last year for liability customers showed **a healthy conversion rate of over 9% success**. \n",
    "\n",
    "\n",
    "This has encouraged the retail marketing department to devise campaigns to better target marketing to increase the success ratio with a minimal budget.\n",
    "\n",
    "\n"
   ]
  },
  {
   "cell_type": "markdown",
   "id": "bc87e308",
   "metadata": {},
   "source": [
    "## Framing the problem\n"
   ]
  },
  {
   "cell_type": "markdown",
   "id": "5d838278",
   "metadata": {},
   "source": [
    "### What is the business objective ?\n"
   ]
  },
  {
   "cell_type": "markdown",
   "id": "217b7d49",
   "metadata": {},
   "source": [
    "The department wants to build a model that will **help them identify the potential customers who have a higher probability of purchasing the loan**. \n",
    "\n",
    "**This will increase the success ratio while at the same time reduce the cost of the campaign**.\n",
    "\n"
   ]
  },
  {
   "cell_type": "markdown",
   "id": "f9b882c5",
   "metadata": {},
   "source": [
    "**Impact of errors**: <br>\n",
    "- False negatives (**eligible customers rejected**) can lead to **revenue losses** for the bank.<br>\n",
    "- False positives (**ineligible customers accepted**) can lead to **payment default risks**.<br>\n"
   ]
  },
  {
   "cell_type": "markdown",
   "id": "9daaeb98",
   "metadata": {},
   "source": [
    "### What is the type of learning ?\n",
    "\n"
   ]
  },
  {
   "cell_type": "markdown",
   "id": "dafee6b0",
   "metadata": {},
   "source": [
    "With the gathered information, we are ready to design our system.<br>\n",
    "\n",
    "- This is a **supervised learning task** because the model can train on labeled examples (customers who actually purchased a loan). <br>\n",
    "\n",
    "\n",
    "- It’s a **classification task** since the goal is to predict the likelihood of customers to purchase a loan or not. <br>\n",
    "\n"
   ]
  },
  {
   "cell_type": "markdown",
   "id": "1f4cf537",
   "metadata": {},
   "source": [
    "## Selecting a performance measure\n"
   ]
  },
  {
   "cell_type": "markdown",
   "id": "79bf8e1a",
   "metadata": {},
   "source": [
    "The next step is to choose a performance measure: <br>\n",
    "- **Recall** may be favored if the goal is **to minimize false negatives**, \n",
    "- or **F1-score** to **balance precision and recall**.\n",
    "\n"
   ]
  },
  {
   "cell_type": "markdown",
   "id": "c1ad7c0b",
   "metadata": {},
   "source": [
    "We will compute : <br>\n",
    "\n",
    "\n",
    "\n",
    "- the F1 score :    $$F_1  = \\frac{2}{\\frac{1}{precision}+ \\frac{1}{recall}} = 2 \\times \\frac{precision \\times recall}{precision + recall} = \\frac{TP}{TP +  \\frac{FN + FP}{2}} $$ <br><br>\n",
    "\n",
    "- the recall : $$recall  = \\frac{TP}{TP + FN}$$<br>\n",
    "\n",
    "\n",
    "- the precision :  $$precision  = \\frac{TP}{TP + FP}$$ <br>\n",
    "\n",
    "\n",
    "\n",
    "with **TP** : True Positives and **FN** : False Negatives\n"
   ]
  },
  {
   "cell_type": "markdown",
   "id": "a0220f92",
   "metadata": {},
   "source": [
    "# Getting the data\n"
   ]
  },
  {
   "cell_type": "markdown",
   "id": "dc23ae81",
   "metadata": {},
   "source": [
    "## Import libraries\n"
   ]
  },
  {
   "cell_type": "markdown",
   "id": "e3461f8c",
   "metadata": {},
   "source": [
    "Here will be imported all the necessary libraries that we'll use for this task !"
   ]
  },
  {
   "cell_type": "code",
   "execution_count": 1,
   "id": "2870ccfc",
   "metadata": {},
   "outputs": [],
   "source": [
    "import warnings\n",
    "warnings.filterwarnings(action = 'ignore')\n",
    "\n",
    "# General libraries\n",
    "import pandas as pd\n",
    "pd.set_option('display.width', None)\n",
    "import numpy as np\n",
    "import math\n",
    "from scipy.stats import iqr\n",
    "import random\n",
    "\n",
    "\n",
    "# Visualization\n",
    "import matplotlib.pyplot as plt\n",
    "from pandas.plotting import scatter_matrix\n",
    "import seaborn as sns\n",
    "import plotly.express as px\n",
    "\n",
    "# Split train set and test set\n",
    "from sklearn.model_selection import train_test_split\n",
    "\n",
    "# Geolocation libraries\n",
    "import pgeocode \n",
    "from geopy.geocoders import Nominatim\n",
    "\n",
    "# Preprocessing the data\n",
    "from sklearn.impute import SimpleImputer\n",
    "from sklearn.preprocessing import OneHotEncoder, RobustScaler, StandardScaler, MinMaxScaler\n",
    "\n",
    "# Pipelines\n",
    "from sklearn.pipeline import make_pipeline\n",
    "from sklearn.pipeline import make_union\n",
    "from sklearn.compose import make_column_transformer\n",
    "\n",
    "\n",
    "# Models\n",
    "from sklearn.model_selection import cross_val_score, GridSearchCV, RandomizedSearchCV, cross_validate\n",
    "from sklearn.linear_model import LogisticRegression\n",
    "from sklearn.svm import LinearSVC\n",
    "from sklearn.neighbors import KNeighborsClassifier\n",
    "\n",
    "from sklearn.ensemble import RandomForestClassifier\n",
    "from xgboost import XGBClassifier\n",
    "import lightgbm as lgb\n",
    "\n",
    "\n",
    "# Scores\n",
    "from sklearn.metrics import recall_score, precision_score, f1_score\n",
    "from sklearn.metrics import classification_report\n",
    "\n",
    "# Saving/loading models\n",
    "import joblib\n"
   ]
  },
  {
   "cell_type": "markdown",
   "id": "f417d4b5",
   "metadata": {},
   "source": [
    "## Import the data\n"
   ]
  },
  {
   "cell_type": "markdown",
   "id": "86816933",
   "metadata": {},
   "source": [
    "We import the data and store it locally."
   ]
  },
  {
   "cell_type": "code",
   "execution_count": 2,
   "id": "a0dd0379",
   "metadata": {
    "scrolled": false
   },
   "outputs": [
    {
     "data": {
      "text/html": [
       "<div>\n",
       "<style scoped>\n",
       "    .dataframe tbody tr th:only-of-type {\n",
       "        vertical-align: middle;\n",
       "    }\n",
       "\n",
       "    .dataframe tbody tr th {\n",
       "        vertical-align: top;\n",
       "    }\n",
       "\n",
       "    .dataframe thead th {\n",
       "        text-align: right;\n",
       "    }\n",
       "</style>\n",
       "<table border=\"1\" class=\"dataframe\">\n",
       "  <thead>\n",
       "    <tr style=\"text-align: right;\">\n",
       "      <th></th>\n",
       "      <th>ID</th>\n",
       "      <th>Age</th>\n",
       "      <th>Experience</th>\n",
       "      <th>Income</th>\n",
       "      <th>ZIP Code</th>\n",
       "      <th>Family</th>\n",
       "      <th>CCAvg</th>\n",
       "      <th>Education</th>\n",
       "      <th>Mortgage</th>\n",
       "      <th>Personal Loan</th>\n",
       "      <th>Securities Account</th>\n",
       "      <th>CD Account</th>\n",
       "      <th>Online</th>\n",
       "      <th>CreditCard</th>\n",
       "    </tr>\n",
       "  </thead>\n",
       "  <tbody>\n",
       "    <tr>\n",
       "      <th>0</th>\n",
       "      <td>1</td>\n",
       "      <td>25</td>\n",
       "      <td>1</td>\n",
       "      <td>49</td>\n",
       "      <td>91107</td>\n",
       "      <td>4</td>\n",
       "      <td>1.6</td>\n",
       "      <td>1</td>\n",
       "      <td>0</td>\n",
       "      <td>0</td>\n",
       "      <td>1</td>\n",
       "      <td>0</td>\n",
       "      <td>0</td>\n",
       "      <td>0</td>\n",
       "    </tr>\n",
       "    <tr>\n",
       "      <th>1</th>\n",
       "      <td>2</td>\n",
       "      <td>45</td>\n",
       "      <td>19</td>\n",
       "      <td>34</td>\n",
       "      <td>90089</td>\n",
       "      <td>3</td>\n",
       "      <td>1.5</td>\n",
       "      <td>1</td>\n",
       "      <td>0</td>\n",
       "      <td>0</td>\n",
       "      <td>1</td>\n",
       "      <td>0</td>\n",
       "      <td>0</td>\n",
       "      <td>0</td>\n",
       "    </tr>\n",
       "    <tr>\n",
       "      <th>2</th>\n",
       "      <td>3</td>\n",
       "      <td>39</td>\n",
       "      <td>15</td>\n",
       "      <td>11</td>\n",
       "      <td>94720</td>\n",
       "      <td>1</td>\n",
       "      <td>1.0</td>\n",
       "      <td>1</td>\n",
       "      <td>0</td>\n",
       "      <td>0</td>\n",
       "      <td>0</td>\n",
       "      <td>0</td>\n",
       "      <td>0</td>\n",
       "      <td>0</td>\n",
       "    </tr>\n",
       "    <tr>\n",
       "      <th>3</th>\n",
       "      <td>4</td>\n",
       "      <td>35</td>\n",
       "      <td>9</td>\n",
       "      <td>100</td>\n",
       "      <td>94112</td>\n",
       "      <td>1</td>\n",
       "      <td>2.7</td>\n",
       "      <td>2</td>\n",
       "      <td>0</td>\n",
       "      <td>0</td>\n",
       "      <td>0</td>\n",
       "      <td>0</td>\n",
       "      <td>0</td>\n",
       "      <td>0</td>\n",
       "    </tr>\n",
       "    <tr>\n",
       "      <th>4</th>\n",
       "      <td>5</td>\n",
       "      <td>35</td>\n",
       "      <td>8</td>\n",
       "      <td>45</td>\n",
       "      <td>91330</td>\n",
       "      <td>4</td>\n",
       "      <td>1.0</td>\n",
       "      <td>2</td>\n",
       "      <td>0</td>\n",
       "      <td>0</td>\n",
       "      <td>0</td>\n",
       "      <td>0</td>\n",
       "      <td>0</td>\n",
       "      <td>1</td>\n",
       "    </tr>\n",
       "  </tbody>\n",
       "</table>\n",
       "</div>"
      ],
      "text/plain": [
       "   ID  Age  Experience  Income  ZIP Code  Family  CCAvg  Education  Mortgage  \\\n",
       "0   1   25           1      49     91107       4    1.6          1         0   \n",
       "1   2   45          19      34     90089       3    1.5          1         0   \n",
       "2   3   39          15      11     94720       1    1.0          1         0   \n",
       "3   4   35           9     100     94112       1    2.7          2         0   \n",
       "4   5   35           8      45     91330       4    1.0          2         0   \n",
       "\n",
       "   Personal Loan  Securities Account  CD Account  Online  CreditCard  \n",
       "0              0                   1           0       0           0  \n",
       "1              0                   1           0       0           0  \n",
       "2              0                   0           0       0           0  \n",
       "3              0                   0           0       0           0  \n",
       "4              0                   0           0       0           1  "
      ]
     },
     "execution_count": 2,
     "metadata": {},
     "output_type": "execute_result"
    }
   ],
   "source": [
    "# Retrieve the data stored locally\n",
    "path = \"../data/raw_data\"\n",
    "banking_data = pd.read_excel(path + \"/Bank_Personal_Loan_Modelling.xlsx\", sheet_name=\"Data\")\n",
    "\n",
    "banking_data.head()"
   ]
  },
  {
   "cell_type": "code",
   "execution_count": 3,
   "id": "c87df646",
   "metadata": {},
   "outputs": [
    {
     "name": "stdout",
     "output_type": "stream",
     "text": [
      "The data shape is : (5000, 14)\n"
     ]
    }
   ],
   "source": [
    "print(f\"The data shape is : {banking_data.shape}\")"
   ]
  },
  {
   "cell_type": "markdown",
   "id": "4c71b65e",
   "metadata": {},
   "source": [
    "## Describe the features\n"
   ]
  },
  {
   "cell_type": "markdown",
   "id": "9abc9f13",
   "metadata": {},
   "source": [
    "We have the following features : <br>\n",
    "**ID**: Customer ID<br>\n",
    "**Age**: Customer's age in completed years<br>\n",
    "**Experience**: #years of professional experience<br>\n",
    "**Income**: Annual income of the customer (**in thousands of dollars**) <br>\n",
    "**ZIP_Code**: Home Address ZIP code.<br>\n",
    "**Family**: Family size of the customer <br>\n",
    "**CCAvg**: Avg. spending on credit cards per month (**in thousands of dollars**)<br>\n",
    "**Education**: Education Level. 1: Undergrad; 2: Graduate; 3: Advanced/Professional<br>\n",
    "**Mortgage**: Value of house mortgage if any (**in thousands of dollars**).<br>\n",
    "**Personal Loan**: Did this customer accept the personal loan offered in the last campaign?<br>\n",
    "**Securities Account**: Does the customer have a securities account with the bank?<br>\n",
    "**CD Account**: Does the customer have a certificate of deposit (CD) account with the bank?<br>\n",
    "**Online**: Does the customer use internet banking facilities?<br>\n",
    "**CreditCard**: Does the customer use a credit card issued by UniversalBank?<br>\n",
    "\n",
    "\n"
   ]
  },
  {
   "cell_type": "markdown",
   "id": "f05593ac",
   "metadata": {},
   "source": [
    "### FAST API info on features\n",
    "\n"
   ]
  },
  {
   "cell_type": "markdown",
   "id": "4ce65e43",
   "metadata": {},
   "source": [
    "#### Descritpion (FastApi)\n",
    "\n"
   ]
  },
  {
   "cell_type": "code",
   "execution_count": 4,
   "id": "d69e732b",
   "metadata": {
    "scrolled": false
   },
   "outputs": [
    {
     "name": "stdout",
     "output_type": "stream",
     "text": [
      "<class 'pandas.core.frame.DataFrame'>\n",
      "RangeIndex: 5000 entries, 0 to 4999\n",
      "Data columns (total 14 columns):\n",
      " #   Column              Non-Null Count  Dtype  \n",
      "---  ------              --------------  -----  \n",
      " 0   ID                  5000 non-null   int64  \n",
      " 1   Age                 5000 non-null   int64  \n",
      " 2   Experience          5000 non-null   int64  \n",
      " 3   Income              5000 non-null   int64  \n",
      " 4   ZIP Code            5000 non-null   int64  \n",
      " 5   Family              5000 non-null   int64  \n",
      " 6   CCAvg               5000 non-null   float64\n",
      " 7   Education           5000 non-null   int64  \n",
      " 8   Mortgage            5000 non-null   int64  \n",
      " 9   Personal Loan       5000 non-null   int64  \n",
      " 10  Securities Account  5000 non-null   int64  \n",
      " 11  CD Account          5000 non-null   int64  \n",
      " 12  Online              5000 non-null   int64  \n",
      " 13  CreditCard          5000 non-null   int64  \n",
      "dtypes: float64(1), int64(13)\n",
      "memory usage: 547.0 KB\n"
     ]
    }
   ],
   "source": [
    "# summary of the DataFrame\n",
    "banking_data.info()\n"
   ]
  },
  {
   "cell_type": "code",
   "execution_count": 5,
   "id": "186a9845",
   "metadata": {
    "scrolled": true
   },
   "outputs": [
    {
     "data": {
      "text/html": [
       "<div>\n",
       "<style scoped>\n",
       "    .dataframe tbody tr th:only-of-type {\n",
       "        vertical-align: middle;\n",
       "    }\n",
       "\n",
       "    .dataframe tbody tr th {\n",
       "        vertical-align: top;\n",
       "    }\n",
       "\n",
       "    .dataframe thead th {\n",
       "        text-align: right;\n",
       "    }\n",
       "</style>\n",
       "<table border=\"1\" class=\"dataframe\">\n",
       "  <thead>\n",
       "    <tr style=\"text-align: right;\">\n",
       "      <th></th>\n",
       "      <th>feature_description</th>\n",
       "      <th>Dtype</th>\n",
       "      <th>Feature type</th>\n",
       "      <th>Non-Null Count</th>\n",
       "    </tr>\n",
       "  </thead>\n",
       "  <tbody>\n",
       "    <tr>\n",
       "      <th>ID</th>\n",
       "      <td>Customer ID</td>\n",
       "      <td>int64</td>\n",
       "      <td>Numerical</td>\n",
       "      <td>5000</td>\n",
       "    </tr>\n",
       "    <tr>\n",
       "      <th>Age</th>\n",
       "      <td>Customer's age in completed years</td>\n",
       "      <td>int64</td>\n",
       "      <td>Numerical</td>\n",
       "      <td>5000</td>\n",
       "    </tr>\n",
       "    <tr>\n",
       "      <th>Experience</th>\n",
       "      <td>#years of professional experience</td>\n",
       "      <td>int64</td>\n",
       "      <td>Numerical</td>\n",
       "      <td>5000</td>\n",
       "    </tr>\n",
       "    <tr>\n",
       "      <th>Income</th>\n",
       "      <td>Annual income of the customer (in thousands of...</td>\n",
       "      <td>int64</td>\n",
       "      <td>Numerical</td>\n",
       "      <td>5000</td>\n",
       "    </tr>\n",
       "    <tr>\n",
       "      <th>ZIP Code</th>\n",
       "      <td>Home Address ZIP code</td>\n",
       "      <td>int64</td>\n",
       "      <td>Numerical</td>\n",
       "      <td>5000</td>\n",
       "    </tr>\n",
       "    <tr>\n",
       "      <th>Family</th>\n",
       "      <td>Family size of the customer</td>\n",
       "      <td>int64</td>\n",
       "      <td>Categorical</td>\n",
       "      <td>5000</td>\n",
       "    </tr>\n",
       "    <tr>\n",
       "      <th>CCAvg</th>\n",
       "      <td>Avg. spending on credit cards per month (in th...</td>\n",
       "      <td>float64</td>\n",
       "      <td>Numerical</td>\n",
       "      <td>5000</td>\n",
       "    </tr>\n",
       "    <tr>\n",
       "      <th>Education</th>\n",
       "      <td>Education Level. 1: Undergrad; 2: Graduate; 3:...</td>\n",
       "      <td>int64</td>\n",
       "      <td>Numerical</td>\n",
       "      <td>5000</td>\n",
       "    </tr>\n",
       "    <tr>\n",
       "      <th>Mortgage</th>\n",
       "      <td>Value of house mortgage if any (in thousands o...</td>\n",
       "      <td>int64</td>\n",
       "      <td>Numerical</td>\n",
       "      <td>5000</td>\n",
       "    </tr>\n",
       "    <tr>\n",
       "      <th>Personal Loan</th>\n",
       "      <td>Did this customer accept the personal loan off...</td>\n",
       "      <td>int64</td>\n",
       "      <td>Categorical</td>\n",
       "      <td>5000</td>\n",
       "    </tr>\n",
       "    <tr>\n",
       "      <th>Securities Account</th>\n",
       "      <td>Does the customer have a securities account wi...</td>\n",
       "      <td>int64</td>\n",
       "      <td>Categorical</td>\n",
       "      <td>5000</td>\n",
       "    </tr>\n",
       "    <tr>\n",
       "      <th>CD Account</th>\n",
       "      <td>Does the customer have a certificate of deposi...</td>\n",
       "      <td>int64</td>\n",
       "      <td>Categorical</td>\n",
       "      <td>5000</td>\n",
       "    </tr>\n",
       "    <tr>\n",
       "      <th>Online</th>\n",
       "      <td>Does the customer use internet banking facilit...</td>\n",
       "      <td>int64</td>\n",
       "      <td>Categorical</td>\n",
       "      <td>5000</td>\n",
       "    </tr>\n",
       "    <tr>\n",
       "      <th>CreditCard</th>\n",
       "      <td>Does the customer use a credit card issued by ...</td>\n",
       "      <td>int64</td>\n",
       "      <td>Categorical</td>\n",
       "      <td>5000</td>\n",
       "    </tr>\n",
       "  </tbody>\n",
       "</table>\n",
       "</div>"
      ],
      "text/plain": [
       "                                                  feature_description  \\\n",
       "ID                                                        Customer ID   \n",
       "Age                                 Customer's age in completed years   \n",
       "Experience                          #years of professional experience   \n",
       "Income              Annual income of the customer (in thousands of...   \n",
       "ZIP Code                                        Home Address ZIP code   \n",
       "Family                                    Family size of the customer   \n",
       "CCAvg               Avg. spending on credit cards per month (in th...   \n",
       "Education           Education Level. 1: Undergrad; 2: Graduate; 3:...   \n",
       "Mortgage            Value of house mortgage if any (in thousands o...   \n",
       "Personal Loan       Did this customer accept the personal loan off...   \n",
       "Securities Account  Does the customer have a securities account wi...   \n",
       "CD Account          Does the customer have a certificate of deposi...   \n",
       "Online              Does the customer use internet banking facilit...   \n",
       "CreditCard          Does the customer use a credit card issued by ...   \n",
       "\n",
       "                      Dtype Feature type  Non-Null Count  \n",
       "ID                    int64    Numerical            5000  \n",
       "Age                   int64    Numerical            5000  \n",
       "Experience            int64    Numerical            5000  \n",
       "Income                int64    Numerical            5000  \n",
       "ZIP Code              int64    Numerical            5000  \n",
       "Family                int64  Categorical            5000  \n",
       "CCAvg               float64    Numerical            5000  \n",
       "Education             int64    Numerical            5000  \n",
       "Mortgage              int64    Numerical            5000  \n",
       "Personal Loan         int64  Categorical            5000  \n",
       "Securities Account    int64  Categorical            5000  \n",
       "CD Account            int64  Categorical            5000  \n",
       "Online                int64  Categorical            5000  \n",
       "CreditCard            int64  Categorical            5000  "
      ]
     },
     "metadata": {},
     "output_type": "display_data"
    }
   ],
   "source": [
    "# Create detailed summary of dataframe\n",
    "cols_count_df = pd.DataFrame(banking_data.notnull().count(), columns=['Non-Null Count'])\n",
    "cols_dtypes_df = pd.DataFrame(banking_data.dtypes, columns=['Dtype'])\n",
    "\n",
    "# Describe the features\n",
    "cols_description_df = pd.DataFrame(\n",
    "    {\n",
    "        '' : ['ID',\n",
    "              'Age',\n",
    "              'Experience',\n",
    "              'Income',\n",
    "              'ZIP Code',\n",
    "              'Family',\n",
    "              'CCAvg',\n",
    "              'Education',\n",
    "              'Mortgage',\n",
    "               'Personal Loan',\n",
    "              'Securities Account',\n",
    "              'CD Account',\n",
    "              'Online', 'CreditCard'],\n",
    "\n",
    "        'feature_description' : [\"Customer ID\",\n",
    "                                 \"Customer's age in completed years\",\n",
    "                                 \"#years of professional experience\",\n",
    "                                \"Annual income of the customer (in thousands of dollars)\",\n",
    "                                 \"Home Address ZIP code\",\n",
    "                                 \"Family size of the customer\",\n",
    "                                 \"Avg. spending on credit cards per month (in thousands of dollars)\",\n",
    "                                 \"Education Level. 1: Undergrad; 2: Graduate; 3: Advanced/Professional\",\n",
    "                                 \"Value of house mortgage if any (in thousands of dollars)\",\n",
    "                                 \"Did this customer accept the personal loan offered in the last campaign?\",\n",
    "                                 \"Does the customer have a securities account with the bank?\",\n",
    "                                 \"Does the customer have a certificate of deposit (CD) account with the bank?\",\n",
    "                                 \"Does the customer use internet banking facilities?\",\n",
    "                                 \"Does the customer use a credit card issued by UniversalBank?\"]\n",
    "    },\n",
    "    index = range(len(banking_data.columns))\n",
    ")\n",
    "cols_description_df = cols_description_df.set_index(keys=[''])\n",
    "\n",
    "\n",
    "# Describe the type of features (numerical or categorical)\n",
    "cols_catnum_description_df = pd.DataFrame(\n",
    "    {\n",
    "        '' : ['ID',\n",
    "              'Age',\n",
    "              'Experience',\n",
    "              'Income',\n",
    "              'ZIP Code',\n",
    "              'Family',\n",
    "              'CCAvg',\n",
    "              'Education',\n",
    "              'Mortgage',\n",
    "               'Personal Loan',\n",
    "              'Securities Account',\n",
    "              'CD Account',\n",
    "              'Online', \n",
    "              'CreditCard'],\n",
    "\n",
    "        'Feature type' : [\"Numerical\", \n",
    "                         \"Numerical\",\n",
    "                         \"Numerical\",\n",
    "                         \"Numerical\",\n",
    "                         \"Numerical\",\n",
    "                         \"Categorical\",\n",
    "                         \"Numerical\",\n",
    "                         \"Numerical\",\n",
    "                         \"Numerical\",\n",
    "                         \"Categorical\",\n",
    "                         \"Categorical\",\n",
    "                         \"Categorical\",\n",
    "                         \"Categorical\",\n",
    "                         \"Categorical\"]\n",
    "    },\n",
    "    index = range(len(banking_data.columns))\n",
    ")\n",
    "cols_catnum_description_df = cols_catnum_description_df.set_index(keys=[''])\n",
    "\n",
    "\n",
    "# Merging\n",
    "merged = pd.merge(cols_description_df,cols_dtypes_df, how='inner', left_index=True, right_index=True)\n",
    "merged = pd.merge(merged,cols_catnum_description_df, how='inner', left_index=True, right_index=True)\n",
    "merged = pd.merge(merged,cols_count_df, how='inner', left_index=True, right_index=True)\n",
    "\n",
    "#Display                    \n",
    "display(merged)                              "
   ]
  },
  {
   "cell_type": "markdown",
   "id": "e3afffe9",
   "metadata": {},
   "source": [
    "#### Correlation (Fast API)"
   ]
  },
  {
   "cell_type": "code",
   "execution_count": 6,
   "id": "0e93d283",
   "metadata": {
    "scrolled": false
   },
   "outputs": [
    {
     "data": {
      "image/png": "[encoded data removed]",
      "text/plain": [
       "<Figure size 640x480 with 2 Axes>"
      ]
     },
     "metadata": {},
     "output_type": "display_data"
    }
   ],
   "source": [
    "# Heatmap of pairwise correlations\n",
    "correlation_matrix = banking_data.corr()\n",
    "column_names = correlation_matrix.columns\n",
    "sns.heatmap(correlation_matrix, \n",
    "            xticklabels=column_names, \n",
    "            yticklabels=column_names,\n",
    "            cmap= \"bwr\");\n",
    "plt.tight_layout()\n",
    "plt.show()"
   ]
  },
  {
   "cell_type": "code",
   "execution_count": 7,
   "id": "f8d656df",
   "metadata": {},
   "outputs": [
    {
     "ename": "SyntaxError",
     "evalue": "Missing parentheses in call to 'print'. Did you mean print(...)? (1927283887.py, line 1)",
     "output_type": "error",
     "traceback": [
      "\u001b[0;36m  Cell \u001b[0;32mIn [7], line 1\u001b[0;36m\u001b[0m\n\u001b[0;31m    print i\u001b[0m\n\u001b[0m    ^\u001b[0m\n\u001b[0;31mSyntaxError\u001b[0m\u001b[0;31m:\u001b[0m Missing parentheses in call to 'print'. Did you mean print(...)?\n"
     ]
    }
   ],
   "source": [
    "print i"
   ]
  },
  {
   "cell_type": "markdown",
   "id": "3318e275",
   "metadata": {},
   "source": [
    "## Rewrite feature names\n"
   ]
  },
  {
   "cell_type": "markdown",
   "id": "2de4d474",
   "metadata": {},
   "source": [
    "Updating the feature names for easier use.\n"
   ]
  },
  {
   "cell_type": "code",
   "execution_count": null,
   "id": "05559dd3",
   "metadata": {},
   "outputs": [],
   "source": [
    "# Updating the feature names for easier use.\n",
    "banking_data = banking_data.rename(columns={\n",
    "                                            \"ZIP Code\":\"ZIP_Code\", \n",
    "                                            \"Personal Loan\":\"Personal_Loan\",\n",
    "                                            \"Securities Account\":\"Securities_Account\",\n",
    "                                            \"CD Account\": \"CD_Account\"\n",
    "                                            })\n",
    "\n",
    "banking_data.head(2)"
   ]
  },
  {
   "cell_type": "markdown",
   "id": "ae858f06",
   "metadata": {},
   "source": [
    "## Dropping features\n"
   ]
  },
  {
   "cell_type": "markdown",
   "id": "83a31a5d",
   "metadata": {},
   "source": [
    "We won't need the **ID column**. Let's drop it !\n",
    "\n"
   ]
  },
  {
   "cell_type": "code",
   "execution_count": null,
   "id": "ec5d8b24",
   "metadata": {
    "scrolled": false
   },
   "outputs": [],
   "source": [
    "# We won't need the ID column. Let's drop it !\n",
    "banking_data = banking_data.drop(columns=['ID'])\n",
    "banking_data.head(2)"
   ]
  },
  {
   "cell_type": "markdown",
   "id": "3f78ecd9",
   "metadata": {},
   "source": [
    "## Cleaning the data"
   ]
  },
  {
   "cell_type": "markdown",
   "id": "f4dfb272",
   "metadata": {},
   "source": [
    "### Processing duplicates"
   ]
  },
  {
   "cell_type": "markdown",
   "id": "37c314ff",
   "metadata": {},
   "source": [
    "We check the number of duplicated rows."
   ]
  },
  {
   "cell_type": "code",
   "execution_count": null,
   "id": "424da637",
   "metadata": {
    "scrolled": true
   },
   "outputs": [],
   "source": [
    "# Check number of rows before removing duplicates\n",
    "print(f\"Number of rows : {len(banking_data)}\")\n",
    "\n",
    "# Compute the number of duplicated rows\n",
    "print(f\"Number of duplicated rows : {banking_data.duplicated().sum()}\")\n",
    "\n",
    "# Remove duplicates\n",
    "banking_data = banking_data.drop_duplicates() \n",
    "\n",
    "# Check number of rows before removing duplicates\n",
    "print(f\"Number of rows (AFTER dropping duplicates) : {len(banking_data)}\")"
   ]
  },
  {
   "cell_type": "markdown",
   "id": "72ebadcf",
   "metadata": {},
   "source": [
    "There are no duplicated rows .\n"
   ]
  },
  {
   "cell_type": "markdown",
   "id": "6937d537",
   "metadata": {},
   "source": [
    "### Processing missing data\n",
    "\n",
    "\n"
   ]
  },
  {
   "cell_type": "markdown",
   "id": "8a15a803",
   "metadata": {},
   "source": [
    "We check the percentage of missing values in the data at hand."
   ]
  },
  {
   "cell_type": "code",
   "execution_count": null,
   "id": "33f7a334",
   "metadata": {},
   "outputs": [],
   "source": [
    "def get_missing_data(data):       \n",
    "    # Counting the percentage of NaN for each column\n",
    "    missing_data = data.isnull().sum().sort_values(ascending=False)/len(data)*100 #NaN percentage for each column\n",
    "\n",
    "    # missing_data\n",
    "    missing_data = missing_data[missing_data > 0]\n",
    "\n",
    "    #Missing data column names\n",
    "    missing_cols = missing_data.index.values.tolist()\n",
    "\n",
    "    #Show missing data in percent\n",
    "    return missing_data\n",
    "\n",
    "missing_data = get_missing_data(banking_data)\n",
    "missing_data"
   ]
  },
  {
   "cell_type": "markdown",
   "id": "57e3eefa",
   "metadata": {},
   "source": [
    "We don't have any missing values.\n"
   ]
  },
  {
   "cell_type": "markdown",
   "id": "af0dd96e",
   "metadata": {},
   "source": [
    "## Create longitude and latitude\n"
   ]
  },
  {
   "cell_type": "markdown",
   "id": "fce17ee5",
   "metadata": {},
   "source": [
    "It would be interesting to locate **geographically** each customer.<br>"
   ]
  },
  {
   "cell_type": "markdown",
   "id": "44dc1742",
   "metadata": {},
   "source": [
    "Let's extract the coordinates (longitude and latitude) of each customer, through their ZIP code.\n"
   ]
  },
  {
   "cell_type": "code",
   "execution_count": null,
   "id": "e6cc094f",
   "metadata": {
    "scrolled": false
   },
   "outputs": [],
   "source": [
    "# Retrieve geographical info from zip code\n",
    "ZIP_Codes = banking_data['ZIP_Code'].values.astype('str').tolist()\n",
    "nomi = pgeocode.Nominatim('us')\n",
    "df_PostalCode = nomi.query_postal_code(ZIP_Codes)\n",
    "df_PostalCode['postal_code'] = df_PostalCode['postal_code'].values.astype('int64')\n",
    "\n",
    "# Check\n",
    "print(df_PostalCode.shape)\n",
    "df_PostalCode.head()\n"
   ]
  },
  {
   "cell_type": "markdown",
   "id": "a9f23c33",
   "metadata": {},
   "source": [
    "We could extract the customers coordinates thanks to their Zip code.\n"
   ]
  },
  {
   "cell_type": "markdown",
   "id": "970b7dbe",
   "metadata": {},
   "source": [
    "Now, let's check for duplicated rows of coordinates dataframe.\n"
   ]
  },
  {
   "cell_type": "code",
   "execution_count": null,
   "id": "c40717ff",
   "metadata": {
    "scrolled": false
   },
   "outputs": [],
   "source": [
    "# Check number of rows before removing duplicates\n",
    "print(f\"Number of rows : {len(df_PostalCode)}\")\n",
    "\n",
    "# Compute the number of duplicated rows\n",
    "print(f\"Number of duplicated rows : {df_PostalCode.duplicated().sum()}\")\n",
    "\n",
    "# Remove duplicates\n",
    "df_PostalCode = df_PostalCode.drop_duplicates() \n",
    "\n",
    "# Check number of rows before removing duplicates\n",
    "print(f\"Number of rows (AFTER dropping duplicates) : {len(df_PostalCode)}\")"
   ]
  },
  {
   "cell_type": "markdown",
   "id": "6a999097",
   "metadata": {},
   "source": [
    "Now, let's add the coordinates of each customer to our banking data.\n",
    "\n"
   ]
  },
  {
   "cell_type": "code",
   "execution_count": null,
   "id": "f9c45a20",
   "metadata": {
    "scrolled": false
   },
   "outputs": [],
   "source": [
    "# Create latitude and longitude columns\n",
    "banking_data = pd.merge(banking_data,df_PostalCode[['postal_code', 'latitude', 'longitude']],\n",
    "                        how='left',\n",
    "                        left_on='ZIP_Code',\n",
    "                        right_on='postal_code')\n",
    "\n",
    "# Dropping postal_code (not needed anymore)\n",
    "banking_data = banking_data.drop(columns='postal_code')\n",
    "\n",
    "# Check\n",
    "print(banking_data.shape)\n",
    "banking_data.head(5)"
   ]
  },
  {
   "cell_type": "markdown",
   "id": "83a2c4c2",
   "metadata": {},
   "source": [
    "**Let's check for missing data after creating longitude and latitude features!** \n"
   ]
  },
  {
   "cell_type": "code",
   "execution_count": null,
   "id": "8bedd00d",
   "metadata": {},
   "outputs": [],
   "source": [
    "missing_data = get_missing_data(banking_data)\n",
    "missing_data"
   ]
  },
  {
   "cell_type": "markdown",
   "id": "1f4eda02",
   "metadata": {},
   "source": [
    "**Less than 1%** of data is missing for latitude and longitude. We drop the rows with missing data.\n"
   ]
  },
  {
   "cell_type": "code",
   "execution_count": null,
   "id": "cdbfb10a",
   "metadata": {
    "scrolled": true
   },
   "outputs": [],
   "source": [
    "# Less than 1% of data is missing for latitude and longitude. We drop the rows with missing data.\n",
    "print(f\"Number of rows  (BEFORE DROPPING) : {banking_data.shape}\")\n",
    "banking_data = banking_data.dropna()\n",
    "print(f\"Number of rows  (AFTER DROPPING) : {banking_data.shape}\")\n"
   ]
  },
  {
   "cell_type": "markdown",
   "id": "8f539396",
   "metadata": {},
   "source": [
    "**Let's check for missing data again.** \n"
   ]
  },
  {
   "cell_type": "code",
   "execution_count": null,
   "id": "51b1cbc4",
   "metadata": {},
   "outputs": [],
   "source": [
    "# Let's check for missing data again.\n",
    "get_missing_data(banking_data.dropna())"
   ]
  },
  {
   "cell_type": "markdown",
   "id": "de02e20b",
   "metadata": {},
   "source": [
    "We don't have missing values anymore.\n",
    "\n"
   ]
  },
  {
   "cell_type": "markdown",
   "id": "2b9b2c50",
   "metadata": {},
   "source": [
    "**Let's drop the ZIP_Code column.** \n"
   ]
  },
  {
   "cell_type": "code",
   "execution_count": null,
   "id": "f5dffb69",
   "metadata": {},
   "outputs": [],
   "source": [
    "# # Let's drop the ZIP_Code column.\n",
    "# banking_data = banking_data.drop(columns=\"ZIP_Code\")"
   ]
  },
  {
   "cell_type": "markdown",
   "id": "309acb1a",
   "metadata": {},
   "source": [
    "# Exploring the data\n"
   ]
  },
  {
   "cell_type": "markdown",
   "id": "d5819656",
   "metadata": {},
   "source": [
    "## Quick exploration"
   ]
  },
  {
   "cell_type": "code",
   "execution_count": null,
   "id": "7b8d1fee",
   "metadata": {},
   "outputs": [],
   "source": [
    "# summary of the DataFrame\n",
    "banking_data.info()"
   ]
  },
  {
   "cell_type": "code",
   "execution_count": null,
   "id": "6e999d5c",
   "metadata": {
    "scrolled": true
   },
   "outputs": [],
   "source": [
    "# Descriptive statistics\n",
    "banking_data.describe()"
   ]
  },
  {
   "cell_type": "code",
   "execution_count": null,
   "id": "3aeacd00",
   "metadata": {},
   "outputs": [],
   "source": [
    "# Histogram of the DataFrame’s columns\n",
    "banking_data.hist(bins=150, figsize=(12, 8))\n",
    "plt.tight_layout()\n",
    "plt.show()"
   ]
  },
  {
   "cell_type": "markdown",
   "id": "a8655273",
   "metadata": {},
   "source": [
    "## Test set and train set"
   ]
  },
  {
   "cell_type": "markdown",
   "id": "1c25fbf8",
   "metadata": {},
   "source": [
    "### Check target balance\n"
   ]
  },
  {
   "cell_type": "markdown",
   "id": "39fe3c01",
   "metadata": {},
   "source": [
    "Our target is **Personal_Loan**. <br> \n",
    "Let's check the balance of the target.\n"
   ]
  },
  {
   "cell_type": "code",
   "execution_count": null,
   "id": "4dea55d5",
   "metadata": {
    "scrolled": true
   },
   "outputs": [],
   "source": [
    "# Our target is Personal_Loan. Let's check the balance of the target.\n",
    "banking_data.Personal_Loan.value_counts()/len(banking_data)*100"
   ]
  },
  {
   "cell_type": "markdown",
   "id": "1e51b680",
   "metadata": {},
   "source": [
    "**The data is very imbalanced !!**\n"
   ]
  },
  {
   "cell_type": "markdown",
   "id": "347116c6",
   "metadata": {},
   "source": [
    "Imbalanced dataset is a dataset where the classes are not balanced or equal.<br>\n",
    "This means there are an unequal number of samples from each target class and some classes may have significantly more samples than others.\n"
   ]
  },
  {
   "cell_type": "markdown",
   "id": "d5607634",
   "metadata": {},
   "source": [
    "### Problems with Imbalanced Datasets\n"
   ]
  },
  {
   "cell_type": "markdown",
   "id": "37e18684",
   "metadata": {},
   "source": [
    "Imbalanced datasets can lead to algorithms that are biased towards the majority class. <br>\n",
    "\n",
    "\n",
    "This means that any classification algorithm trained on an imbalanced dataset will often inaccurately classify minority classes as the majority class.\n",
    "\n",
    "\n",
    "The performance of a machine learning model can become highly skewed when it is fed with imbalanced data.<br>\n",
    "\n",
    "For example, our dataset has 90% class 0 and 10% class 1, then the learning model could be easily optimized to just predict all test input as belonging to class 0 and still get 90% accuracy!\n",
    "\n",
    "\n",
    "If a model is trained on data which is heavily imbalanced, it can develop an incorrect understanding of the underlying trends in the data. The model may not be able to recognize how certain values are distributed among different classes or even how certain classes overlap with each other."
   ]
  },
  {
   "cell_type": "markdown",
   "id": "67535bc2",
   "metadata": {},
   "source": [
    "### Techniques to Handle Imbalanced Dataset\n",
    "\n"
   ]
  },
  {
   "cell_type": "markdown",
   "id": "73b5ab75",
   "metadata": {},
   "source": [
    "#### The approach to train test split\n"
   ]
  },
  {
   "cell_type": "markdown",
   "id": "f96503f3",
   "metadata": {},
   "source": [
    "The approach to train test split when dealing with imbalanced datasets is to use **stratification**.<br>\n",
    "\n",
    "\n",
    "Stratification is an important step in splitting imbalanced datasets into training and test sets.<br>\n",
    "\n",
    "Stratification ensures that the proportion of each class remains the same across both the training and test sets.<br>\n",
    "\n",
    "This is important as it allows for a more accurate evaluation of the model, avoiding bias due to a disproportion of one class being over-represented in either dataset. <br>\n",
    "\n",
    "Stratified sampling also ensures that any trends or correlations among different classes that exist within the overall dataset are preserved after splitting into training and test datasets.\n"
   ]
  },
  {
   "cell_type": "markdown",
   "id": "2b3ca27a",
   "metadata": {},
   "source": [
    "### Train set and test set: Stratification\n",
    "\n"
   ]
  },
  {
   "cell_type": "markdown",
   "id": "ccfeff04",
   "metadata": {},
   "source": [
    "We split the data in : <br>\n",
    "- a train on which we will train our final model\n",
    "- a test set we will use to evaluate the model (in the end)"
   ]
  },
  {
   "cell_type": "code",
   "execution_count": null,
   "id": "eff2adc3",
   "metadata": {},
   "outputs": [],
   "source": [
    "# Create train set and test set (stratified based on median incom categories)\n",
    "strat_train_set, strat_test_set = train_test_split(\n",
    "    banking_data, test_size=0.2, stratify=banking_data[\"Personal_Loan\"], random_state=42)"
   ]
  },
  {
   "cell_type": "code",
   "execution_count": null,
   "id": "f301e2e3",
   "metadata": {},
   "outputs": [],
   "source": [
    "# Check of stratified train set\n",
    "strat_train_set.Personal_Loan.value_counts()/len(strat_train_set)*100"
   ]
  },
  {
   "cell_type": "code",
   "execution_count": null,
   "id": "3e38e4e9",
   "metadata": {},
   "outputs": [],
   "source": [
    "# Check of stratified test set\n",
    "strat_test_set.Personal_Loan.value_counts()/len(strat_test_set)*100"
   ]
  },
  {
   "cell_type": "markdown",
   "id": "c1455280",
   "metadata": {},
   "source": [
    "## Explore and visualizing the data to gain insights\n"
   ]
  },
  {
   "cell_type": "markdown",
   "id": "b0fb7e66",
   "metadata": {},
   "source": [
    "We use a copy of the stratified train set to explore the data.\n"
   ]
  },
  {
   "cell_type": "code",
   "execution_count": null,
   "id": "fdd2e207",
   "metadata": {
    "scrolled": false
   },
   "outputs": [],
   "source": [
    "# Create a copy of the stratified train set before exploring\n",
    "bank = strat_train_set.copy()"
   ]
  },
  {
   "cell_type": "markdown",
   "id": "b6862c84",
   "metadata": {},
   "source": [
    "Let's save the explorated data as CSV file (used for exploration purpose in Google Looker Studio).\n"
   ]
  },
  {
   "cell_type": "code",
   "execution_count": null,
   "id": "f187a8b2",
   "metadata": {},
   "outputs": [],
   "source": [
    "# # Let's save the explorated data as CSV file (used for exploration purpose in Google Looker Studio).\n",
    "# path_save = \"../data/processed_data/strat_train_set.csv\"\n",
    "# bank.to_csv(path_save, index=False)"
   ]
  },
  {
   "cell_type": "markdown",
   "id": "50146c3b",
   "metadata": {},
   "source": [
    "Let's look at the type of the features !\n"
   ]
  },
  {
   "cell_type": "code",
   "execution_count": null,
   "id": "93bae153",
   "metadata": {},
   "outputs": [],
   "source": [
    "# Type of features \n",
    "continuous_feats = ['CCAvg', 'latitude', 'longitude', 'ZIP_Code']\n",
    "discrete_feats = ['Experience', 'Income', 'Mortgage']\n",
    "categorical_feats = ['Education','Personal_Loan', 'Family']\n",
    "binary_feats = ['Securities_Account','CD_Account','Online','CreditCard']"
   ]
  },
  {
   "cell_type": "markdown",
   "id": "edf90669",
   "metadata": {},
   "source": [
    "### Univariate analysis\n"
   ]
  },
  {
   "cell_type": "markdown",
   "id": "fa3d6636",
   "metadata": {},
   "source": [
    "#### Numerical features\n",
    "\n"
   ]
  },
  {
   "cell_type": "code",
   "execution_count": null,
   "id": "a4bfe2c3",
   "metadata": {
    "scrolled": true
   },
   "outputs": [],
   "source": [
    "# Numerical features\n",
    "numerical_feats = continuous_feats + discrete_feats\n",
    "numerical_feats"
   ]
  },
  {
   "cell_type": "markdown",
   "id": "46160918",
   "metadata": {},
   "source": [
    "Let's plot the histograms of the numerical features."
   ]
  },
  {
   "cell_type": "code",
   "execution_count": null,
   "id": "2049c9ab",
   "metadata": {
    "scrolled": false
   },
   "outputs": [],
   "source": [
    "# Plot histograms\n",
    "ncol_max = 3\n",
    "nrow_max = math.ceil(len(numerical_feats)/ncol_max)\n",
    "fig, axs = plt.subplots(nrows = nrow_max, ncols = ncol_max, figsize=(10, 10))\n",
    "\n",
    "\n",
    "# Flatten axes for easy iteration\n",
    "axs = axs.flatten()\n",
    "\n",
    "# Histograms\n",
    "for col in numerical_feats:  \n",
    "        # Plotting the histograms\n",
    "        sns.histplot(data = bank[numerical_feats], \n",
    "                     x= bank[col], \n",
    "                     kde = True,                                   \n",
    "                     ax=axs[bank[numerical_feats].columns.get_loc(col)])\n",
    "        \n",
    "        # Formatting\n",
    "        axs[bank[numerical_feats].columns.get_loc(col)].set_xlabel(col)\n",
    "        axs[bank[numerical_feats].columns.get_loc(col)].set_title(f'Hist Plot - {col}')\n",
    "        \n",
    "# Hide unused subplots\n",
    "for ax in axs[len(numerical_feats):]:\n",
    "    ax.axis('off')\n",
    "    \n",
    "# Adjust layout\n",
    "plt.tight_layout()\n",
    "plt.show()"
   ]
  },
  {
   "cell_type": "markdown",
   "id": "faf86dd5",
   "metadata": {},
   "source": [
    "Let's plot the violin plots of the numerical features .\n"
   ]
  },
  {
   "cell_type": "code",
   "execution_count": null,
   "id": "7c1c063d",
   "metadata": {
    "scrolled": true
   },
   "outputs": [],
   "source": [
    "# Plot violin plots\n",
    "ncol_max = 3\n",
    "nrow_max = math.ceil(len(numerical_feats)/ncol_max)\n",
    "fig, axs = plt.subplots(nrows = nrow_max, ncols = ncol_max, figsize=(10, 10))\n",
    "\n",
    "\n",
    "# Flatten axes for easy iteration\n",
    "axs = axs.flatten()\n",
    "\n",
    "# boxplots\n",
    "for col in numerical_feats:  \n",
    "        # Plotting the violin plots\n",
    "        sns.violinplot(data = bank[numerical_feats], \n",
    "                     x= bank[col],                                   \n",
    "                     ax=axs[bank[numerical_feats].columns.get_loc(col)])\n",
    "        \n",
    "        # Formatting\n",
    "        axs[bank[numerical_feats].columns.get_loc(col)].set_xlabel(col)\n",
    "        axs[bank[numerical_feats].columns.get_loc(col)].set_title(f'Violin Plot - {col}')  \n",
    "\n",
    "# Hide unused subplots\n",
    "for ax in axs[len(numerical_feats):]:\n",
    "    ax.axis('off')\n",
    "    \n",
    "# Adjust layout\n",
    "plt.tight_layout()\n",
    "plt.show()\n"
   ]
  },
  {
   "cell_type": "markdown",
   "id": "bc8d9e61",
   "metadata": {},
   "source": [
    "Let's plot the boxplots of the numerical features."
   ]
  },
  {
   "cell_type": "code",
   "execution_count": null,
   "id": "647b3627",
   "metadata": {},
   "outputs": [],
   "source": [
    "# Plot boxplots\n",
    "ncol_max = 3\n",
    "nrow_max = math.ceil(len(numerical_feats)/ncol_max)\n",
    "fig, axs = plt.subplots(nrows = nrow_max, ncols = ncol_max, figsize=(10, 10))\n",
    "\n",
    "\n",
    "# Flatten axes for easy iteration\n",
    "axs = axs.flatten()\n",
    "\n",
    "# boxplots\n",
    "for col in numerical_feats:  \n",
    "        # Plotting the boxplots\n",
    "        sns.boxplot(data = bank[numerical_feats], \n",
    "                     x= bank[col],                                   \n",
    "                     ax=axs[bank[numerical_feats].columns.get_loc(col)])\n",
    "        \n",
    "        # Formatting\n",
    "        axs[bank[numerical_feats].columns.get_loc(col)].set_xlabel(col)\n",
    "        axs[bank[numerical_feats].columns.get_loc(col)].set_title(f'Box Plot - {col}')  \n",
    "        \n",
    "# Hide unused subplots\n",
    "for ax in axs[len(numerical_feats):]:\n",
    "    ax.axis('off')\n",
    "    \n",
    "# Adjust layout\n",
    "plt.tight_layout()\n",
    "plt.show()\n"
   ]
  },
  {
   "cell_type": "markdown",
   "id": "8cefd288",
   "metadata": {},
   "source": [
    "**Insights** :\n",
    "\n",
    "- CCAvg : The median spending on credit card per month is **around 1500 USD**.\n",
    "- Age : The median age is **around 45 years old**.\n",
    "- Experience : The median number of years of professional experience is **around 20 years**.\n",
    "- Income : The median income is around **70 000 USD**.\n"
   ]
  },
  {
   "cell_type": "markdown",
   "id": "d88a8de3",
   "metadata": {},
   "source": [
    "#### Categorical features\n",
    "\n"
   ]
  },
  {
   "cell_type": "code",
   "execution_count": null,
   "id": "d29d986f",
   "metadata": {
    "scrolled": false
   },
   "outputs": [],
   "source": [
    "# Categorical features\n",
    "categories_feats = categorical_feats + binary_feats\n",
    "categories_feats"
   ]
  },
  {
   "cell_type": "code",
   "execution_count": null,
   "id": "d14e6948",
   "metadata": {
    "scrolled": false
   },
   "outputs": [],
   "source": [
    "# Plot count plots\n",
    "ncol_max = 3\n",
    "nrow_max = math.ceil(len(categories_feats)/ncol_max)\n",
    "fig, axs = plt.subplots(nrows = nrow_max, ncols = ncol_max, figsize=(10, 10))\n",
    "\n",
    "# Flatten axes for easy iteration\n",
    "axs = axs.flatten()\n",
    "\n",
    "# countplots\n",
    "for col in categories_feats:         \n",
    "        # Plotting the count plots\n",
    "        sns.countplot(data = bank[categories_feats], \n",
    "                     x= bank[col],                                   \n",
    "                     ax=axs[bank[categories_feats].columns.get_loc(col)])\n",
    "        \n",
    "        # Formatting\n",
    "        axs[bank[categories_feats].columns.get_loc(col)].set_xlabel(col)\n",
    "        axs[bank[categories_feats].columns.get_loc(col)].set_title(f'Bar Plot - {col}')  \n",
    "        axs[bank[categories_feats].columns.get_loc(col)].bar_label(            \n",
    "            axs[bank[categories_feats].columns.get_loc(col)].containers[0],\n",
    "            fontsize=8\n",
    "            )       \n",
    "\n",
    "# Hide unused subplots\n",
    "for ax in axs[len(categories_feats):]:\n",
    "    ax.axis('off')\n",
    "           \n",
    "# Adjust layout\n",
    "plt.tight_layout()\n",
    "plt.show()\n"
   ]
  },
  {
   "cell_type": "code",
   "execution_count": null,
   "id": "de59c1ef",
   "metadata": {
    "scrolled": true
   },
   "outputs": [],
   "source": [
    "# Plot pie charts\n",
    "ncol_max = 3\n",
    "nrow_max = math.ceil(len(categories_feats)/ncol_max)\n",
    "fig, axs = plt.subplots(nrows = nrow_max, ncols = ncol_max, figsize=(10, 10))\n",
    "\n",
    "# Flatten axes for easy iteration\n",
    "axs = axs.flatten()\n",
    "\n",
    "# boxplots\n",
    "for col in categories_feats:  \n",
    "        # Example DataFrame\n",
    "        data = pd.DataFrame({'Category': bank[col].value_counts().index.values, \n",
    "                             'Values': bank[col].value_counts().values})\n",
    "\n",
    "        # Create a pie chart\n",
    "        data.set_index('Category').plot.pie(y='Values',\n",
    "                                            autopct='%1.1f%%', \n",
    "                                            ax = axs[bank[categories_feats].columns.get_loc(col)])\n",
    "        \n",
    "        # Formatting\n",
    "        axs[bank[categories_feats].columns.get_loc(col)].set_title(f'{col}') \n",
    "        axs[bank[categories_feats].columns.get_loc(col)].set_ylabel('')              \n",
    "\n",
    "# Hide unused subplots\n",
    "for ax in axs[len(categories_feats):]:\n",
    "    ax.axis('off')\n",
    "    \n",
    "# Adjust layout\n",
    "plt.tight_layout()\n",
    "plt.show()"
   ]
  },
  {
   "cell_type": "markdown",
   "id": "04045815",
   "metadata": {},
   "source": [
    "### Bivariate analysis\n"
   ]
  },
  {
   "cell_type": "markdown",
   "id": "2540c8a0",
   "metadata": {},
   "source": [
    "#### Correlation\n"
   ]
  },
  {
   "cell_type": "markdown",
   "id": "6217eb1d",
   "metadata": {},
   "source": [
    "What is the correlation between the numericals features ?"
   ]
  },
  {
   "cell_type": "code",
   "execution_count": null,
   "id": "6ebe5739",
   "metadata": {},
   "outputs": [],
   "source": [
    "# Heatmap of pairwise correlations\n",
    "correlation_matrix = bank[numerical_feats].corr()\n",
    "column_names = correlation_matrix.columns\n",
    "sns.heatmap(correlation_matrix, \n",
    "            xticklabels=column_names, \n",
    "            yticklabels=column_names,\n",
    "            cmap= \"bwr\",\n",
    "           annot=True);\n",
    "plt.tight_layout()\n",
    "plt.show()"
   ]
  },
  {
   "cell_type": "code",
   "execution_count": null,
   "id": "4e373dc0",
   "metadata": {
    "scrolled": true
   },
   "outputs": [],
   "source": [
    "#Create a dataframe listing pair correlations and absolute correlations\n",
    "correlation_matrix = bank[numerical_feats].corr()\n",
    "\n",
    "# Converting the correlation matrix into a DataFrame\n",
    "corr_df = correlation_matrix.stack().reset_index()\n",
    "\n",
    "# Renaming the columns\n",
    "corr_df.columns = ['feature_1','feature_2', 'correlation']\n",
    "\n",
    "# Remove \"self correlations\"\n",
    "no_self_correlation = (corr_df['feature_1'] != corr_df['feature_2'])\n",
    "corr_df = corr_df[no_self_correlation]\n",
    "\n",
    "corr_df['absolute_correlation'] = np.abs(corr_df['correlation'])\n",
    "\n",
    "corr_df.sort_values(by=\"absolute_correlation\", ascending=False, inplace = True)\n",
    "corr_df.head(10)\n"
   ]
  },
  {
   "cell_type": "markdown",
   "id": "f593d452",
   "metadata": {},
   "source": [
    "We see that **Experience** and **Age** have **more than 99% correlation**.<br>\n",
    "We may drop one of these later on.\n"
   ]
  },
  {
   "cell_type": "markdown",
   "id": "7239b841",
   "metadata": {},
   "source": [
    "We see that **latitude** and **longitude** have **more than 94% correlation**.<br>\n",
    "We may drop one of these later on.\n"
   ]
  },
  {
   "cell_type": "markdown",
   "id": "863c876c",
   "metadata": {},
   "source": [
    "There is a high correlation between **ZIP_Code** and **latitude** (i.e **86%**) and between **ZIP_Code** and **longitude** (i.e **81%**).<br>\n",
    "We may drop on of these later on.\n"
   ]
  },
  {
   "cell_type": "markdown",
   "id": "9cb4583a",
   "metadata": {},
   "source": [
    "#### Scatter matrix\n"
   ]
  },
  {
   "cell_type": "code",
   "execution_count": null,
   "id": "b1e37a4c",
   "metadata": {},
   "outputs": [],
   "source": [
    "# Display scatter matrix for numerical\n",
    "scatter_matrix(bank[numerical_feats], figsize= (12,8))\n",
    "plt.show()"
   ]
  },
  {
   "cell_type": "markdown",
   "id": "62d32cc8",
   "metadata": {},
   "source": [
    "### Visualizing Geographical data\n"
   ]
  },
  {
   "cell_type": "markdown",
   "id": "69e6157d",
   "metadata": {},
   "source": [
    "We locate each customer based on their coordinates.\n"
   ]
  },
  {
   "cell_type": "code",
   "execution_count": null,
   "id": "6ba0e32f",
   "metadata": {},
   "outputs": [],
   "source": [
    "# Visualize geographic data using scatter_mapbox\n",
    "fig = px.scatter_mapbox(bank, \n",
    "                         lat='latitude', \n",
    "                         lon='longitude', \n",
    "                         center=dict(lat=37, lon=-120),\n",
    "                         size_max=20,\n",
    "                         zoom=4,\n",
    "                         # size='Personal_Loan',\n",
    "                         color='Personal_Loan',\n",
    "                         height=600,\n",
    "                         title='<b> Visualize geographic data using scatter_mapbox</b>',\n",
    "                         color_continuous_scale=px.colors.sequential.Viridis)\n",
    "\n",
    "fig.update_layout(mapbox_style='open-street-map', height=600)\n",
    "fig.show()\n"
   ]
  },
  {
   "cell_type": "markdown",
   "id": "30495b0d",
   "metadata": {},
   "source": [
    "# Prepare the data for Machine Learning Algorithms\n"
   ]
  },
  {
   "cell_type": "markdown",
   "id": "8b507eb0",
   "metadata": {},
   "source": [
    "We separate the features from the target."
   ]
  },
  {
   "cell_type": "markdown",
   "id": "ce085d33",
   "metadata": {},
   "source": [
    "We drop some features to avoid redundancy of information.\n"
   ]
  },
  {
   "cell_type": "code",
   "execution_count": null,
   "id": "1bf9a344",
   "metadata": {},
   "outputs": [],
   "source": [
    "# We drop some features to avoid redundancy of information.\n",
    "cols_to_drop = ['Age', 'longitude','latitude']"
   ]
  },
  {
   "cell_type": "code",
   "execution_count": null,
   "id": "e1930570",
   "metadata": {},
   "outputs": [],
   "source": [
    "# Separate featues from target\n",
    "X = strat_train_set.drop([\"Personal_Loan\"] + cols_to_drop, axis=1)\n",
    "y = strat_train_set[\"Personal_Loan\"].copy()"
   ]
  },
  {
   "cell_type": "code",
   "execution_count": null,
   "id": "160a81dc",
   "metadata": {},
   "outputs": [],
   "source": [
    "# Display the shapes of features and target\n",
    "print(f\"The shape of X : {X.shape}\")\n",
    "print(f\"The shape of y : {y.shape}\")"
   ]
  },
  {
   "cell_type": "markdown",
   "id": "d9d6ce43",
   "metadata": {},
   "source": [
    "## Handling text and categorical attributes"
   ]
  },
  {
   "cell_type": "markdown",
   "id": "de9d05cf",
   "metadata": {},
   "source": [
    "The categorical features and binary features have numerical data types.<br>\n",
    "For computational reasons, we'll process them as numerical features for scaling.\n"
   ]
  },
  {
   "cell_type": "markdown",
   "id": "931f1f34",
   "metadata": {},
   "source": [
    "## Checking for outliers in numerical features\n"
   ]
  },
  {
   "cell_type": "markdown",
   "id": "71070ae5",
   "metadata": {},
   "source": [
    "Let's check the outliers of the numerical columns.\n"
   ]
  },
  {
   "cell_type": "code",
   "execution_count": null,
   "id": "d9c945ea",
   "metadata": {},
   "outputs": [],
   "source": [
    "# Plot boxplots of each numerical column\n",
    "plt.figure(figsize=(10, 20))\n",
    "\n",
    "# for column in housing_num_tr.columns: \n",
    "for i, column in enumerate(X.columns, 1):\n",
    "    plt.subplot(13, 3, i)\n",
    "    sns.boxplot(x=X[column], palette='Set2')\n",
    "    plt.title(f'Boxplot of {column}')\n",
    "    plt.xlabel(column)\n",
    "    plt.ylabel('Value')\n",
    "\n",
    "plt.tight_layout()\n",
    "plt.show()\n"
   ]
  },
  {
   "cell_type": "code",
   "execution_count": null,
   "id": "d6811298",
   "metadata": {},
   "outputs": [],
   "source": [
    "# Plot boxplots of each numerical column\n",
    "plt.figure(figsize=(10, 20))\n",
    "\n",
    "# for column in housing_num_tr.columns: \n",
    "for i, column in enumerate(X.columns, 1):\n",
    "    plt.subplot(13, 3, i)\n",
    "    sns.boxplot(x=X[column], palette='Set2')\n",
    "    plt.title(f'Boxplot of {column}')\n",
    "    plt.xlabel(column)\n",
    "    plt.ylabel('Value')\n",
    "\n",
    "plt.tight_layout()\n",
    "plt.show()"
   ]
  },
  {
   "cell_type": "markdown",
   "id": "bf4ebccd",
   "metadata": {},
   "source": [
    "It would be useful to extract the features containing outliers **automatically**. It will be used for pipeline implementation.\n"
   ]
  },
  {
   "cell_type": "markdown",
   "id": "01478a5e",
   "metadata": {},
   "source": [
    "Let's extract the features with outliers **numerically** !\n"
   ]
  },
  {
   "cell_type": "code",
   "execution_count": null,
   "id": "947c6499",
   "metadata": {},
   "outputs": [],
   "source": [
    "# Identify the columns with outliers\n",
    "numerical_columns_w_outliers = []\n",
    "numerical_columns_no_outliers = []\n",
    "\n",
    "for col in X.columns: \n",
    "    # Calculate IQR\n",
    "    iqr_value = iqr(X[col])\n",
    "\n",
    "    #Calculate 1st quartile\n",
    "    q1 = np.percentile(X[col],25)\n",
    "\n",
    "    #Calculate 3rd quartile\n",
    "    q3 = np.percentile(X[col],75)\n",
    "\n",
    "    #Calculate lower limit below which data point is considered an outlier\n",
    "    outlier_lim_low = q1 - 1.5 * iqr_value\n",
    "\n",
    "    #Calculate higher limit above which data point is considered an outlier\n",
    "    outlier_lim_high = q3 + 1.5 * iqr_value\n",
    "    \n",
    "    #Calculate number of 'low' outliers\n",
    "    outlier_condition_low = X[col] < outlier_lim_low\n",
    "    number_outliers_low = len(X[outlier_condition_low][col])\n",
    "    \n",
    "    #Calculate number of 'high' outliers\n",
    "    outlier_condition_high = X[col] > outlier_lim_high\n",
    "    number_outliers_high = len(X[outlier_condition_high][col])\n",
    "    \n",
    "    #Calculate total number of outliers\n",
    "    number_outliers_total = number_outliers_low + number_outliers_high\n",
    "      \n",
    "    #If any outliers in column, column is added to a list of columns with outliers\n",
    "    if number_outliers_total > 0:\n",
    "        numerical_columns_w_outliers.append(col)\n",
    "    elif number_outliers_total == 0:\n",
    "        numerical_columns_no_outliers.append(col)     \n",
    "        "
   ]
  },
  {
   "cell_type": "markdown",
   "id": "c9a210c4",
   "metadata": {},
   "source": [
    "Let's check if we could extract the outliers **numerically** !\n",
    "\n"
   ]
  },
  {
   "cell_type": "code",
   "execution_count": null,
   "id": "23de881c",
   "metadata": {},
   "outputs": [],
   "source": [
    "print(f\"The features having outliers are : {numerical_columns_w_outliers}\")\n",
    "print(f\"The features WITHOUT outliers are : {numerical_columns_no_outliers}\")"
   ]
  },
  {
   "cell_type": "markdown",
   "id": "a98aecc6",
   "metadata": {},
   "source": [
    "## Feature scaling and transformation\n"
   ]
  },
  {
   "cell_type": "markdown",
   "id": "45432624",
   "metadata": {},
   "source": [
    "**WHY SCALING ??**\n",
    "\n",
    "❗️ Features with large magnitudes can incorrectly outweigh features of small magnitudes <br>\n",
    "⚡️ Scaling to smaller magnitudes improves computational efficiency <br>\n",
    "🕵🏻‍♂️ Increases interpretability about the impact of each feature in a Machine Learning model <br>"
   ]
  },
  {
   "cell_type": "markdown",
   "id": "a369d0d4",
   "metadata": {},
   "source": [
    "### Columns with outliers\n"
   ]
  },
  {
   "cell_type": "markdown",
   "id": "debed031",
   "metadata": {},
   "source": [
    "<span style=\"font-family:Comic Sans MS; color:red\">We consider using Robust scaling for columns WITH outliers !  </span>"
   ]
  },
  {
   "attachments": {
    "image.png": {
     "image/png": "[encoded data removed]"
    }
   },
   "cell_type": "markdown",
   "id": "06760b12",
   "metadata": {},
   "source": [
    "![image.png](attachment:image.png)\n"
   ]
  },
  {
   "cell_type": "code",
   "execution_count": null,
   "id": "33fc8475",
   "metadata": {},
   "outputs": [],
   "source": [
    "# Reminder of features with outliers\n",
    "display(numerical_columns_w_outliers)"
   ]
  },
  {
   "cell_type": "markdown",
   "id": "2e280dd9",
   "metadata": {},
   "source": [
    "Let's have a look of the statistics of numerical columns with outliers (**BEFORE SCALING**)."
   ]
  },
  {
   "cell_type": "code",
   "execution_count": null,
   "id": "39d352cd",
   "metadata": {},
   "outputs": [],
   "source": [
    "# Describe columns with outliers\n",
    "X[numerical_columns_w_outliers].describe()"
   ]
  },
  {
   "cell_type": "code",
   "execution_count": null,
   "id": "ac823918",
   "metadata": {},
   "outputs": [],
   "source": [
    "# Instantiate Robustscaler\n",
    "robust_scaler = RobustScaler()\n",
    "\n",
    "# Fit and transform\n",
    "X[numerical_columns_w_outliers] = robust_scaler.fit_transform(X[numerical_columns_w_outliers])\n",
    "X[numerical_columns_w_outliers].head(3)"
   ]
  },
  {
   "cell_type": "markdown",
   "id": "4e330c81",
   "metadata": {},
   "source": [
    "Now, let's check the statistics of the numerical columns with outliers (**AFTER SCALING**)."
   ]
  },
  {
   "cell_type": "code",
   "execution_count": null,
   "id": "da59c114",
   "metadata": {},
   "outputs": [],
   "source": [
    "# Describe columns with outliers\n",
    "X[numerical_columns_w_outliers].describe()"
   ]
  },
  {
   "cell_type": "markdown",
   "id": "733d7375",
   "metadata": {},
   "source": [
    "### Columns without outliers\n"
   ]
  },
  {
   "cell_type": "markdown",
   "id": "771afe6b",
   "metadata": {},
   "source": [
    "<span style=\"font-family:Comic Sans MS; color:red\">We consider using MinMax scaling for columns WITHOUT outliers !  </span>"
   ]
  },
  {
   "attachments": {
    "image-2.png": {
     "image/png": "[encoded data removed]"
    },
    "image.png": {
     "image/png": "[encoded data removed]"
    }
   },
   "cell_type": "markdown",
   "id": "6e4a1f1a",
   "metadata": {},
   "source": [
    "![image.png](attachment:image.png)\n",
    "![image-2.png](attachment:image-2.png)\n"
   ]
  },
  {
   "cell_type": "markdown",
   "id": "7f970e8b",
   "metadata": {},
   "source": [
    "Let's have a look of the statistics of numerical columns without outliers (**BEFORE SCALING**)."
   ]
  },
  {
   "cell_type": "code",
   "execution_count": null,
   "id": "defd3326",
   "metadata": {},
   "outputs": [],
   "source": [
    "# Describe columns with NO outliers\n",
    "X[numerical_columns_no_outliers].describe()"
   ]
  },
  {
   "cell_type": "code",
   "execution_count": null,
   "id": "f5bbb942",
   "metadata": {},
   "outputs": [],
   "source": [
    "#Instanciate, fit, transform with minmax scaler\n",
    "minmax_scaler = MinMaxScaler()\n",
    "X[numerical_columns_no_outliers] = minmax_scaler.fit_transform(X[numerical_columns_no_outliers])"
   ]
  },
  {
   "cell_type": "markdown",
   "id": "37472b74",
   "metadata": {},
   "source": [
    "Now, let's check the statistics of the numerical columns without outliers (**AFTER SCALING**)."
   ]
  },
  {
   "cell_type": "code",
   "execution_count": null,
   "id": "dd4e9fb9",
   "metadata": {},
   "outputs": [],
   "source": [
    "# Describe columns with NO outliers\n",
    "X[numerical_columns_no_outliers].describe()"
   ]
  },
  {
   "cell_type": "markdown",
   "id": "d17774bb",
   "metadata": {},
   "source": [
    "## Create pipelines\n"
   ]
  },
  {
   "cell_type": "code",
   "execution_count": null,
   "id": "6cdd8349",
   "metadata": {
    "scrolled": true
   },
   "outputs": [],
   "source": [
    "# Create pipelines\n",
    "preprocessing = make_column_transformer(\n",
    "                                        (RobustScaler(), numerical_columns_w_outliers),\n",
    "                                        (MinMaxScaler(), numerical_columns_no_outliers),\n",
    "#                                         remainder='passthrough'\n",
    "                                        )\n",
    "\n",
    "preprocessing.fit(X)"
   ]
  },
  {
   "cell_type": "markdown",
   "id": "f7642315",
   "metadata": {},
   "source": [
    "# Oversampling the minority class for training using SMOTE\n"
   ]
  },
  {
   "cell_type": "code",
   "execution_count": null,
   "id": "86244bd1",
   "metadata": {},
   "outputs": [],
   "source": [
    "# Separate featues from target\n",
    "X = strat_train_set.drop([\"Personal_Loan\"] + cols_to_drop, axis=1)\n",
    "y = strat_train_set[\"Personal_Loan\"].copy()"
   ]
  },
  {
   "cell_type": "code",
   "execution_count": null,
   "id": "8c85e264",
   "metadata": {},
   "outputs": [],
   "source": [
    "# Check of stratified train set\n",
    "y.value_counts()/len(strat_train_set)*100"
   ]
  },
  {
   "cell_type": "code",
   "execution_count": null,
   "id": "7384fa68",
   "metadata": {},
   "outputs": [],
   "source": [
    "from imblearn.over_sampling import SMOTE\n",
    "\n",
    "smote = SMOTE(random_state=42)\n",
    "X_smote, y_smote = smote.fit_resample(X, y)"
   ]
  },
  {
   "cell_type": "code",
   "execution_count": null,
   "id": "5d9b3a1b",
   "metadata": {},
   "outputs": [],
   "source": [
    "# Check of stratified train set\n",
    "y_smote.value_counts()/len(y_smote)*100"
   ]
  },
  {
   "cell_type": "markdown",
   "id": "569cf63f",
   "metadata": {},
   "source": [
    "# Train and evaluate on the training set with several models"
   ]
  },
  {
   "cell_type": "markdown",
   "id": "2928af6a",
   "metadata": {},
   "source": [
    "Now, let's use several classification models.\n"
   ]
  },
  {
   "cell_type": "code",
   "execution_count": null,
   "id": "adba9e07",
   "metadata": {
    "scrolled": true
   },
   "outputs": [],
   "source": [
    "%%time\n",
    "\n",
    "# Selection of models to try out\n",
    "classification_models = [LogisticRegression(random_state=42), \n",
    "                         LinearSVC(random_state=42), \n",
    "                         RandomForestClassifier(),\n",
    "                         XGBClassifier()]\n",
    "mean_recall_scores = {}\n",
    "mean_precision_scores = {}\n",
    "mean_f1_scores = {}\n",
    "\n",
    "# Train and evaluate the models\n",
    "for model in classification_models:\n",
    "    piped_model = make_pipeline(preprocessing, model)\n",
    "    piped_model.fit(X, y)\n",
    "    scores = cross_validate(piped_model, X_smote, y_smote, cv=20, scoring=['recall', 'precision', 'f1'])\n",
    "    \n",
    "    #Calculate mean scores     \n",
    "    mean_recall_score = scores['test_recall'].mean()\n",
    "    mean_precision_score = scores['test_precision'].mean()\n",
    "    mean_f1_score = scores['test_f1'].mean()\n",
    "    \n",
    "    # Store mean scores in dicts     \n",
    "    mean_recall_scores[str(model)[:str(model).find('(')]] = mean_recall_score\n",
    "    mean_precision_scores[str(model)[:str(model).find('(')]] = mean_precision_score\n",
    "    mean_f1_scores[str(model)[:str(model).find('(')]] = mean_f1_score\n",
    " \n",
    "    \n",
    "# Formatting the results into a dataframe (RECALL)\n",
    "mean_recall_scores_df = pd.DataFrame(mean_recall_scores, index=[0])\n",
    "mean_recall_scores_df = mean_recall_scores_df.T\\\n",
    "                                .reset_index()\\\n",
    "                                .rename(columns={0:'recall', 'index' : 'Model'})\\\n",
    "                                .sort_values('recall', ascending=False)\n",
    "\n",
    "# Formatting the results into a dataframe (PRECISION)\n",
    "mean_precision_scores_df = pd.DataFrame(mean_precision_scores, index=[0])\n",
    "mean_precision_scores_df = mean_precision_scores_df.T\\\n",
    "                                .reset_index()\\\n",
    "                                .rename(columns={0:'precision', 'index' : 'Model'})\\\n",
    "                                .sort_values('precision', ascending=False)\n",
    "\n",
    "# Formatting the results into a dataframe (F1)\n",
    "mean_f1_scores_df = pd.DataFrame(mean_f1_scores, index=[0])\n",
    "mean_f1_scores_df = mean_f1_scores_df.T\\\n",
    "                                .reset_index()\\\n",
    "                                .rename(columns={0:'F1', 'index' : 'Model'})\\\n",
    "                                .sort_values('F1', ascending=False)\n",
    "\n",
    "# Merge\n",
    "merged = pd.merge(mean_recall_scores_df,mean_precision_scores_df,\n",
    "                        how='left',\n",
    "                        left_on='Model',\n",
    "                        right_on='Model')\n",
    "\n",
    "\n",
    "merged = pd.merge(merged,mean_f1_scores_df,\n",
    "                        how='left',\n",
    "                        left_on='Model',\n",
    "                        right_on='Model').sort_values('recall', ascending=False)\n",
    "                \n",
    "display(merged)"
   ]
  },
  {
   "cell_type": "markdown",
   "id": "e5b23bc3",
   "metadata": {},
   "source": [
    "**XGBClassifier** has the **best recall**, **best precision**  and **best F1 score**.\n"
   ]
  },
  {
   "cell_type": "markdown",
   "id": "2ffbbf5a",
   "metadata": {},
   "source": [
    "# Fine tune the model\n"
   ]
  },
  {
   "cell_type": "markdown",
   "id": "018de865",
   "metadata": {},
   "source": [
    "Let's fine tuned our chosen model (**XGB Classifier**).\n",
    "\n"
   ]
  },
  {
   "cell_type": "markdown",
   "id": "2641cf8b",
   "metadata": {},
   "source": [
    "## Grid Search"
   ]
  },
  {
   "cell_type": "code",
   "execution_count": null,
   "id": "57607a26",
   "metadata": {},
   "outputs": [],
   "source": [
    "# Reminder of the pipeline structure\n",
    "XGBClassifier_pipe= make_pipeline(preprocessing, XGBClassifier())\n",
    "XGBClassifier_pipe\n"
   ]
  },
  {
   "cell_type": "markdown",
   "id": "53317acc",
   "metadata": {},
   "source": [
    "What are the available hyper parameters of the classifier and preprocessing pipeline ?\n",
    "\n"
   ]
  },
  {
   "cell_type": "code",
   "execution_count": null,
   "id": "754c3dce",
   "metadata": {},
   "outputs": [],
   "source": [
    "# Get the pipeline parmeters\n",
    "XGBClassifier_pipe.get_params().keys()"
   ]
  },
  {
   "cell_type": "code",
   "execution_count": null,
   "id": "6b713953",
   "metadata": {},
   "outputs": [],
   "source": [
    "%%time\n",
    "# Create grid\n",
    "param_distribs = {\n",
    "    'xgbclassifier__learning_rate' : [0.01, 0.1, 0.3],\n",
    "    'xgbclassifier__n_estimators' : [100, 200],\n",
    "    'xgbclassifier__subsample' : [0.5, 1],\n",
    "    'xgbclassifier__colsample_bytree': [0.3, 0.5],\n",
    "    'xgbclassifier__reg_alpha' : [0, 0.5], \n",
    "    'xgbclassifier__reg_lambda' : [1,5]\n",
    "}\n",
    "\n",
    "# Perform Grid Search\n",
    "grid_search = GridSearchCV(XGBClassifier_pipe, \n",
    "                           param_grid = param_distribs, \n",
    "                           cv=5,\n",
    "                           scoring=['recall', 'precision', 'f1'],\n",
    "                           refit='f1')\n",
    "\n",
    "# Fit data to Grid Search\n",
    "grid_search.fit(X_smote, y_smote)"
   ]
  },
  {
   "cell_type": "markdown",
   "id": "7ff0521d",
   "metadata": {},
   "source": [
    "The best hyperparameter combination found:"
   ]
  },
  {
   "cell_type": "code",
   "execution_count": null,
   "id": "3eb32e8e",
   "metadata": {},
   "outputs": [],
   "source": [
    "# Get the best params found\n",
    "grid_search.best_params_"
   ]
  },
  {
   "cell_type": "code",
   "execution_count": null,
   "id": "2933f41b",
   "metadata": {},
   "outputs": [],
   "source": [
    "# Get the best estimator found\n",
    "grid_search.best_estimator_"
   ]
  },
  {
   "cell_type": "markdown",
   "id": "686142e4",
   "metadata": {},
   "source": [
    "👎 Limitations of Grid Search:<br>\n",
    "•\tComputationally costly <br>\n",
    "•\tThe optimal hyperparameter value can be missed <br>\n",
    "•\tCan overfit hyperparameters to the training set if too many combinations are tried out for too small a dataset"
   ]
  },
  {
   "cell_type": "markdown",
   "id": "d50505c4",
   "metadata": {},
   "source": [
    "So let's try a **random grid search** !"
   ]
  },
  {
   "cell_type": "markdown",
   "id": "6d93463e",
   "metadata": {},
   "source": [
    "## Random search"
   ]
  },
  {
   "cell_type": "markdown",
   "id": "349045fc",
   "metadata": {},
   "source": [
    "Randomly explore hyperparameter values from: <br>\n",
    "•\tA hyperparameter space to randomly sample from <br>\n",
    "•\tThe specified number of samples to be tested"
   ]
  },
  {
   "cell_type": "code",
   "execution_count": null,
   "id": "6525a1f7",
   "metadata": {},
   "outputs": [],
   "source": [
    "%%time\n",
    "# Create grid\n",
    "param_distribs = {\n",
    "    'xgbclassifier__learning_rate' : [round(np.random.uniform(0,1),2)],\n",
    "    'xgbclassifier__n_estimators' : [random.randint(100, 200)],\n",
    "    'xgbclassifier__subsample' : [round(np.random.uniform(0,1),1)],\n",
    "    'xgbclassifier__colsample_bytree': [round(np.random.uniform(0,1),1)],\n",
    "    'xgbclassifier__reg_alpha' : [round(np.random.uniform(0,1),1)], \n",
    "    'xgbclassifier__reg_lambda' : [random.randint(1, 5)]\n",
    "}\n",
    "\n",
    "# Perform Grid Search\n",
    "rnd_search = RandomizedSearchCV(XGBClassifier_pipe, \n",
    "                                param_distributions=param_distribs,\n",
    "                                cv=5,\n",
    "                                scoring='f1')\n",
    "# Fit data to Grid Search\n",
    "rnd_search.fit(X_smote, y_smote)\n"
   ]
  },
  {
   "cell_type": "markdown",
   "id": "796d13c9",
   "metadata": {},
   "source": [
    "The best hyperparameter combination found:"
   ]
  },
  {
   "cell_type": "code",
   "execution_count": null,
   "id": "0a101b03",
   "metadata": {},
   "outputs": [],
   "source": [
    "# Get the best params found\n",
    "rnd_search.best_params_"
   ]
  },
  {
   "cell_type": "code",
   "execution_count": null,
   "id": "0cbeb808",
   "metadata": {
    "scrolled": true
   },
   "outputs": [],
   "source": [
    "# Get the best estimator found\n",
    "rnd_search.best_estimator_"
   ]
  },
  {
   "cell_type": "code",
   "execution_count": null,
   "id": "d6d3ecbe",
   "metadata": {},
   "outputs": [],
   "source": [
    "# Final model \n",
    "final_model = rnd_search.best_estimator_  # includes preprocessing"
   ]
  },
  {
   "cell_type": "markdown",
   "id": "c6fe1765",
   "metadata": {},
   "source": [
    "# Evaluate the system on the Test set\n"
   ]
  },
  {
   "cell_type": "code",
   "execution_count": null,
   "id": "5cbab2c2",
   "metadata": {},
   "outputs": [],
   "source": [
    "# Separate featues from target\n",
    "X_test = strat_test_set.drop([\"Personal_Loan\"] + cols_to_drop, axis=1)\n",
    "y_test = strat_test_set[\"Personal_Loan\"].copy()"
   ]
  },
  {
   "cell_type": "code",
   "execution_count": null,
   "id": "aa3d370d",
   "metadata": {},
   "outputs": [],
   "source": [
    "# Make the predictions\n",
    "final_predictions = final_model.predict(X_test)"
   ]
  },
  {
   "cell_type": "code",
   "execution_count": null,
   "id": "72197343",
   "metadata": {},
   "outputs": [],
   "source": [
    "# Calculation of metric\n",
    "final_recall = recall_score(y_test, final_predictions)\n",
    "final_precision = precision_score(y_test, final_predictions)\n",
    "final_f1 = f1_score(y_test, final_predictions)\n",
    "\n",
    "print(f\"Final recall : {final_recall}\")\n",
    "print(f\"Final precision : {final_precision}\")\n",
    "print(f\"Final f1 : {final_f1}\")\n"
   ]
  },
  {
   "cell_type": "code",
   "execution_count": null,
   "id": "d7ae99d3",
   "metadata": {},
   "outputs": [],
   "source": [
    "from sklearn.metrics import confusion_matrix\n",
    "\n",
    "# Generate the confusion matrix\n",
    "cm = confusion_matrix(y_test, final_predictions)\n",
    "print(\"Confusion Matrix:\\n\", cm)"
   ]
  },
  {
   "cell_type": "code",
   "execution_count": null,
   "id": "5592137f",
   "metadata": {
    "scrolled": false
   },
   "outputs": [],
   "source": [
    "print(classification_report(y_test,final_predictions))"
   ]
  },
  {
   "cell_type": "markdown",
   "id": "8c8d2412",
   "metadata": {},
   "source": [
    "# Save the model\n"
   ]
  },
  {
   "cell_type": "code",
   "execution_count": null,
   "id": "f1ed8c62",
   "metadata": {},
   "outputs": [],
   "source": [
    "# Saving the best model\n",
    "joblib.dump(final_model, \"../data/processed_data/my_bank_model.pkl\")"
   ]
  },
  {
   "cell_type": "markdown",
   "id": "0233202c",
   "metadata": {},
   "source": [
    "# Load the model \n"
   ]
  },
  {
   "cell_type": "code",
   "execution_count": null,
   "id": "26175196",
   "metadata": {},
   "outputs": [],
   "source": [
    "# Reloading the saved model\n",
    "final_model_reloaded = joblib.load(\"../data/processed_data/my_bank_model.pkl\")"
   ]
  },
  {
   "cell_type": "code",
   "execution_count": null,
   "id": "5a6fce20",
   "metadata": {},
   "outputs": [],
   "source": [
    "# Make new predictions\n",
    "new_data = X_test.iloc[:5]  # pretend these are new districts\n",
    "predictions = final_model_reloaded.predict(new_data)\n",
    "predictions"
   ]
  },
  {
   "cell_type": "markdown",
   "id": "e0c5517c",
   "metadata": {},
   "source": [
    "# Conclusion\n"
   ]
  },
  {
   "cell_type": "markdown",
   "id": "736d0e4c",
   "metadata": {},
   "source": [
    "We got a model that has a **recall** higher than **90%** on class 1.\n",
    "\n"
   ]
  }
 ],
 "metadata": {
  "kernelspec": {
   "display_name": "Python 3 (ipykernel)",
   "language": "python",
   "name": "python3"
  },
  "language_info": {
   "codemirror_mode": {
    "name": "ipython",
    "version": 3
   },
   "file_extension": ".py",
   "mimetype": "text/x-python",
   "name": "python",
   "nbconvert_exporter": "python",
   "pygments_lexer": "ipython3",
   "version": "3.10.6"
  },
  "toc": {
   "base_numbering": 1,
   "nav_menu": {},
   "number_sections": true,
   "sideBar": true,
   "skip_h1_title": false,
   "title_cell": "Table of Contents",
   "title_sidebar": "Contents",
   "toc_cell": false,
   "toc_position": {
    "height": "calc(100% - 180px)",
    "left": "10px",
    "top": "150px",
    "width": "264.694px"
   },
   "toc_section_display": true,
   "toc_window_display": true
  },
  "varInspector": {
   "cols": {
    "lenName": 16,
    "lenType": 16,
    "lenVar": 40
   },
   "kernels_config": {
    "python": {
     "delete_cmd_postfix": "",
     "delete_cmd_prefix": "del ",
     "library": "var_list.py",
     "varRefreshCmd": "print(var_dic_list())"
    },
    "r": {
     "delete_cmd_postfix": ") ",
     "delete_cmd_prefix": "rm(",
     "library": "var_list.r",
     "varRefreshCmd": "cat(var_dic_list()) "
    }
   },
   "types_to_exclude": [
    "module",
    "function",
    "builtin_function_or_method",
    "instance",
    "_Feature"
   ],
   "window_display": false
  }
 },
 "nbformat": 4,
 "nbformat_minor": 5
}
