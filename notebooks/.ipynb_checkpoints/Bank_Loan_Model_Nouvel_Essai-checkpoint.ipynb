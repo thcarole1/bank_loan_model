{
 "cells": [
  {
   "cell_type": "markdown",
   "id": "8e161e88",
   "metadata": {},
   "source": [
    "# Bank loan model : The big picture\n"
   ]
  },
  {
   "cell_type": "markdown",
   "id": "f74436f0",
   "metadata": {},
   "source": [
    "This case is about a bank (**Thera Bank**) which has a growing customer base.\n",
    "\n",
    "\n",
    "Majority of these customers are **liability customers** (depositors) with varying size of deposits. The number of customers who are also borrowers (asset customers) is quite small, and **the bank is interested in expanding this base rapidly to bring in more loan business and in the process, earn more through the interest on loans**. \n",
    "\n",
    "\n",
    "In particular, the management wants to **explore ways of converting its liability customers to personal loan customers (while retaining them as depositors)**. \n",
    "\n",
    "\n",
    "A campaign that the bank ran last year for liability customers showed **a healthy conversion rate of over 9% success**. \n",
    "\n",
    "\n",
    "This has encouraged the retail marketing department to devise campaigns to better target marketing to increase the success ratio with a minimal budget.\n",
    "\n",
    "\n"
   ]
  },
  {
   "cell_type": "markdown",
   "id": "bc87e308",
   "metadata": {},
   "source": [
    "## Framing the problem\n"
   ]
  },
  {
   "cell_type": "markdown",
   "id": "5d838278",
   "metadata": {},
   "source": [
    "### What is the business objective ?\n"
   ]
  },
  {
   "cell_type": "markdown",
   "id": "217b7d49",
   "metadata": {},
   "source": [
    "The department wants to build a model that will **help them identify the potential customers who have a higher probability of purchasing the loan**. \n",
    "\n",
    "**This will increase the success ratio while at the same time reduce the cost of the campaign**.\n",
    "\n"
   ]
  },
  {
   "cell_type": "markdown",
   "id": "9daaeb98",
   "metadata": {},
   "source": [
    "### What is the type of learning ?\n",
    "\n"
   ]
  },
  {
   "cell_type": "markdown",
   "id": "dafee6b0",
   "metadata": {},
   "source": [
    "With the gathered information, we are ready to design our system.<br>\n",
    "\n",
    "- This is a **supervised learning task** because the model can train on labeled examples (customers who actually purchased a loan). <br>\n",
    "\n",
    "\n",
    "- It’s a **classification task** since the goal is to predict the likelihood of customers to purchase a loan or not. <br>\n",
    "\n"
   ]
  },
  {
   "cell_type": "markdown",
   "id": "1f4cf537",
   "metadata": {},
   "source": [
    "## Selecting a performance measure\n"
   ]
  },
  {
   "cell_type": "markdown",
   "id": "9ef2f8c8",
   "metadata": {},
   "source": [
    "The next step is to choose a performance measure. <br>"
   ]
  },
  {
   "cell_type": "markdown",
   "id": "0c3e820b",
   "metadata": {},
   "source": [
    "For our case, the main metric to use is the **recall** :   $$recall  = \\frac{TP}{TP + FN}$$<br>\n",
    "with **TP** : True Positives and **FN** : False Negatives\n",
    "\n"
   ]
  },
  {
   "cell_type": "markdown",
   "id": "a4af3612",
   "metadata": {},
   "source": [
    "In machine learning, recall is a performance metric that measures the ability of a classification model to correctly identify all relevant instances of the positive class. <br>\n",
    "\n",
    "It is particularly important in situations **where missing positive cases (false negatives) is more critical than incorrectly classifying negatives as positives**. <br>\n",
    "\n",
    "In other words, we are interested in **detecting most of the customers that would purchase a loan** and **we accept a higher number of False Positive** detection.\n",
    "\n",
    "\n"
   ]
  },
  {
   "cell_type": "markdown",
   "id": "c1ad7c0b",
   "metadata": {},
   "source": [
    "Additionally, we will calculate : <br>\n",
    "- the precision :  $$precision  = \\frac{TP}{TP + FP}$$ <br>\n",
    "\n",
    "- the F1 score :    $$F_1  = \\frac{2}{\\frac{1}{precision}+ \\frac{1}{recall}} = 2 \\times \\frac{precision \\times recall}{precision + recall} = \\frac{TP}{TP +  \\frac{FN + FP}{2}} $$ <br><br>\n",
    "\n",
    "\n",
    "with **TP** : True Positives and **FN** : False Negatives\n"
   ]
  },
  {
   "cell_type": "markdown",
   "id": "9fbaf689",
   "metadata": {},
   "source": [
    "In machine learning, **precision** is a metric used to evaluate the performance of a classification model, especially in cases where the classes are imbalanced or when the cost of false positives is high.<br>\n",
    "Precision focuses on the proportion of correctly identified positive instances out of all instances that were predicted as positive.\n",
    "\n",
    "The **F1 score** is a performance metric used in machine learning to evaluate the accuracy of a classification model, especially when dealing with imbalanced datasets. <br>\n",
    "It is the harmonic mean of precision and recall, providing a single score that balances the trade-off between them.\n"
   ]
  },
  {
   "cell_type": "markdown",
   "id": "a0220f92",
   "metadata": {},
   "source": [
    "# Getting the data\n"
   ]
  },
  {
   "cell_type": "markdown",
   "id": "dc23ae81",
   "metadata": {},
   "source": [
    "## Import libraries\n"
   ]
  },
  {
   "cell_type": "markdown",
   "id": "e3461f8c",
   "metadata": {},
   "source": [
    "Here will be imported all the necessary libraries that we'll use for this task !"
   ]
  },
  {
   "cell_type": "code",
   "execution_count": 1,
   "id": "2870ccfc",
   "metadata": {},
   "outputs": [],
   "source": [
    "import warnings\n",
    "warnings.filterwarnings(action = 'ignore')\n",
    "\n",
    "# General libraries\n",
    "import pandas as pd\n",
    "import numpy as np\n",
    "import math\n",
    "from scipy.stats import iqr\n",
    "\n",
    "\n",
    "# Visualization\n",
    "import matplotlib.pyplot as plt\n",
    "from pandas.plotting import scatter_matrix\n",
    "import seaborn as sns\n",
    "import plotly.express as px\n",
    "\n",
    "# Split train set and test set\n",
    "from sklearn.model_selection import train_test_split\n",
    "\n",
    "# Geolocation libraries\n",
    "import pgeocode \n",
    "from geopy.geocoders import Nominatim\n",
    "\n",
    "# Preprocessing the data\n",
    "from sklearn.impute import SimpleImputer\n",
    "from sklearn.preprocessing import OneHotEncoder, RobustScaler, StandardScaler, MinMaxScaler\n",
    "\n",
    "# Pipelines\n",
    "from sklearn.pipeline import make_pipeline\n",
    "from sklearn.pipeline import make_union\n",
    "from sklearn.compose import make_column_transformer\n",
    "\n",
    "\n",
    "# Models\n",
    "from sklearn.model_selection import cross_val_score, GridSearchCV, RandomizedSearchCV, cross_validate\n",
    "from sklearn.linear_model import LogisticRegression\n",
    "from sklearn.svm import LinearSVC\n",
    "from sklearn.neighbors import KNeighborsClassifier\n",
    "\n",
    "\n",
    "# Scores\n",
    "from sklearn.metrics import recall_score, precision_score, f1_score\n"
   ]
  },
  {
   "cell_type": "markdown",
   "id": "f417d4b5",
   "metadata": {},
   "source": [
    "## Import the data\n"
   ]
  },
  {
   "cell_type": "markdown",
   "id": "86816933",
   "metadata": {},
   "source": [
    "We import the data and store it locally."
   ]
  },
  {
   "cell_type": "code",
   "execution_count": 2,
   "id": "a0dd0379",
   "metadata": {
    "scrolled": false
   },
   "outputs": [
    {
     "data": {
      "text/html": [
       "<div>\n",
       "<style scoped>\n",
       "    .dataframe tbody tr th:only-of-type {\n",
       "        vertical-align: middle;\n",
       "    }\n",
       "\n",
       "    .dataframe tbody tr th {\n",
       "        vertical-align: top;\n",
       "    }\n",
       "\n",
       "    .dataframe thead th {\n",
       "        text-align: right;\n",
       "    }\n",
       "</style>\n",
       "<table border=\"1\" class=\"dataframe\">\n",
       "  <thead>\n",
       "    <tr style=\"text-align: right;\">\n",
       "      <th></th>\n",
       "      <th>ID</th>\n",
       "      <th>Age</th>\n",
       "      <th>Experience</th>\n",
       "      <th>Income</th>\n",
       "      <th>ZIP Code</th>\n",
       "      <th>Family</th>\n",
       "      <th>CCAvg</th>\n",
       "      <th>Education</th>\n",
       "      <th>Mortgage</th>\n",
       "      <th>Personal Loan</th>\n",
       "      <th>Securities Account</th>\n",
       "      <th>CD Account</th>\n",
       "      <th>Online</th>\n",
       "      <th>CreditCard</th>\n",
       "    </tr>\n",
       "  </thead>\n",
       "  <tbody>\n",
       "    <tr>\n",
       "      <th>0</th>\n",
       "      <td>1</td>\n",
       "      <td>25</td>\n",
       "      <td>1</td>\n",
       "      <td>49</td>\n",
       "      <td>91107</td>\n",
       "      <td>4</td>\n",
       "      <td>1.6</td>\n",
       "      <td>1</td>\n",
       "      <td>0</td>\n",
       "      <td>0</td>\n",
       "      <td>1</td>\n",
       "      <td>0</td>\n",
       "      <td>0</td>\n",
       "      <td>0</td>\n",
       "    </tr>\n",
       "    <tr>\n",
       "      <th>1</th>\n",
       "      <td>2</td>\n",
       "      <td>45</td>\n",
       "      <td>19</td>\n",
       "      <td>34</td>\n",
       "      <td>90089</td>\n",
       "      <td>3</td>\n",
       "      <td>1.5</td>\n",
       "      <td>1</td>\n",
       "      <td>0</td>\n",
       "      <td>0</td>\n",
       "      <td>1</td>\n",
       "      <td>0</td>\n",
       "      <td>0</td>\n",
       "      <td>0</td>\n",
       "    </tr>\n",
       "    <tr>\n",
       "      <th>2</th>\n",
       "      <td>3</td>\n",
       "      <td>39</td>\n",
       "      <td>15</td>\n",
       "      <td>11</td>\n",
       "      <td>94720</td>\n",
       "      <td>1</td>\n",
       "      <td>1.0</td>\n",
       "      <td>1</td>\n",
       "      <td>0</td>\n",
       "      <td>0</td>\n",
       "      <td>0</td>\n",
       "      <td>0</td>\n",
       "      <td>0</td>\n",
       "      <td>0</td>\n",
       "    </tr>\n",
       "    <tr>\n",
       "      <th>3</th>\n",
       "      <td>4</td>\n",
       "      <td>35</td>\n",
       "      <td>9</td>\n",
       "      <td>100</td>\n",
       "      <td>94112</td>\n",
       "      <td>1</td>\n",
       "      <td>2.7</td>\n",
       "      <td>2</td>\n",
       "      <td>0</td>\n",
       "      <td>0</td>\n",
       "      <td>0</td>\n",
       "      <td>0</td>\n",
       "      <td>0</td>\n",
       "      <td>0</td>\n",
       "    </tr>\n",
       "    <tr>\n",
       "      <th>4</th>\n",
       "      <td>5</td>\n",
       "      <td>35</td>\n",
       "      <td>8</td>\n",
       "      <td>45</td>\n",
       "      <td>91330</td>\n",
       "      <td>4</td>\n",
       "      <td>1.0</td>\n",
       "      <td>2</td>\n",
       "      <td>0</td>\n",
       "      <td>0</td>\n",
       "      <td>0</td>\n",
       "      <td>0</td>\n",
       "      <td>0</td>\n",
       "      <td>1</td>\n",
       "    </tr>\n",
       "  </tbody>\n",
       "</table>\n",
       "</div>"
      ],
      "text/plain": [
       "   ID  Age  Experience  Income  ZIP Code  Family  CCAvg  Education  Mortgage  \\\n",
       "0   1   25           1      49     91107       4    1.6          1         0   \n",
       "1   2   45          19      34     90089       3    1.5          1         0   \n",
       "2   3   39          15      11     94720       1    1.0          1         0   \n",
       "3   4   35           9     100     94112       1    2.7          2         0   \n",
       "4   5   35           8      45     91330       4    1.0          2         0   \n",
       "\n",
       "   Personal Loan  Securities Account  CD Account  Online  CreditCard  \n",
       "0              0                   1           0       0           0  \n",
       "1              0                   1           0       0           0  \n",
       "2              0                   0           0       0           0  \n",
       "3              0                   0           0       0           0  \n",
       "4              0                   0           0       0           1  "
      ]
     },
     "execution_count": 2,
     "metadata": {},
     "output_type": "execute_result"
    }
   ],
   "source": [
    "# Retrieve the data stored locally\n",
    "path = \"../data/raw_data\"\n",
    "banking_data = pd.read_excel(path + \"/Bank_Personal_Loan_Modelling.xlsx\", sheet_name=\"Data\")\n",
    "\n",
    "banking_data.head()"
   ]
  },
  {
   "cell_type": "code",
   "execution_count": 3,
   "id": "c87df646",
   "metadata": {},
   "outputs": [
    {
     "data": {
      "text/plain": [
       "(5000, 14)"
      ]
     },
     "execution_count": 3,
     "metadata": {},
     "output_type": "execute_result"
    }
   ],
   "source": [
    "banking_data.shape"
   ]
  },
  {
   "cell_type": "markdown",
   "id": "4c71b65e",
   "metadata": {},
   "source": [
    "## Describe the features\n"
   ]
  },
  {
   "cell_type": "markdown",
   "id": "9abc9f13",
   "metadata": {},
   "source": [
    "We have the following features : <br>\n",
    "**ID**: Customer ID<br>\n",
    "**Age**: Customer's age in completed years<br>\n",
    "**Experience**: #years of professional experience<br>\n",
    "**Income**: Annual income of the customer (**in thousands of dollars**) <br>\n",
    "**ZIP_Code**: Home Address ZIP code.<br>\n",
    "**Family**: Family size of the customer <br>\n",
    "**CCAvg**: Avg. spending on credit cards per month (**in thousands of dollars**)<br>\n",
    "**Education**: Education Level. 1: Undergrad; 2: Graduate; 3: Advanced/Professional<br>\n",
    "**Mortgage**: Value of house mortgage if any (**in thousands of dollars**).<br>\n",
    "**Personal Loan**: Did this customer accept the personal loan offered in the last campaign?<br>\n",
    "**Securities Account**: Does the customer have a securities account with the bank?<br>\n",
    "**CD Account**: Does the customer have a certificate of deposit (CD) account with the bank?<br>\n",
    "**Online**: Does the customer use internet banking facilities?<br>\n",
    "**CreditCard**: Does the customer use a credit card issued by UniversalBank?<br>\n",
    "\n"
   ]
  },
  {
   "cell_type": "markdown",
   "id": "3318e275",
   "metadata": {},
   "source": [
    "## Rewrite feature names\n"
   ]
  },
  {
   "cell_type": "markdown",
   "id": "2de4d474",
   "metadata": {},
   "source": [
    "Updating the feature names for easier use.\n"
   ]
  },
  {
   "cell_type": "code",
   "execution_count": 4,
   "id": "05559dd3",
   "metadata": {},
   "outputs": [
    {
     "data": {
      "text/html": [
       "<div>\n",
       "<style scoped>\n",
       "    .dataframe tbody tr th:only-of-type {\n",
       "        vertical-align: middle;\n",
       "    }\n",
       "\n",
       "    .dataframe tbody tr th {\n",
       "        vertical-align: top;\n",
       "    }\n",
       "\n",
       "    .dataframe thead th {\n",
       "        text-align: right;\n",
       "    }\n",
       "</style>\n",
       "<table border=\"1\" class=\"dataframe\">\n",
       "  <thead>\n",
       "    <tr style=\"text-align: right;\">\n",
       "      <th></th>\n",
       "      <th>ID</th>\n",
       "      <th>Age</th>\n",
       "      <th>Experience</th>\n",
       "      <th>Income</th>\n",
       "      <th>ZIP_Code</th>\n",
       "      <th>Family</th>\n",
       "      <th>CCAvg</th>\n",
       "      <th>Education</th>\n",
       "      <th>Mortgage</th>\n",
       "      <th>Personal_Loan</th>\n",
       "      <th>Securities_Account</th>\n",
       "      <th>CD_Account</th>\n",
       "      <th>Online</th>\n",
       "      <th>CreditCard</th>\n",
       "    </tr>\n",
       "  </thead>\n",
       "  <tbody>\n",
       "    <tr>\n",
       "      <th>0</th>\n",
       "      <td>1</td>\n",
       "      <td>25</td>\n",
       "      <td>1</td>\n",
       "      <td>49</td>\n",
       "      <td>91107</td>\n",
       "      <td>4</td>\n",
       "      <td>1.6</td>\n",
       "      <td>1</td>\n",
       "      <td>0</td>\n",
       "      <td>0</td>\n",
       "      <td>1</td>\n",
       "      <td>0</td>\n",
       "      <td>0</td>\n",
       "      <td>0</td>\n",
       "    </tr>\n",
       "    <tr>\n",
       "      <th>1</th>\n",
       "      <td>2</td>\n",
       "      <td>45</td>\n",
       "      <td>19</td>\n",
       "      <td>34</td>\n",
       "      <td>90089</td>\n",
       "      <td>3</td>\n",
       "      <td>1.5</td>\n",
       "      <td>1</td>\n",
       "      <td>0</td>\n",
       "      <td>0</td>\n",
       "      <td>1</td>\n",
       "      <td>0</td>\n",
       "      <td>0</td>\n",
       "      <td>0</td>\n",
       "    </tr>\n",
       "  </tbody>\n",
       "</table>\n",
       "</div>"
      ],
      "text/plain": [
       "   ID  Age  Experience  Income  ZIP_Code  Family  CCAvg  Education  Mortgage  \\\n",
       "0   1   25           1      49     91107       4    1.6          1         0   \n",
       "1   2   45          19      34     90089       3    1.5          1         0   \n",
       "\n",
       "   Personal_Loan  Securities_Account  CD_Account  Online  CreditCard  \n",
       "0              0                   1           0       0           0  \n",
       "1              0                   1           0       0           0  "
      ]
     },
     "execution_count": 4,
     "metadata": {},
     "output_type": "execute_result"
    }
   ],
   "source": [
    "# Updating the feature names for easier use.\n",
    "banking_data = banking_data.rename(columns={\n",
    "                                            \"ZIP Code\":\"ZIP_Code\", \n",
    "                                            \"Personal Loan\":\"Personal_Loan\",\n",
    "                                            \"Securities Account\":\"Securities_Account\",\n",
    "                                            \"CD Account\": \"CD_Account\"\n",
    "                                            })\n",
    "\n",
    "banking_data.head(2)"
   ]
  },
  {
   "cell_type": "markdown",
   "id": "ae858f06",
   "metadata": {},
   "source": [
    "## Dropping features\n"
   ]
  },
  {
   "cell_type": "markdown",
   "id": "83a31a5d",
   "metadata": {},
   "source": [
    "We won't need the ID column. Let's drop it !\n"
   ]
  },
  {
   "cell_type": "code",
   "execution_count": 5,
   "id": "ec5d8b24",
   "metadata": {
    "scrolled": false
   },
   "outputs": [
    {
     "data": {
      "text/html": [
       "<div>\n",
       "<style scoped>\n",
       "    .dataframe tbody tr th:only-of-type {\n",
       "        vertical-align: middle;\n",
       "    }\n",
       "\n",
       "    .dataframe tbody tr th {\n",
       "        vertical-align: top;\n",
       "    }\n",
       "\n",
       "    .dataframe thead th {\n",
       "        text-align: right;\n",
       "    }\n",
       "</style>\n",
       "<table border=\"1\" class=\"dataframe\">\n",
       "  <thead>\n",
       "    <tr style=\"text-align: right;\">\n",
       "      <th></th>\n",
       "      <th>Age</th>\n",
       "      <th>Experience</th>\n",
       "      <th>Income</th>\n",
       "      <th>ZIP_Code</th>\n",
       "      <th>Family</th>\n",
       "      <th>CCAvg</th>\n",
       "      <th>Education</th>\n",
       "      <th>Mortgage</th>\n",
       "      <th>Personal_Loan</th>\n",
       "      <th>Securities_Account</th>\n",
       "      <th>CD_Account</th>\n",
       "      <th>Online</th>\n",
       "      <th>CreditCard</th>\n",
       "    </tr>\n",
       "  </thead>\n",
       "  <tbody>\n",
       "    <tr>\n",
       "      <th>0</th>\n",
       "      <td>25</td>\n",
       "      <td>1</td>\n",
       "      <td>49</td>\n",
       "      <td>91107</td>\n",
       "      <td>4</td>\n",
       "      <td>1.6</td>\n",
       "      <td>1</td>\n",
       "      <td>0</td>\n",
       "      <td>0</td>\n",
       "      <td>1</td>\n",
       "      <td>0</td>\n",
       "      <td>0</td>\n",
       "      <td>0</td>\n",
       "    </tr>\n",
       "    <tr>\n",
       "      <th>1</th>\n",
       "      <td>45</td>\n",
       "      <td>19</td>\n",
       "      <td>34</td>\n",
       "      <td>90089</td>\n",
       "      <td>3</td>\n",
       "      <td>1.5</td>\n",
       "      <td>1</td>\n",
       "      <td>0</td>\n",
       "      <td>0</td>\n",
       "      <td>1</td>\n",
       "      <td>0</td>\n",
       "      <td>0</td>\n",
       "      <td>0</td>\n",
       "    </tr>\n",
       "  </tbody>\n",
       "</table>\n",
       "</div>"
      ],
      "text/plain": [
       "   Age  Experience  Income  ZIP_Code  Family  CCAvg  Education  Mortgage  \\\n",
       "0   25           1      49     91107       4    1.6          1         0   \n",
       "1   45          19      34     90089       3    1.5          1         0   \n",
       "\n",
       "   Personal_Loan  Securities_Account  CD_Account  Online  CreditCard  \n",
       "0              0                   1           0       0           0  \n",
       "1              0                   1           0       0           0  "
      ]
     },
     "execution_count": 5,
     "metadata": {},
     "output_type": "execute_result"
    }
   ],
   "source": [
    "# We won't need the ID column. Let's drop it !\n",
    "banking_data = banking_data.drop(columns=['ID'])\n",
    "banking_data.head(2)"
   ]
  },
  {
   "cell_type": "markdown",
   "id": "3f78ecd9",
   "metadata": {},
   "source": [
    "## Cleaning the data"
   ]
  },
  {
   "cell_type": "markdown",
   "id": "f4dfb272",
   "metadata": {},
   "source": [
    "### Processing duplicates"
   ]
  },
  {
   "cell_type": "markdown",
   "id": "37c314ff",
   "metadata": {},
   "source": [
    "We check the number of duplicated rows."
   ]
  },
  {
   "cell_type": "code",
   "execution_count": 6,
   "id": "424da637",
   "metadata": {
    "scrolled": true
   },
   "outputs": [
    {
     "name": "stdout",
     "output_type": "stream",
     "text": [
      "Number of rows : 5000\n",
      "Number of duplicated rows : 0\n",
      "Number of rows (AFTER dropping duplicates) : 5000\n"
     ]
    }
   ],
   "source": [
    "# Check number of rows before removing duplicates\n",
    "print(f\"Number of rows : {len(banking_data)}\")\n",
    "\n",
    "# Compute the number of duplicated rows\n",
    "print(f\"Number of duplicated rows : {banking_data.duplicated().sum()}\")\n",
    "\n",
    "# Remove duplicates\n",
    "banking_data = banking_data.drop_duplicates() \n",
    "\n",
    "# Check number of rows before removing duplicates\n",
    "print(f\"Number of rows (AFTER dropping duplicates) : {len(banking_data)}\")"
   ]
  },
  {
   "cell_type": "markdown",
   "id": "6937d537",
   "metadata": {},
   "source": [
    "### Processing missing data\n",
    "\n",
    "\n"
   ]
  },
  {
   "cell_type": "markdown",
   "id": "8a15a803",
   "metadata": {},
   "source": [
    "We check the percentage of missing values in the data at hand."
   ]
  },
  {
   "cell_type": "code",
   "execution_count": 7,
   "id": "33f7a334",
   "metadata": {},
   "outputs": [
    {
     "data": {
      "text/plain": [
       "Series([], dtype: float64)"
      ]
     },
     "execution_count": 7,
     "metadata": {},
     "output_type": "execute_result"
    }
   ],
   "source": [
    "def get_missing_data(data):       \n",
    "    # Counting the percentage of NaN for each column\n",
    "    missing_data = data.isnull().sum().sort_values(ascending=False)/len(data)*100 #NaN percentage for each column\n",
    "\n",
    "    # missing_data\n",
    "    missing_data = missing_data[missing_data > 0]\n",
    "\n",
    "    #Missing data column names\n",
    "    missing_cols = missing_data.index.values.tolist()\n",
    "\n",
    "    #Show missing data in percent\n",
    "    return missing_data\n",
    "\n",
    "missing_data = get_missing_data(banking_data)\n",
    "missing_data\n"
   ]
  },
  {
   "cell_type": "markdown",
   "id": "57e3eefa",
   "metadata": {},
   "source": [
    "We don't have missing values.\n"
   ]
  },
  {
   "cell_type": "markdown",
   "id": "309acb1a",
   "metadata": {},
   "source": [
    "# Exploring the data\n"
   ]
  },
  {
   "cell_type": "markdown",
   "id": "d5819656",
   "metadata": {},
   "source": [
    "## Quick exploration"
   ]
  },
  {
   "cell_type": "code",
   "execution_count": 8,
   "id": "7b8d1fee",
   "metadata": {},
   "outputs": [
    {
     "name": "stdout",
     "output_type": "stream",
     "text": [
      "<class 'pandas.core.frame.DataFrame'>\n",
      "Int64Index: 5000 entries, 0 to 4999\n",
      "Data columns (total 13 columns):\n",
      " #   Column              Non-Null Count  Dtype  \n",
      "---  ------              --------------  -----  \n",
      " 0   Age                 5000 non-null   int64  \n",
      " 1   Experience          5000 non-null   int64  \n",
      " 2   Income              5000 non-null   int64  \n",
      " 3   ZIP_Code            5000 non-null   int64  \n",
      " 4   Family              5000 non-null   int64  \n",
      " 5   CCAvg               5000 non-null   float64\n",
      " 6   Education           5000 non-null   int64  \n",
      " 7   Mortgage            5000 non-null   int64  \n",
      " 8   Personal_Loan       5000 non-null   int64  \n",
      " 9   Securities_Account  5000 non-null   int64  \n",
      " 10  CD_Account          5000 non-null   int64  \n",
      " 11  Online              5000 non-null   int64  \n",
      " 12  CreditCard          5000 non-null   int64  \n",
      "dtypes: float64(1), int64(12)\n",
      "memory usage: 546.9 KB\n"
     ]
    }
   ],
   "source": [
    "# summary of the DataFrame\n",
    "banking_data.info()"
   ]
  },
  {
   "cell_type": "code",
   "execution_count": 9,
   "id": "6e999d5c",
   "metadata": {
    "scrolled": true
   },
   "outputs": [
    {
     "data": {
      "text/html": [
       "<div>\n",
       "<style scoped>\n",
       "    .dataframe tbody tr th:only-of-type {\n",
       "        vertical-align: middle;\n",
       "    }\n",
       "\n",
       "    .dataframe tbody tr th {\n",
       "        vertical-align: top;\n",
       "    }\n",
       "\n",
       "    .dataframe thead th {\n",
       "        text-align: right;\n",
       "    }\n",
       "</style>\n",
       "<table border=\"1\" class=\"dataframe\">\n",
       "  <thead>\n",
       "    <tr style=\"text-align: right;\">\n",
       "      <th></th>\n",
       "      <th>Age</th>\n",
       "      <th>Experience</th>\n",
       "      <th>Income</th>\n",
       "      <th>ZIP_Code</th>\n",
       "      <th>Family</th>\n",
       "      <th>CCAvg</th>\n",
       "      <th>Education</th>\n",
       "      <th>Mortgage</th>\n",
       "      <th>Personal_Loan</th>\n",
       "      <th>Securities_Account</th>\n",
       "      <th>CD_Account</th>\n",
       "      <th>Online</th>\n",
       "      <th>CreditCard</th>\n",
       "    </tr>\n",
       "  </thead>\n",
       "  <tbody>\n",
       "    <tr>\n",
       "      <th>count</th>\n",
       "      <td>5000.000000</td>\n",
       "      <td>5000.000000</td>\n",
       "      <td>5000.000000</td>\n",
       "      <td>5000.000000</td>\n",
       "      <td>5000.000000</td>\n",
       "      <td>5000.000000</td>\n",
       "      <td>5000.000000</td>\n",
       "      <td>5000.000000</td>\n",
       "      <td>5000.000000</td>\n",
       "      <td>5000.000000</td>\n",
       "      <td>5000.00000</td>\n",
       "      <td>5000.000000</td>\n",
       "      <td>5000.000000</td>\n",
       "    </tr>\n",
       "    <tr>\n",
       "      <th>mean</th>\n",
       "      <td>45.338400</td>\n",
       "      <td>20.104600</td>\n",
       "      <td>73.774200</td>\n",
       "      <td>93152.503000</td>\n",
       "      <td>2.396400</td>\n",
       "      <td>1.937913</td>\n",
       "      <td>1.881000</td>\n",
       "      <td>56.498800</td>\n",
       "      <td>0.096000</td>\n",
       "      <td>0.104400</td>\n",
       "      <td>0.06040</td>\n",
       "      <td>0.596800</td>\n",
       "      <td>0.294000</td>\n",
       "    </tr>\n",
       "    <tr>\n",
       "      <th>std</th>\n",
       "      <td>11.463166</td>\n",
       "      <td>11.467954</td>\n",
       "      <td>46.033729</td>\n",
       "      <td>2121.852197</td>\n",
       "      <td>1.147663</td>\n",
       "      <td>1.747666</td>\n",
       "      <td>0.839869</td>\n",
       "      <td>101.713802</td>\n",
       "      <td>0.294621</td>\n",
       "      <td>0.305809</td>\n",
       "      <td>0.23825</td>\n",
       "      <td>0.490589</td>\n",
       "      <td>0.455637</td>\n",
       "    </tr>\n",
       "    <tr>\n",
       "      <th>min</th>\n",
       "      <td>23.000000</td>\n",
       "      <td>-3.000000</td>\n",
       "      <td>8.000000</td>\n",
       "      <td>9307.000000</td>\n",
       "      <td>1.000000</td>\n",
       "      <td>0.000000</td>\n",
       "      <td>1.000000</td>\n",
       "      <td>0.000000</td>\n",
       "      <td>0.000000</td>\n",
       "      <td>0.000000</td>\n",
       "      <td>0.00000</td>\n",
       "      <td>0.000000</td>\n",
       "      <td>0.000000</td>\n",
       "    </tr>\n",
       "    <tr>\n",
       "      <th>25%</th>\n",
       "      <td>35.000000</td>\n",
       "      <td>10.000000</td>\n",
       "      <td>39.000000</td>\n",
       "      <td>91911.000000</td>\n",
       "      <td>1.000000</td>\n",
       "      <td>0.700000</td>\n",
       "      <td>1.000000</td>\n",
       "      <td>0.000000</td>\n",
       "      <td>0.000000</td>\n",
       "      <td>0.000000</td>\n",
       "      <td>0.00000</td>\n",
       "      <td>0.000000</td>\n",
       "      <td>0.000000</td>\n",
       "    </tr>\n",
       "    <tr>\n",
       "      <th>50%</th>\n",
       "      <td>45.000000</td>\n",
       "      <td>20.000000</td>\n",
       "      <td>64.000000</td>\n",
       "      <td>93437.000000</td>\n",
       "      <td>2.000000</td>\n",
       "      <td>1.500000</td>\n",
       "      <td>2.000000</td>\n",
       "      <td>0.000000</td>\n",
       "      <td>0.000000</td>\n",
       "      <td>0.000000</td>\n",
       "      <td>0.00000</td>\n",
       "      <td>1.000000</td>\n",
       "      <td>0.000000</td>\n",
       "    </tr>\n",
       "    <tr>\n",
       "      <th>75%</th>\n",
       "      <td>55.000000</td>\n",
       "      <td>30.000000</td>\n",
       "      <td>98.000000</td>\n",
       "      <td>94608.000000</td>\n",
       "      <td>3.000000</td>\n",
       "      <td>2.500000</td>\n",
       "      <td>3.000000</td>\n",
       "      <td>101.000000</td>\n",
       "      <td>0.000000</td>\n",
       "      <td>0.000000</td>\n",
       "      <td>0.00000</td>\n",
       "      <td>1.000000</td>\n",
       "      <td>1.000000</td>\n",
       "    </tr>\n",
       "    <tr>\n",
       "      <th>max</th>\n",
       "      <td>67.000000</td>\n",
       "      <td>43.000000</td>\n",
       "      <td>224.000000</td>\n",
       "      <td>96651.000000</td>\n",
       "      <td>4.000000</td>\n",
       "      <td>10.000000</td>\n",
       "      <td>3.000000</td>\n",
       "      <td>635.000000</td>\n",
       "      <td>1.000000</td>\n",
       "      <td>1.000000</td>\n",
       "      <td>1.00000</td>\n",
       "      <td>1.000000</td>\n",
       "      <td>1.000000</td>\n",
       "    </tr>\n",
       "  </tbody>\n",
       "</table>\n",
       "</div>"
      ],
      "text/plain": [
       "               Age   Experience       Income      ZIP_Code       Family  \\\n",
       "count  5000.000000  5000.000000  5000.000000   5000.000000  5000.000000   \n",
       "mean     45.338400    20.104600    73.774200  93152.503000     2.396400   \n",
       "std      11.463166    11.467954    46.033729   2121.852197     1.147663   \n",
       "min      23.000000    -3.000000     8.000000   9307.000000     1.000000   \n",
       "25%      35.000000    10.000000    39.000000  91911.000000     1.000000   \n",
       "50%      45.000000    20.000000    64.000000  93437.000000     2.000000   \n",
       "75%      55.000000    30.000000    98.000000  94608.000000     3.000000   \n",
       "max      67.000000    43.000000   224.000000  96651.000000     4.000000   \n",
       "\n",
       "             CCAvg    Education     Mortgage  Personal_Loan  \\\n",
       "count  5000.000000  5000.000000  5000.000000    5000.000000   \n",
       "mean      1.937913     1.881000    56.498800       0.096000   \n",
       "std       1.747666     0.839869   101.713802       0.294621   \n",
       "min       0.000000     1.000000     0.000000       0.000000   \n",
       "25%       0.700000     1.000000     0.000000       0.000000   \n",
       "50%       1.500000     2.000000     0.000000       0.000000   \n",
       "75%       2.500000     3.000000   101.000000       0.000000   \n",
       "max      10.000000     3.000000   635.000000       1.000000   \n",
       "\n",
       "       Securities_Account  CD_Account       Online   CreditCard  \n",
       "count         5000.000000  5000.00000  5000.000000  5000.000000  \n",
       "mean             0.104400     0.06040     0.596800     0.294000  \n",
       "std              0.305809     0.23825     0.490589     0.455637  \n",
       "min              0.000000     0.00000     0.000000     0.000000  \n",
       "25%              0.000000     0.00000     0.000000     0.000000  \n",
       "50%              0.000000     0.00000     1.000000     0.000000  \n",
       "75%              0.000000     0.00000     1.000000     1.000000  \n",
       "max              1.000000     1.00000     1.000000     1.000000  "
      ]
     },
     "execution_count": 9,
     "metadata": {},
     "output_type": "execute_result"
    }
   ],
   "source": [
    "# Descriptive statistics\n",
    "banking_data.describe()"
   ]
  },
  {
   "cell_type": "code",
   "execution_count": 10,
   "id": "3aeacd00",
   "metadata": {
    "scrolled": true
   },
   "outputs": [
    {
     "data": {
      "image/png": "[encoded data removed]",
      "text/plain": [
       "<Figure size 1200x800 with 16 Axes>"
      ]
     },
     "metadata": {},
     "output_type": "display_data"
    }
   ],
   "source": [
    "# Histogram of the DataFrame’s columns\n",
    "banking_data.hist(bins=150, figsize=(12, 8))\n",
    "plt.tight_layout()\n",
    "plt.show()"
   ]
  },
  {
   "cell_type": "markdown",
   "id": "a8655273",
   "metadata": {},
   "source": [
    "## Test set and train set"
   ]
  },
  {
   "cell_type": "markdown",
   "id": "1c25fbf8",
   "metadata": {},
   "source": [
    "### Check target balance\n"
   ]
  },
  {
   "cell_type": "markdown",
   "id": "39fe3c01",
   "metadata": {},
   "source": [
    "Our target is **Personal_Loan**. <br> \n",
    "Let's check the balance of the target.\n"
   ]
  },
  {
   "cell_type": "code",
   "execution_count": 11,
   "id": "4dea55d5",
   "metadata": {},
   "outputs": [
    {
     "data": {
      "text/plain": [
       "0    90.4\n",
       "1     9.6\n",
       "Name: Personal_Loan, dtype: float64"
      ]
     },
     "execution_count": 11,
     "metadata": {},
     "output_type": "execute_result"
    }
   ],
   "source": [
    "# Our target is Personal_Loan. Let's check the balance of the target.\n",
    "banking_data.Personal_Loan.value_counts()/len(banking_data)*100\n"
   ]
  },
  {
   "cell_type": "markdown",
   "id": "4b3db090",
   "metadata": {},
   "source": [
    "Less than 10% of customers accepted the personal loan offered in the last campaign. <br>\n",
    "We'll need to stratify the test set and the train set to have the same proportions of labels. \n"
   ]
  },
  {
   "cell_type": "markdown",
   "id": "2b3ca27a",
   "metadata": {},
   "source": [
    "### Train set and test set: Stratification\n",
    "\n"
   ]
  },
  {
   "cell_type": "markdown",
   "id": "ccfeff04",
   "metadata": {},
   "source": [
    "We split the data in : <br>\n",
    "- a train on which we will train our final model\n",
    "- a test set we will use to evaluate the model (in the end)"
   ]
  },
  {
   "cell_type": "code",
   "execution_count": 12,
   "id": "eff2adc3",
   "metadata": {},
   "outputs": [],
   "source": [
    "# Create train set and test set (stratified based on median incom categories)\n",
    "strat_train_set, strat_test_set = train_test_split(\n",
    "    banking_data, test_size=0.2, stratify=banking_data[\"Personal_Loan\"], random_state=42)"
   ]
  },
  {
   "cell_type": "code",
   "execution_count": 13,
   "id": "f301e2e3",
   "metadata": {},
   "outputs": [
    {
     "data": {
      "text/plain": [
       "0    90.4\n",
       "1     9.6\n",
       "Name: Personal_Loan, dtype: float64"
      ]
     },
     "execution_count": 13,
     "metadata": {},
     "output_type": "execute_result"
    }
   ],
   "source": [
    "# Check of stratified train set\n",
    "strat_train_set.Personal_Loan.value_counts()/len(strat_train_set)*100"
   ]
  },
  {
   "cell_type": "code",
   "execution_count": 14,
   "id": "3e38e4e9",
   "metadata": {},
   "outputs": [
    {
     "data": {
      "text/plain": [
       "0    90.4\n",
       "1     9.6\n",
       "Name: Personal_Loan, dtype: float64"
      ]
     },
     "execution_count": 14,
     "metadata": {},
     "output_type": "execute_result"
    }
   ],
   "source": [
    "# Check of stratified test set\n",
    "strat_test_set.Personal_Loan.value_counts()/len(strat_test_set)*100"
   ]
  },
  {
   "cell_type": "markdown",
   "id": "30495b0d",
   "metadata": {},
   "source": [
    "# Prepare the data for Machine Learning Algorithms\n"
   ]
  },
  {
   "cell_type": "markdown",
   "id": "8b507eb0",
   "metadata": {},
   "source": [
    "We separate the features from the target."
   ]
  },
  {
   "cell_type": "code",
   "execution_count": 15,
   "id": "43376ef8",
   "metadata": {},
   "outputs": [],
   "source": [
    "# Separate featues from target\n",
    "X = strat_train_set.drop([\"Personal_Loan\"], axis=1)\n",
    "y = strat_train_set[\"Personal_Loan\"].copy()"
   ]
  },
  {
   "cell_type": "markdown",
   "id": "931f1f34",
   "metadata": {},
   "source": [
    "## Checking for outliers in numerical features\n"
   ]
  },
  {
   "cell_type": "markdown",
   "id": "71070ae5",
   "metadata": {},
   "source": [
    "Let's check the outliers of the numerical columns.\n"
   ]
  },
  {
   "cell_type": "code",
   "execution_count": 19,
   "id": "d9c945ea",
   "metadata": {},
   "outputs": [
    {
     "data": {
      "image/png": "[encoded data removed]",
      "text/plain": [
       "<Figure size 1000x2000 with 12 Axes>"
      ]
     },
     "metadata": {},
     "output_type": "display_data"
    }
   ],
   "source": [
    "# Plot boxplots of each numerical column\n",
    "plt.figure(figsize=(10, 20))\n",
    "\n",
    "# for column in housing_num_tr.columns: \n",
    "for i, column in enumerate(X.columns, 1):\n",
    "    plt.subplot(13, 3, i)\n",
    "    sns.boxplot(x=X[column], palette='Set2')\n",
    "    plt.title(f'Boxplot of {column}')\n",
    "    plt.xlabel(column)\n",
    "    plt.ylabel('Value')\n",
    "\n",
    "plt.tight_layout()\n",
    "plt.show()\n"
   ]
  },
  {
   "cell_type": "markdown",
   "id": "bf4ebccd",
   "metadata": {},
   "source": [
    "It would be useful to extract the features containing outliers **automatically**. It will be used for pipeline implementation.\n"
   ]
  },
  {
   "cell_type": "markdown",
   "id": "01478a5e",
   "metadata": {},
   "source": [
    "Let's extract the features with outliers **numerically** !\n"
   ]
  },
  {
   "cell_type": "code",
   "execution_count": 20,
   "id": "947c6499",
   "metadata": {},
   "outputs": [],
   "source": [
    "# Identify the columns with outliers\n",
    "numerical_columns_w_outliers = []\n",
    "numerical_columns_no_outliers = []\n",
    "\n",
    "for col in X.columns: \n",
    "    # Calculate IQR\n",
    "    iqr_value = iqr(X[col])\n",
    "\n",
    "    #Calculate 1st quartile\n",
    "    q1 = np.percentile(X[col],25)\n",
    "\n",
    "    #Calculate 3rd quartile\n",
    "    q3 = np.percentile(X[col],75)\n",
    "\n",
    "    #Calculate lower limit below which data point is considered an outlier\n",
    "    outlier_lim_low = q1 - 1.5 * iqr_value\n",
    "\n",
    "    #Calculate higher limit above which data point is considered an outlier\n",
    "    outlier_lim_high = q3 + 1.5 * iqr_value\n",
    "    \n",
    "    #Calculate number of 'low' outliers\n",
    "    outlier_condition_low = X[col] < outlier_lim_low\n",
    "    number_outliers_low = len(X[outlier_condition_low][col])\n",
    "    \n",
    "    #Calculate number of 'high' outliers\n",
    "    outlier_condition_high = X[col] > outlier_lim_high\n",
    "    number_outliers_high = len(X[outlier_condition_high][col])\n",
    "    \n",
    "    #Calculate total number of outliers\n",
    "    number_outliers_total = number_outliers_low + number_outliers_high\n",
    "      \n",
    "    #If any outliers in column, column is added to a list of columns with outliers\n",
    "    if number_outliers_total > 0:\n",
    "        numerical_columns_w_outliers.append(col)\n",
    "    elif number_outliers_total == 0:\n",
    "        numerical_columns_no_outliers.append(col)      "
   ]
  },
  {
   "cell_type": "markdown",
   "id": "c9a210c4",
   "metadata": {},
   "source": [
    "Let's check if we could extract the outliers numerically !\n"
   ]
  },
  {
   "cell_type": "code",
   "execution_count": 21,
   "id": "23de881c",
   "metadata": {},
   "outputs": [
    {
     "name": "stdout",
     "output_type": "stream",
     "text": [
      "The features having outliers are : ['ZIP_Code', 'CCAvg', 'Mortgage', 'Securities_Account', 'CD_Account', 'CreditCard']\n",
      "The features WITHOUT outliers are : ['Age', 'Experience', 'Income', 'Family', 'Education', 'Online']\n"
     ]
    }
   ],
   "source": [
    "print(f\"The features having outliers are : {numerical_columns_w_outliers}\")\n",
    "print(f\"The features WITHOUT outliers are : {numerical_columns_no_outliers}\")"
   ]
  },
  {
   "cell_type": "markdown",
   "id": "a98aecc6",
   "metadata": {},
   "source": [
    "## Feature scaling and transformation\n"
   ]
  },
  {
   "cell_type": "markdown",
   "id": "45432624",
   "metadata": {},
   "source": [
    "**WHY SCALING ??**\n",
    "\n",
    "❗️ Features with large magnitudes can incorrectly outweigh features of small magnitudes <br>\n",
    "⚡️ Scaling to smaller magnitudes improves computational efficiency <br>\n",
    "🕵🏻‍♂️ Increases interpretability about the impact of each feature in a Machine Learning model <br>"
   ]
  },
  {
   "cell_type": "markdown",
   "id": "a369d0d4",
   "metadata": {},
   "source": [
    "### Columns with outliers\n"
   ]
  },
  {
   "cell_type": "markdown",
   "id": "debed031",
   "metadata": {},
   "source": [
    "<span style=\"font-family:Comic Sans MS; color:red\">We consider using Robust scaling for columns WITH outliers !  </span>"
   ]
  },
  {
   "attachments": {
    "image.png": {
     "image/png": "[encoded data removed]"
    }
   },
   "cell_type": "markdown",
   "id": "06760b12",
   "metadata": {},
   "source": [
    "![image.png](attachment:image.png)\n"
   ]
  },
  {
   "cell_type": "code",
   "execution_count": 22,
   "id": "33fc8475",
   "metadata": {},
   "outputs": [
    {
     "data": {
      "text/plain": [
       "['ZIP_Code',\n",
       " 'CCAvg',\n",
       " 'Mortgage',\n",
       " 'Securities_Account',\n",
       " 'CD_Account',\n",
       " 'CreditCard']"
      ]
     },
     "metadata": {},
     "output_type": "display_data"
    }
   ],
   "source": [
    "# Reminder of features with outliers\n",
    "display(numerical_columns_w_outliers)\n"
   ]
  },
  {
   "cell_type": "markdown",
   "id": "2e280dd9",
   "metadata": {},
   "source": [
    "Let's have a look of the statistics of numerical columns with outliers (**BEFORE SCALING**)."
   ]
  },
  {
   "cell_type": "code",
   "execution_count": 23,
   "id": "39d352cd",
   "metadata": {},
   "outputs": [
    {
     "data": {
      "text/html": [
       "<div>\n",
       "<style scoped>\n",
       "    .dataframe tbody tr th:only-of-type {\n",
       "        vertical-align: middle;\n",
       "    }\n",
       "\n",
       "    .dataframe tbody tr th {\n",
       "        vertical-align: top;\n",
       "    }\n",
       "\n",
       "    .dataframe thead th {\n",
       "        text-align: right;\n",
       "    }\n",
       "</style>\n",
       "<table border=\"1\" class=\"dataframe\">\n",
       "  <thead>\n",
       "    <tr style=\"text-align: right;\">\n",
       "      <th></th>\n",
       "      <th>ZIP_Code</th>\n",
       "      <th>CCAvg</th>\n",
       "      <th>Mortgage</th>\n",
       "      <th>Securities_Account</th>\n",
       "      <th>CD_Account</th>\n",
       "      <th>CreditCard</th>\n",
       "    </tr>\n",
       "  </thead>\n",
       "  <tbody>\n",
       "    <tr>\n",
       "      <th>count</th>\n",
       "      <td>7232.000000</td>\n",
       "      <td>7232.000000</td>\n",
       "      <td>7232.000000</td>\n",
       "      <td>7232.000000</td>\n",
       "      <td>7232.000000</td>\n",
       "      <td>7232.000000</td>\n",
       "    </tr>\n",
       "    <tr>\n",
       "      <th>mean</th>\n",
       "      <td>93143.294110</td>\n",
       "      <td>2.769844</td>\n",
       "      <td>71.182246</td>\n",
       "      <td>0.066648</td>\n",
       "      <td>0.078816</td>\n",
       "      <td>0.201327</td>\n",
       "    </tr>\n",
       "    <tr>\n",
       "      <th>std</th>\n",
       "      <td>2002.555698</td>\n",
       "      <td>1.986917</td>\n",
       "      <td>126.228938</td>\n",
       "      <td>0.249429</td>\n",
       "      <td>0.269471</td>\n",
       "      <td>0.401020</td>\n",
       "    </tr>\n",
       "    <tr>\n",
       "      <th>min</th>\n",
       "      <td>9307.000000</td>\n",
       "      <td>0.000000</td>\n",
       "      <td>0.000000</td>\n",
       "      <td>0.000000</td>\n",
       "      <td>0.000000</td>\n",
       "      <td>0.000000</td>\n",
       "    </tr>\n",
       "    <tr>\n",
       "      <th>25%</th>\n",
       "      <td>91919.000000</td>\n",
       "      <td>1.100000</td>\n",
       "      <td>0.000000</td>\n",
       "      <td>0.000000</td>\n",
       "      <td>0.000000</td>\n",
       "      <td>0.000000</td>\n",
       "    </tr>\n",
       "    <tr>\n",
       "      <th>50%</th>\n",
       "      <td>93401.000000</td>\n",
       "      <td>2.413208</td>\n",
       "      <td>0.000000</td>\n",
       "      <td>0.000000</td>\n",
       "      <td>0.000000</td>\n",
       "      <td>0.000000</td>\n",
       "    </tr>\n",
       "    <tr>\n",
       "      <th>75%</th>\n",
       "      <td>94609.000000</td>\n",
       "      <td>4.056647</td>\n",
       "      <td>111.000000</td>\n",
       "      <td>0.000000</td>\n",
       "      <td>0.000000</td>\n",
       "      <td>0.000000</td>\n",
       "    </tr>\n",
       "    <tr>\n",
       "      <th>max</th>\n",
       "      <td>96651.000000</td>\n",
       "      <td>10.000000</td>\n",
       "      <td>635.000000</td>\n",
       "      <td>1.000000</td>\n",
       "      <td>1.000000</td>\n",
       "      <td>1.000000</td>\n",
       "    </tr>\n",
       "  </tbody>\n",
       "</table>\n",
       "</div>"
      ],
      "text/plain": [
       "           ZIP_Code        CCAvg     Mortgage  Securities_Account  \\\n",
       "count   7232.000000  7232.000000  7232.000000         7232.000000   \n",
       "mean   93143.294110     2.769844    71.182246            0.066648   \n",
       "std     2002.555698     1.986917   126.228938            0.249429   \n",
       "min     9307.000000     0.000000     0.000000            0.000000   \n",
       "25%    91919.000000     1.100000     0.000000            0.000000   \n",
       "50%    93401.000000     2.413208     0.000000            0.000000   \n",
       "75%    94609.000000     4.056647   111.000000            0.000000   \n",
       "max    96651.000000    10.000000   635.000000            1.000000   \n",
       "\n",
       "        CD_Account   CreditCard  \n",
       "count  7232.000000  7232.000000  \n",
       "mean      0.078816     0.201327  \n",
       "std       0.269471     0.401020  \n",
       "min       0.000000     0.000000  \n",
       "25%       0.000000     0.000000  \n",
       "50%       0.000000     0.000000  \n",
       "75%       0.000000     0.000000  \n",
       "max       1.000000     1.000000  "
      ]
     },
     "execution_count": 23,
     "metadata": {},
     "output_type": "execute_result"
    }
   ],
   "source": [
    "# Describe columns with outliers\n",
    "X[numerical_columns_w_outliers].describe()"
   ]
  },
  {
   "cell_type": "code",
   "execution_count": 24,
   "id": "ac823918",
   "metadata": {},
   "outputs": [
    {
     "data": {
      "text/html": [
       "<div>\n",
       "<style scoped>\n",
       "    .dataframe tbody tr th:only-of-type {\n",
       "        vertical-align: middle;\n",
       "    }\n",
       "\n",
       "    .dataframe tbody tr th {\n",
       "        vertical-align: top;\n",
       "    }\n",
       "\n",
       "    .dataframe thead th {\n",
       "        text-align: right;\n",
       "    }\n",
       "</style>\n",
       "<table border=\"1\" class=\"dataframe\">\n",
       "  <thead>\n",
       "    <tr style=\"text-align: right;\">\n",
       "      <th></th>\n",
       "      <th>ZIP_Code</th>\n",
       "      <th>CCAvg</th>\n",
       "      <th>Mortgage</th>\n",
       "      <th>Securities_Account</th>\n",
       "      <th>CD_Account</th>\n",
       "      <th>CreditCard</th>\n",
       "    </tr>\n",
       "  </thead>\n",
       "  <tbody>\n",
       "    <tr>\n",
       "      <th>0</th>\n",
       "      <td>-0.615613</td>\n",
       "      <td>0.130821</td>\n",
       "      <td>0.00000</td>\n",
       "      <td>0.0</td>\n",
       "      <td>0.0</td>\n",
       "      <td>0.0</td>\n",
       "    </tr>\n",
       "    <tr>\n",
       "      <th>1</th>\n",
       "      <td>-0.735316</td>\n",
       "      <td>-0.647087</td>\n",
       "      <td>0.00000</td>\n",
       "      <td>0.0</td>\n",
       "      <td>0.0</td>\n",
       "      <td>0.0</td>\n",
       "    </tr>\n",
       "    <tr>\n",
       "      <th>2</th>\n",
       "      <td>-0.143866</td>\n",
       "      <td>-0.782376</td>\n",
       "      <td>1.09009</td>\n",
       "      <td>0.0</td>\n",
       "      <td>0.0</td>\n",
       "      <td>0.0</td>\n",
       "    </tr>\n",
       "  </tbody>\n",
       "</table>\n",
       "</div>"
      ],
      "text/plain": [
       "   ZIP_Code     CCAvg  Mortgage  Securities_Account  CD_Account  CreditCard\n",
       "0 -0.615613  0.130821   0.00000                 0.0         0.0         0.0\n",
       "1 -0.735316 -0.647087   0.00000                 0.0         0.0         0.0\n",
       "2 -0.143866 -0.782376   1.09009                 0.0         0.0         0.0"
      ]
     },
     "execution_count": 24,
     "metadata": {},
     "output_type": "execute_result"
    }
   ],
   "source": [
    "# Instantiate Robustscaler\n",
    "robust_scaler = RobustScaler()\n",
    "\n",
    "# Fit and transform\n",
    "X[numerical_columns_w_outliers] = robust_scaler.fit_transform(X[numerical_columns_w_outliers])\n",
    "X[numerical_columns_w_outliers].head(3)\n",
    "\n"
   ]
  },
  {
   "cell_type": "markdown",
   "id": "4e330c81",
   "metadata": {},
   "source": [
    "Now, let's check the statistics of the numerical columns with outliers (**AFTER SCALING**)."
   ]
  },
  {
   "cell_type": "code",
   "execution_count": 25,
   "id": "da59c114",
   "metadata": {},
   "outputs": [
    {
     "data": {
      "text/html": [
       "<div>\n",
       "<style scoped>\n",
       "    .dataframe tbody tr th:only-of-type {\n",
       "        vertical-align: middle;\n",
       "    }\n",
       "\n",
       "    .dataframe tbody tr th {\n",
       "        vertical-align: top;\n",
       "    }\n",
       "\n",
       "    .dataframe thead th {\n",
       "        text-align: right;\n",
       "    }\n",
       "</style>\n",
       "<table border=\"1\" class=\"dataframe\">\n",
       "  <thead>\n",
       "    <tr style=\"text-align: right;\">\n",
       "      <th></th>\n",
       "      <th>ZIP_Code</th>\n",
       "      <th>CCAvg</th>\n",
       "      <th>Mortgage</th>\n",
       "      <th>Securities_Account</th>\n",
       "      <th>CD_Account</th>\n",
       "      <th>CreditCard</th>\n",
       "    </tr>\n",
       "  </thead>\n",
       "  <tbody>\n",
       "    <tr>\n",
       "      <th>count</th>\n",
       "      <td>7232.000000</td>\n",
       "      <td>7.232000e+03</td>\n",
       "      <td>7232.000000</td>\n",
       "      <td>7232.000000</td>\n",
       "      <td>7232.000000</td>\n",
       "      <td>7232.000000</td>\n",
       "    </tr>\n",
       "    <tr>\n",
       "      <th>mean</th>\n",
       "      <td>-0.095801</td>\n",
       "      <td>1.206217e-01</td>\n",
       "      <td>0.641281</td>\n",
       "      <td>0.066648</td>\n",
       "      <td>0.078816</td>\n",
       "      <td>0.201327</td>\n",
       "    </tr>\n",
       "    <tr>\n",
       "      <th>std</th>\n",
       "      <td>0.744444</td>\n",
       "      <td>6.720170e-01</td>\n",
       "      <td>1.137198</td>\n",
       "      <td>0.249429</td>\n",
       "      <td>0.269471</td>\n",
       "      <td>0.401020</td>\n",
       "    </tr>\n",
       "    <tr>\n",
       "      <th>min</th>\n",
       "      <td>-31.261710</td>\n",
       "      <td>-8.161978e-01</td>\n",
       "      <td>0.000000</td>\n",
       "      <td>0.000000</td>\n",
       "      <td>0.000000</td>\n",
       "      <td>0.000000</td>\n",
       "    </tr>\n",
       "    <tr>\n",
       "      <th>25%</th>\n",
       "      <td>-0.550929</td>\n",
       "      <td>-4.441547e-01</td>\n",
       "      <td>0.000000</td>\n",
       "      <td>0.000000</td>\n",
       "      <td>0.000000</td>\n",
       "      <td>0.000000</td>\n",
       "    </tr>\n",
       "    <tr>\n",
       "      <th>50%</th>\n",
       "      <td>0.000000</td>\n",
       "      <td>-7.508100e-17</td>\n",
       "      <td>0.000000</td>\n",
       "      <td>0.000000</td>\n",
       "      <td>0.000000</td>\n",
       "      <td>0.000000</td>\n",
       "    </tr>\n",
       "    <tr>\n",
       "      <th>75%</th>\n",
       "      <td>0.449071</td>\n",
       "      <td>5.558453e-01</td>\n",
       "      <td>1.000000</td>\n",
       "      <td>0.000000</td>\n",
       "      <td>0.000000</td>\n",
       "      <td>0.000000</td>\n",
       "    </tr>\n",
       "    <tr>\n",
       "      <th>max</th>\n",
       "      <td>1.208178</td>\n",
       "      <td>2.566012e+00</td>\n",
       "      <td>5.720721</td>\n",
       "      <td>1.000000</td>\n",
       "      <td>1.000000</td>\n",
       "      <td>1.000000</td>\n",
       "    </tr>\n",
       "  </tbody>\n",
       "</table>\n",
       "</div>"
      ],
      "text/plain": [
       "          ZIP_Code         CCAvg     Mortgage  Securities_Account  \\\n",
       "count  7232.000000  7.232000e+03  7232.000000         7232.000000   \n",
       "mean     -0.095801  1.206217e-01     0.641281            0.066648   \n",
       "std       0.744444  6.720170e-01     1.137198            0.249429   \n",
       "min     -31.261710 -8.161978e-01     0.000000            0.000000   \n",
       "25%      -0.550929 -4.441547e-01     0.000000            0.000000   \n",
       "50%       0.000000 -7.508100e-17     0.000000            0.000000   \n",
       "75%       0.449071  5.558453e-01     1.000000            0.000000   \n",
       "max       1.208178  2.566012e+00     5.720721            1.000000   \n",
       "\n",
       "        CD_Account   CreditCard  \n",
       "count  7232.000000  7232.000000  \n",
       "mean      0.078816     0.201327  \n",
       "std       0.269471     0.401020  \n",
       "min       0.000000     0.000000  \n",
       "25%       0.000000     0.000000  \n",
       "50%       0.000000     0.000000  \n",
       "75%       0.000000     0.000000  \n",
       "max       1.000000     1.000000  "
      ]
     },
     "execution_count": 25,
     "metadata": {},
     "output_type": "execute_result"
    }
   ],
   "source": [
    "# Describe columns with outliers\n",
    "X[numerical_columns_w_outliers].describe()\n"
   ]
  },
  {
   "cell_type": "markdown",
   "id": "733d7375",
   "metadata": {},
   "source": [
    "### Columns without outliers\n"
   ]
  },
  {
   "cell_type": "markdown",
   "id": "771afe6b",
   "metadata": {},
   "source": [
    "<span style=\"font-family:Comic Sans MS; color:red\">We consider using MinMax scaling for columns WITHOUT outliers !  </span>"
   ]
  },
  {
   "attachments": {
    "image-2.png": {
     "image/png": "[encoded data removed]"
    },
    "image.png": {
     "image/png": "[encoded data removed]"
    }
   },
   "cell_type": "markdown",
   "id": "6e4a1f1a",
   "metadata": {},
   "source": [
    "![image.png](attachment:image.png)\n",
    "![image-2.png](attachment:image-2.png)\n"
   ]
  },
  {
   "cell_type": "markdown",
   "id": "7f970e8b",
   "metadata": {},
   "source": [
    "Let's have a look of the statistics of numerical columns without outliers (**BEFORE SCALING**)."
   ]
  },
  {
   "cell_type": "code",
   "execution_count": 26,
   "id": "defd3326",
   "metadata": {},
   "outputs": [
    {
     "data": {
      "text/html": [
       "<div>\n",
       "<style scoped>\n",
       "    .dataframe tbody tr th:only-of-type {\n",
       "        vertical-align: middle;\n",
       "    }\n",
       "\n",
       "    .dataframe tbody tr th {\n",
       "        vertical-align: top;\n",
       "    }\n",
       "\n",
       "    .dataframe thead th {\n",
       "        text-align: right;\n",
       "    }\n",
       "</style>\n",
       "<table border=\"1\" class=\"dataframe\">\n",
       "  <thead>\n",
       "    <tr style=\"text-align: right;\">\n",
       "      <th></th>\n",
       "      <th>Age</th>\n",
       "      <th>Experience</th>\n",
       "      <th>Income</th>\n",
       "      <th>Family</th>\n",
       "      <th>Education</th>\n",
       "      <th>Online</th>\n",
       "    </tr>\n",
       "  </thead>\n",
       "  <tbody>\n",
       "    <tr>\n",
       "      <th>count</th>\n",
       "      <td>7232.000000</td>\n",
       "      <td>7232.000000</td>\n",
       "      <td>7232.000000</td>\n",
       "      <td>7232.000000</td>\n",
       "      <td>7232.000000</td>\n",
       "      <td>7232.000000</td>\n",
       "    </tr>\n",
       "    <tr>\n",
       "      <th>mean</th>\n",
       "      <td>44.983269</td>\n",
       "      <td>19.779729</td>\n",
       "      <td>104.721654</td>\n",
       "      <td>2.322179</td>\n",
       "      <td>1.886892</td>\n",
       "      <td>0.492671</td>\n",
       "    </tr>\n",
       "    <tr>\n",
       "      <th>std</th>\n",
       "      <td>10.575783</td>\n",
       "      <td>10.594108</td>\n",
       "      <td>52.318983</td>\n",
       "      <td>1.063294</td>\n",
       "      <td>0.764432</td>\n",
       "      <td>0.499981</td>\n",
       "    </tr>\n",
       "    <tr>\n",
       "      <th>min</th>\n",
       "      <td>23.000000</td>\n",
       "      <td>-3.000000</td>\n",
       "      <td>8.000000</td>\n",
       "      <td>1.000000</td>\n",
       "      <td>1.000000</td>\n",
       "      <td>0.000000</td>\n",
       "    </tr>\n",
       "    <tr>\n",
       "      <th>25%</th>\n",
       "      <td>36.000000</td>\n",
       "      <td>11.000000</td>\n",
       "      <td>58.000000</td>\n",
       "      <td>1.000000</td>\n",
       "      <td>1.000000</td>\n",
       "      <td>0.000000</td>\n",
       "    </tr>\n",
       "    <tr>\n",
       "      <th>50%</th>\n",
       "      <td>45.000000</td>\n",
       "      <td>20.000000</td>\n",
       "      <td>112.000000</td>\n",
       "      <td>2.000000</td>\n",
       "      <td>2.000000</td>\n",
       "      <td>0.000000</td>\n",
       "    </tr>\n",
       "    <tr>\n",
       "      <th>75%</th>\n",
       "      <td>54.000000</td>\n",
       "      <td>28.000000</td>\n",
       "      <td>149.000000</td>\n",
       "      <td>3.000000</td>\n",
       "      <td>2.000000</td>\n",
       "      <td>1.000000</td>\n",
       "    </tr>\n",
       "    <tr>\n",
       "      <th>max</th>\n",
       "      <td>67.000000</td>\n",
       "      <td>43.000000</td>\n",
       "      <td>224.000000</td>\n",
       "      <td>4.000000</td>\n",
       "      <td>3.000000</td>\n",
       "      <td>1.000000</td>\n",
       "    </tr>\n",
       "  </tbody>\n",
       "</table>\n",
       "</div>"
      ],
      "text/plain": [
       "               Age   Experience       Income       Family    Education  \\\n",
       "count  7232.000000  7232.000000  7232.000000  7232.000000  7232.000000   \n",
       "mean     44.983269    19.779729   104.721654     2.322179     1.886892   \n",
       "std      10.575783    10.594108    52.318983     1.063294     0.764432   \n",
       "min      23.000000    -3.000000     8.000000     1.000000     1.000000   \n",
       "25%      36.000000    11.000000    58.000000     1.000000     1.000000   \n",
       "50%      45.000000    20.000000   112.000000     2.000000     2.000000   \n",
       "75%      54.000000    28.000000   149.000000     3.000000     2.000000   \n",
       "max      67.000000    43.000000   224.000000     4.000000     3.000000   \n",
       "\n",
       "            Online  \n",
       "count  7232.000000  \n",
       "mean      0.492671  \n",
       "std       0.499981  \n",
       "min       0.000000  \n",
       "25%       0.000000  \n",
       "50%       0.000000  \n",
       "75%       1.000000  \n",
       "max       1.000000  "
      ]
     },
     "execution_count": 26,
     "metadata": {},
     "output_type": "execute_result"
    }
   ],
   "source": [
    "# Describe columns with NO outliers\n",
    "X[numerical_columns_no_outliers].describe()\n"
   ]
  },
  {
   "cell_type": "code",
   "execution_count": 27,
   "id": "f5bbb942",
   "metadata": {},
   "outputs": [],
   "source": [
    "#Instanciate, fit, transform with minmax scaler\n",
    "minmax_scaler = MinMaxScaler()\n",
    "X[numerical_columns_no_outliers] = minmax_scaler.fit_transform(X[numerical_columns_no_outliers])\n",
    "\n"
   ]
  },
  {
   "cell_type": "markdown",
   "id": "37472b74",
   "metadata": {},
   "source": [
    "Now, let's check the statistics of the numerical columns without outliers (**AFTER SCALING**)."
   ]
  },
  {
   "cell_type": "code",
   "execution_count": 28,
   "id": "dd4e9fb9",
   "metadata": {
    "scrolled": false
   },
   "outputs": [
    {
     "data": {
      "text/html": [
       "<div>\n",
       "<style scoped>\n",
       "    .dataframe tbody tr th:only-of-type {\n",
       "        vertical-align: middle;\n",
       "    }\n",
       "\n",
       "    .dataframe tbody tr th {\n",
       "        vertical-align: top;\n",
       "    }\n",
       "\n",
       "    .dataframe thead th {\n",
       "        text-align: right;\n",
       "    }\n",
       "</style>\n",
       "<table border=\"1\" class=\"dataframe\">\n",
       "  <thead>\n",
       "    <tr style=\"text-align: right;\">\n",
       "      <th></th>\n",
       "      <th>Age</th>\n",
       "      <th>Experience</th>\n",
       "      <th>Income</th>\n",
       "      <th>Family</th>\n",
       "      <th>Education</th>\n",
       "      <th>Online</th>\n",
       "    </tr>\n",
       "  </thead>\n",
       "  <tbody>\n",
       "    <tr>\n",
       "      <th>count</th>\n",
       "      <td>7232.000000</td>\n",
       "      <td>7232.000000</td>\n",
       "      <td>7232.000000</td>\n",
       "      <td>7232.000000</td>\n",
       "      <td>7232.000000</td>\n",
       "      <td>7232.000000</td>\n",
       "    </tr>\n",
       "    <tr>\n",
       "      <th>mean</th>\n",
       "      <td>0.499620</td>\n",
       "      <td>0.495211</td>\n",
       "      <td>0.447785</td>\n",
       "      <td>0.440726</td>\n",
       "      <td>0.443446</td>\n",
       "      <td>0.492671</td>\n",
       "    </tr>\n",
       "    <tr>\n",
       "      <th>std</th>\n",
       "      <td>0.240359</td>\n",
       "      <td>0.230307</td>\n",
       "      <td>0.242218</td>\n",
       "      <td>0.354431</td>\n",
       "      <td>0.382216</td>\n",
       "      <td>0.499981</td>\n",
       "    </tr>\n",
       "    <tr>\n",
       "      <th>min</th>\n",
       "      <td>0.000000</td>\n",
       "      <td>0.000000</td>\n",
       "      <td>0.000000</td>\n",
       "      <td>0.000000</td>\n",
       "      <td>0.000000</td>\n",
       "      <td>0.000000</td>\n",
       "    </tr>\n",
       "    <tr>\n",
       "      <th>25%</th>\n",
       "      <td>0.295455</td>\n",
       "      <td>0.304348</td>\n",
       "      <td>0.231481</td>\n",
       "      <td>0.000000</td>\n",
       "      <td>0.000000</td>\n",
       "      <td>0.000000</td>\n",
       "    </tr>\n",
       "    <tr>\n",
       "      <th>50%</th>\n",
       "      <td>0.500000</td>\n",
       "      <td>0.500000</td>\n",
       "      <td>0.481481</td>\n",
       "      <td>0.333333</td>\n",
       "      <td>0.500000</td>\n",
       "      <td>0.000000</td>\n",
       "    </tr>\n",
       "    <tr>\n",
       "      <th>75%</th>\n",
       "      <td>0.704545</td>\n",
       "      <td>0.673913</td>\n",
       "      <td>0.652778</td>\n",
       "      <td>0.666667</td>\n",
       "      <td>0.500000</td>\n",
       "      <td>1.000000</td>\n",
       "    </tr>\n",
       "    <tr>\n",
       "      <th>max</th>\n",
       "      <td>1.000000</td>\n",
       "      <td>1.000000</td>\n",
       "      <td>1.000000</td>\n",
       "      <td>1.000000</td>\n",
       "      <td>1.000000</td>\n",
       "      <td>1.000000</td>\n",
       "    </tr>\n",
       "  </tbody>\n",
       "</table>\n",
       "</div>"
      ],
      "text/plain": [
       "               Age   Experience       Income       Family    Education  \\\n",
       "count  7232.000000  7232.000000  7232.000000  7232.000000  7232.000000   \n",
       "mean      0.499620     0.495211     0.447785     0.440726     0.443446   \n",
       "std       0.240359     0.230307     0.242218     0.354431     0.382216   \n",
       "min       0.000000     0.000000     0.000000     0.000000     0.000000   \n",
       "25%       0.295455     0.304348     0.231481     0.000000     0.000000   \n",
       "50%       0.500000     0.500000     0.481481     0.333333     0.500000   \n",
       "75%       0.704545     0.673913     0.652778     0.666667     0.500000   \n",
       "max       1.000000     1.000000     1.000000     1.000000     1.000000   \n",
       "\n",
       "            Online  \n",
       "count  7232.000000  \n",
       "mean      0.492671  \n",
       "std       0.499981  \n",
       "min       0.000000  \n",
       "25%       0.000000  \n",
       "50%       0.000000  \n",
       "75%       1.000000  \n",
       "max       1.000000  "
      ]
     },
     "execution_count": 28,
     "metadata": {},
     "output_type": "execute_result"
    }
   ],
   "source": [
    "# Describe columns with NO outliers\n",
    "X[numerical_columns_no_outliers].describe()"
   ]
  },
  {
   "cell_type": "markdown",
   "id": "8c3875d4",
   "metadata": {},
   "source": [
    "# SMOTE\n"
   ]
  },
  {
   "cell_type": "code",
   "execution_count": 16,
   "id": "dd9af990",
   "metadata": {},
   "outputs": [
    {
     "name": "stdout",
     "output_type": "stream",
     "text": [
      "(4000, 12)\n",
      "(4000,)\n"
     ]
    },
    {
     "data": {
      "text/plain": [
       "0    90.4\n",
       "1     9.6\n",
       "Name: Personal_Loan, dtype: float64"
      ]
     },
     "execution_count": 16,
     "metadata": {},
     "output_type": "execute_result"
    }
   ],
   "source": [
    "print(X.shape)\n",
    "print(y.shape)\n",
    "# Check of stratified test set\n",
    "y.value_counts()/len(y)*100"
   ]
  },
  {
   "cell_type": "code",
   "execution_count": 17,
   "id": "0be63578",
   "metadata": {},
   "outputs": [],
   "source": [
    "from imblearn.over_sampling import SMOTE\n",
    "\n",
    "smote = SMOTE(random_state=42)\n",
    "X, y = smote.fit_resample(X, y)"
   ]
  },
  {
   "cell_type": "code",
   "execution_count": 18,
   "id": "63fe5417",
   "metadata": {},
   "outputs": [
    {
     "name": "stdout",
     "output_type": "stream",
     "text": [
      "(7232, 12)\n",
      "(7232,)\n"
     ]
    },
    {
     "data": {
      "text/plain": [
       "0    50.0\n",
       "1    50.0\n",
       "Name: Personal_Loan, dtype: float64"
      ]
     },
     "execution_count": 18,
     "metadata": {},
     "output_type": "execute_result"
    }
   ],
   "source": [
    "print(X.shape)\n",
    "print(y.shape)\n",
    "# Check of stratified test set\n",
    "y.value_counts()/len(y)*100"
   ]
  },
  {
   "cell_type": "markdown",
   "id": "d17774bb",
   "metadata": {},
   "source": [
    "## Create pipelines\n"
   ]
  },
  {
   "cell_type": "code",
   "execution_count": 29,
   "id": "6cdd8349",
   "metadata": {
    "scrolled": true
   },
   "outputs": [
    {
     "data": {
      "text/html": [
       "<style>#sk-container-id-1 {color: black;}#sk-container-id-1 pre{padding: 0;}#sk-container-id-1 div.sk-toggleable {background-color: white;}#sk-container-id-1 label.sk-toggleable__label {cursor: pointer;display: block;width: 100%;margin-bottom: 0;padding: 0.3em;box-sizing: border-box;text-align: center;}#sk-container-id-1 label.sk-toggleable__label-arrow:before {content: \"▸\";float: left;margin-right: 0.25em;color: #696969;}#sk-container-id-1 label.sk-toggleable__label-arrow:hover:before {color: black;}#sk-container-id-1 div.sk-estimator:hover label.sk-toggleable__label-arrow:before {color: black;}#sk-container-id-1 div.sk-toggleable__content {max-height: 0;max-width: 0;overflow: hidden;text-align: left;background-color: #f0f8ff;}#sk-container-id-1 div.sk-toggleable__content pre {margin: 0.2em;color: black;border-radius: 0.25em;background-color: #f0f8ff;}#sk-container-id-1 input.sk-toggleable__control:checked~div.sk-toggleable__content {max-height: 200px;max-width: 100%;overflow: auto;}#sk-container-id-1 input.sk-toggleable__control:checked~label.sk-toggleable__label-arrow:before {content: \"▾\";}#sk-container-id-1 div.sk-estimator input.sk-toggleable__control:checked~label.sk-toggleable__label {background-color: #d4ebff;}#sk-container-id-1 div.sk-label input.sk-toggleable__control:checked~label.sk-toggleable__label {background-color: #d4ebff;}#sk-container-id-1 input.sk-hidden--visually {border: 0;clip: rect(1px 1px 1px 1px);clip: rect(1px, 1px, 1px, 1px);height: 1px;margin: -1px;overflow: hidden;padding: 0;position: absolute;width: 1px;}#sk-container-id-1 div.sk-estimator {font-family: monospace;background-color: #f0f8ff;border: 1px dotted black;border-radius: 0.25em;box-sizing: border-box;margin-bottom: 0.5em;}#sk-container-id-1 div.sk-estimator:hover {background-color: #d4ebff;}#sk-container-id-1 div.sk-parallel-item::after {content: \"\";width: 100%;border-bottom: 1px solid gray;flex-grow: 1;}#sk-container-id-1 div.sk-label:hover label.sk-toggleable__label {background-color: #d4ebff;}#sk-container-id-1 div.sk-serial::before {content: \"\";position: absolute;border-left: 1px solid gray;box-sizing: border-box;top: 0;bottom: 0;left: 50%;z-index: 0;}#sk-container-id-1 div.sk-serial {display: flex;flex-direction: column;align-items: center;background-color: white;padding-right: 0.2em;padding-left: 0.2em;position: relative;}#sk-container-id-1 div.sk-item {position: relative;z-index: 1;}#sk-container-id-1 div.sk-parallel {display: flex;align-items: stretch;justify-content: center;background-color: white;position: relative;}#sk-container-id-1 div.sk-item::before, #sk-container-id-1 div.sk-parallel-item::before {content: \"\";position: absolute;border-left: 1px solid gray;box-sizing: border-box;top: 0;bottom: 0;left: 50%;z-index: -1;}#sk-container-id-1 div.sk-parallel-item {display: flex;flex-direction: column;z-index: 1;position: relative;background-color: white;}#sk-container-id-1 div.sk-parallel-item:first-child::after {align-self: flex-end;width: 50%;}#sk-container-id-1 div.sk-parallel-item:last-child::after {align-self: flex-start;width: 50%;}#sk-container-id-1 div.sk-parallel-item:only-child::after {width: 0;}#sk-container-id-1 div.sk-dashed-wrapped {border: 1px dashed gray;margin: 0 0.4em 0.5em 0.4em;box-sizing: border-box;padding-bottom: 0.4em;background-color: white;}#sk-container-id-1 div.sk-label label {font-family: monospace;font-weight: bold;display: inline-block;line-height: 1.2em;}#sk-container-id-1 div.sk-label-container {text-align: center;}#sk-container-id-1 div.sk-container {/* jupyter's `normalize.less` sets `[hidden] { display: none; }` but bootstrap.min.css set `[hidden] { display: none !important; }` so we also need the `!important` here to be able to override the default hidden behavior on the sphinx rendered scikit-learn.org. See: https://github.com/scikit-learn/scikit-learn/issues/21755 */display: inline-block !important;position: relative;}#sk-container-id-1 div.sk-text-repr-fallback {display: none;}</style><div id=\"sk-container-id-1\" class=\"sk-top-container\"><div class=\"sk-text-repr-fallback\"><pre>ColumnTransformer(transformers=[(&#x27;robustscaler&#x27;, RobustScaler(),\n",
       "                                 [&#x27;ZIP_Code&#x27;, &#x27;CCAvg&#x27;, &#x27;Mortgage&#x27;,\n",
       "                                  &#x27;Securities_Account&#x27;, &#x27;CD_Account&#x27;,\n",
       "                                  &#x27;CreditCard&#x27;]),\n",
       "                                (&#x27;minmaxscaler&#x27;, MinMaxScaler(),\n",
       "                                 [&#x27;Age&#x27;, &#x27;Experience&#x27;, &#x27;Income&#x27;, &#x27;Family&#x27;,\n",
       "                                  &#x27;Education&#x27;, &#x27;Online&#x27;])])</pre><b>In a Jupyter environment, please rerun this cell to show the HTML representation or trust the notebook. <br />On GitHub, the HTML representation is unable to render, please try loading this page with nbviewer.org.</b></div><div class=\"sk-container\" hidden><div class=\"sk-item sk-dashed-wrapped\"><div class=\"sk-label-container\"><div class=\"sk-label sk-toggleable\"><input class=\"sk-toggleable__control sk-hidden--visually\" id=\"sk-estimator-id-1\" type=\"checkbox\" ><label for=\"sk-estimator-id-1\" class=\"sk-toggleable__label sk-toggleable__label-arrow\">ColumnTransformer</label><div class=\"sk-toggleable__content\"><pre>ColumnTransformer(transformers=[(&#x27;robustscaler&#x27;, RobustScaler(),\n",
       "                                 [&#x27;ZIP_Code&#x27;, &#x27;CCAvg&#x27;, &#x27;Mortgage&#x27;,\n",
       "                                  &#x27;Securities_Account&#x27;, &#x27;CD_Account&#x27;,\n",
       "                                  &#x27;CreditCard&#x27;]),\n",
       "                                (&#x27;minmaxscaler&#x27;, MinMaxScaler(),\n",
       "                                 [&#x27;Age&#x27;, &#x27;Experience&#x27;, &#x27;Income&#x27;, &#x27;Family&#x27;,\n",
       "                                  &#x27;Education&#x27;, &#x27;Online&#x27;])])</pre></div></div></div><div class=\"sk-parallel\"><div class=\"sk-parallel-item\"><div class=\"sk-item\"><div class=\"sk-label-container\"><div class=\"sk-label sk-toggleable\"><input class=\"sk-toggleable__control sk-hidden--visually\" id=\"sk-estimator-id-2\" type=\"checkbox\" ><label for=\"sk-estimator-id-2\" class=\"sk-toggleable__label sk-toggleable__label-arrow\">robustscaler</label><div class=\"sk-toggleable__content\"><pre>[&#x27;ZIP_Code&#x27;, &#x27;CCAvg&#x27;, &#x27;Mortgage&#x27;, &#x27;Securities_Account&#x27;, &#x27;CD_Account&#x27;, &#x27;CreditCard&#x27;]</pre></div></div></div><div class=\"sk-serial\"><div class=\"sk-item\"><div class=\"sk-estimator sk-toggleable\"><input class=\"sk-toggleable__control sk-hidden--visually\" id=\"sk-estimator-id-3\" type=\"checkbox\" ><label for=\"sk-estimator-id-3\" class=\"sk-toggleable__label sk-toggleable__label-arrow\">RobustScaler</label><div class=\"sk-toggleable__content\"><pre>RobustScaler()</pre></div></div></div></div></div></div><div class=\"sk-parallel-item\"><div class=\"sk-item\"><div class=\"sk-label-container\"><div class=\"sk-label sk-toggleable\"><input class=\"sk-toggleable__control sk-hidden--visually\" id=\"sk-estimator-id-4\" type=\"checkbox\" ><label for=\"sk-estimator-id-4\" class=\"sk-toggleable__label sk-toggleable__label-arrow\">minmaxscaler</label><div class=\"sk-toggleable__content\"><pre>[&#x27;Age&#x27;, &#x27;Experience&#x27;, &#x27;Income&#x27;, &#x27;Family&#x27;, &#x27;Education&#x27;, &#x27;Online&#x27;]</pre></div></div></div><div class=\"sk-serial\"><div class=\"sk-item\"><div class=\"sk-estimator sk-toggleable\"><input class=\"sk-toggleable__control sk-hidden--visually\" id=\"sk-estimator-id-5\" type=\"checkbox\" ><label for=\"sk-estimator-id-5\" class=\"sk-toggleable__label sk-toggleable__label-arrow\">MinMaxScaler</label><div class=\"sk-toggleable__content\"><pre>MinMaxScaler()</pre></div></div></div></div></div></div></div></div></div></div>"
      ],
      "text/plain": [
       "ColumnTransformer(transformers=[('robustscaler', RobustScaler(),\n",
       "                                 ['ZIP_Code', 'CCAvg', 'Mortgage',\n",
       "                                  'Securities_Account', 'CD_Account',\n",
       "                                  'CreditCard']),\n",
       "                                ('minmaxscaler', MinMaxScaler(),\n",
       "                                 ['Age', 'Experience', 'Income', 'Family',\n",
       "                                  'Education', 'Online'])])"
      ]
     },
     "execution_count": 29,
     "metadata": {},
     "output_type": "execute_result"
    }
   ],
   "source": [
    "# Create pipelines\n",
    "preprocessing = make_column_transformer(\n",
    "                                        (RobustScaler(), numerical_columns_w_outliers),\n",
    "                                        (MinMaxScaler(), numerical_columns_no_outliers)\n",
    "                                        )\n",
    "\n",
    "preprocessing.fit(X)\n"
   ]
  },
  {
   "cell_type": "code",
   "execution_count": 30,
   "id": "5b24daad",
   "metadata": {},
   "outputs": [
    {
     "data": {
      "text/html": [
       "<style>#sk-container-id-2 {color: black;}#sk-container-id-2 pre{padding: 0;}#sk-container-id-2 div.sk-toggleable {background-color: white;}#sk-container-id-2 label.sk-toggleable__label {cursor: pointer;display: block;width: 100%;margin-bottom: 0;padding: 0.3em;box-sizing: border-box;text-align: center;}#sk-container-id-2 label.sk-toggleable__label-arrow:before {content: \"▸\";float: left;margin-right: 0.25em;color: #696969;}#sk-container-id-2 label.sk-toggleable__label-arrow:hover:before {color: black;}#sk-container-id-2 div.sk-estimator:hover label.sk-toggleable__label-arrow:before {color: black;}#sk-container-id-2 div.sk-toggleable__content {max-height: 0;max-width: 0;overflow: hidden;text-align: left;background-color: #f0f8ff;}#sk-container-id-2 div.sk-toggleable__content pre {margin: 0.2em;color: black;border-radius: 0.25em;background-color: #f0f8ff;}#sk-container-id-2 input.sk-toggleable__control:checked~div.sk-toggleable__content {max-height: 200px;max-width: 100%;overflow: auto;}#sk-container-id-2 input.sk-toggleable__control:checked~label.sk-toggleable__label-arrow:before {content: \"▾\";}#sk-container-id-2 div.sk-estimator input.sk-toggleable__control:checked~label.sk-toggleable__label {background-color: #d4ebff;}#sk-container-id-2 div.sk-label input.sk-toggleable__control:checked~label.sk-toggleable__label {background-color: #d4ebff;}#sk-container-id-2 input.sk-hidden--visually {border: 0;clip: rect(1px 1px 1px 1px);clip: rect(1px, 1px, 1px, 1px);height: 1px;margin: -1px;overflow: hidden;padding: 0;position: absolute;width: 1px;}#sk-container-id-2 div.sk-estimator {font-family: monospace;background-color: #f0f8ff;border: 1px dotted black;border-radius: 0.25em;box-sizing: border-box;margin-bottom: 0.5em;}#sk-container-id-2 div.sk-estimator:hover {background-color: #d4ebff;}#sk-container-id-2 div.sk-parallel-item::after {content: \"\";width: 100%;border-bottom: 1px solid gray;flex-grow: 1;}#sk-container-id-2 div.sk-label:hover label.sk-toggleable__label {background-color: #d4ebff;}#sk-container-id-2 div.sk-serial::before {content: \"\";position: absolute;border-left: 1px solid gray;box-sizing: border-box;top: 0;bottom: 0;left: 50%;z-index: 0;}#sk-container-id-2 div.sk-serial {display: flex;flex-direction: column;align-items: center;background-color: white;padding-right: 0.2em;padding-left: 0.2em;position: relative;}#sk-container-id-2 div.sk-item {position: relative;z-index: 1;}#sk-container-id-2 div.sk-parallel {display: flex;align-items: stretch;justify-content: center;background-color: white;position: relative;}#sk-container-id-2 div.sk-item::before, #sk-container-id-2 div.sk-parallel-item::before {content: \"\";position: absolute;border-left: 1px solid gray;box-sizing: border-box;top: 0;bottom: 0;left: 50%;z-index: -1;}#sk-container-id-2 div.sk-parallel-item {display: flex;flex-direction: column;z-index: 1;position: relative;background-color: white;}#sk-container-id-2 div.sk-parallel-item:first-child::after {align-self: flex-end;width: 50%;}#sk-container-id-2 div.sk-parallel-item:last-child::after {align-self: flex-start;width: 50%;}#sk-container-id-2 div.sk-parallel-item:only-child::after {width: 0;}#sk-container-id-2 div.sk-dashed-wrapped {border: 1px dashed gray;margin: 0 0.4em 0.5em 0.4em;box-sizing: border-box;padding-bottom: 0.4em;background-color: white;}#sk-container-id-2 div.sk-label label {font-family: monospace;font-weight: bold;display: inline-block;line-height: 1.2em;}#sk-container-id-2 div.sk-label-container {text-align: center;}#sk-container-id-2 div.sk-container {/* jupyter's `normalize.less` sets `[hidden] { display: none; }` but bootstrap.min.css set `[hidden] { display: none !important; }` so we also need the `!important` here to be able to override the default hidden behavior on the sphinx rendered scikit-learn.org. See: https://github.com/scikit-learn/scikit-learn/issues/21755 */display: inline-block !important;position: relative;}#sk-container-id-2 div.sk-text-repr-fallback {display: none;}</style><div id=\"sk-container-id-2\" class=\"sk-top-container\"><div class=\"sk-text-repr-fallback\"><pre>Pipeline(steps=[(&#x27;columntransformer&#x27;,\n",
       "                 ColumnTransformer(transformers=[(&#x27;robustscaler&#x27;,\n",
       "                                                  RobustScaler(),\n",
       "                                                  [&#x27;ZIP_Code&#x27;, &#x27;CCAvg&#x27;,\n",
       "                                                   &#x27;Mortgage&#x27;,\n",
       "                                                   &#x27;Securities_Account&#x27;,\n",
       "                                                   &#x27;CD_Account&#x27;,\n",
       "                                                   &#x27;CreditCard&#x27;]),\n",
       "                                                 (&#x27;minmaxscaler&#x27;,\n",
       "                                                  MinMaxScaler(),\n",
       "                                                  [&#x27;Age&#x27;, &#x27;Experience&#x27;,\n",
       "                                                   &#x27;Income&#x27;, &#x27;Family&#x27;,\n",
       "                                                   &#x27;Education&#x27;, &#x27;Online&#x27;])])),\n",
       "                (&#x27;logisticregression&#x27;, LogisticRegression())])</pre><b>In a Jupyter environment, please rerun this cell to show the HTML representation or trust the notebook. <br />On GitHub, the HTML representation is unable to render, please try loading this page with nbviewer.org.</b></div><div class=\"sk-container\" hidden><div class=\"sk-item sk-dashed-wrapped\"><div class=\"sk-label-container\"><div class=\"sk-label sk-toggleable\"><input class=\"sk-toggleable__control sk-hidden--visually\" id=\"sk-estimator-id-6\" type=\"checkbox\" ><label for=\"sk-estimator-id-6\" class=\"sk-toggleable__label sk-toggleable__label-arrow\">Pipeline</label><div class=\"sk-toggleable__content\"><pre>Pipeline(steps=[(&#x27;columntransformer&#x27;,\n",
       "                 ColumnTransformer(transformers=[(&#x27;robustscaler&#x27;,\n",
       "                                                  RobustScaler(),\n",
       "                                                  [&#x27;ZIP_Code&#x27;, &#x27;CCAvg&#x27;,\n",
       "                                                   &#x27;Mortgage&#x27;,\n",
       "                                                   &#x27;Securities_Account&#x27;,\n",
       "                                                   &#x27;CD_Account&#x27;,\n",
       "                                                   &#x27;CreditCard&#x27;]),\n",
       "                                                 (&#x27;minmaxscaler&#x27;,\n",
       "                                                  MinMaxScaler(),\n",
       "                                                  [&#x27;Age&#x27;, &#x27;Experience&#x27;,\n",
       "                                                   &#x27;Income&#x27;, &#x27;Family&#x27;,\n",
       "                                                   &#x27;Education&#x27;, &#x27;Online&#x27;])])),\n",
       "                (&#x27;logisticregression&#x27;, LogisticRegression())])</pre></div></div></div><div class=\"sk-serial\"><div class=\"sk-item sk-dashed-wrapped\"><div class=\"sk-label-container\"><div class=\"sk-label sk-toggleable\"><input class=\"sk-toggleable__control sk-hidden--visually\" id=\"sk-estimator-id-7\" type=\"checkbox\" ><label for=\"sk-estimator-id-7\" class=\"sk-toggleable__label sk-toggleable__label-arrow\">columntransformer: ColumnTransformer</label><div class=\"sk-toggleable__content\"><pre>ColumnTransformer(transformers=[(&#x27;robustscaler&#x27;, RobustScaler(),\n",
       "                                 [&#x27;ZIP_Code&#x27;, &#x27;CCAvg&#x27;, &#x27;Mortgage&#x27;,\n",
       "                                  &#x27;Securities_Account&#x27;, &#x27;CD_Account&#x27;,\n",
       "                                  &#x27;CreditCard&#x27;]),\n",
       "                                (&#x27;minmaxscaler&#x27;, MinMaxScaler(),\n",
       "                                 [&#x27;Age&#x27;, &#x27;Experience&#x27;, &#x27;Income&#x27;, &#x27;Family&#x27;,\n",
       "                                  &#x27;Education&#x27;, &#x27;Online&#x27;])])</pre></div></div></div><div class=\"sk-parallel\"><div class=\"sk-parallel-item\"><div class=\"sk-item\"><div class=\"sk-label-container\"><div class=\"sk-label sk-toggleable\"><input class=\"sk-toggleable__control sk-hidden--visually\" id=\"sk-estimator-id-8\" type=\"checkbox\" ><label for=\"sk-estimator-id-8\" class=\"sk-toggleable__label sk-toggleable__label-arrow\">robustscaler</label><div class=\"sk-toggleable__content\"><pre>[&#x27;ZIP_Code&#x27;, &#x27;CCAvg&#x27;, &#x27;Mortgage&#x27;, &#x27;Securities_Account&#x27;, &#x27;CD_Account&#x27;, &#x27;CreditCard&#x27;]</pre></div></div></div><div class=\"sk-serial\"><div class=\"sk-item\"><div class=\"sk-estimator sk-toggleable\"><input class=\"sk-toggleable__control sk-hidden--visually\" id=\"sk-estimator-id-9\" type=\"checkbox\" ><label for=\"sk-estimator-id-9\" class=\"sk-toggleable__label sk-toggleable__label-arrow\">RobustScaler</label><div class=\"sk-toggleable__content\"><pre>RobustScaler()</pre></div></div></div></div></div></div><div class=\"sk-parallel-item\"><div class=\"sk-item\"><div class=\"sk-label-container\"><div class=\"sk-label sk-toggleable\"><input class=\"sk-toggleable__control sk-hidden--visually\" id=\"sk-estimator-id-10\" type=\"checkbox\" ><label for=\"sk-estimator-id-10\" class=\"sk-toggleable__label sk-toggleable__label-arrow\">minmaxscaler</label><div class=\"sk-toggleable__content\"><pre>[&#x27;Age&#x27;, &#x27;Experience&#x27;, &#x27;Income&#x27;, &#x27;Family&#x27;, &#x27;Education&#x27;, &#x27;Online&#x27;]</pre></div></div></div><div class=\"sk-serial\"><div class=\"sk-item\"><div class=\"sk-estimator sk-toggleable\"><input class=\"sk-toggleable__control sk-hidden--visually\" id=\"sk-estimator-id-11\" type=\"checkbox\" ><label for=\"sk-estimator-id-11\" class=\"sk-toggleable__label sk-toggleable__label-arrow\">MinMaxScaler</label><div class=\"sk-toggleable__content\"><pre>MinMaxScaler()</pre></div></div></div></div></div></div></div></div><div class=\"sk-item\"><div class=\"sk-estimator sk-toggleable\"><input class=\"sk-toggleable__control sk-hidden--visually\" id=\"sk-estimator-id-12\" type=\"checkbox\" ><label for=\"sk-estimator-id-12\" class=\"sk-toggleable__label sk-toggleable__label-arrow\">LogisticRegression</label><div class=\"sk-toggleable__content\"><pre>LogisticRegression()</pre></div></div></div></div></div></div></div>"
      ],
      "text/plain": [
       "Pipeline(steps=[('columntransformer',\n",
       "                 ColumnTransformer(transformers=[('robustscaler',\n",
       "                                                  RobustScaler(),\n",
       "                                                  ['ZIP_Code', 'CCAvg',\n",
       "                                                   'Mortgage',\n",
       "                                                   'Securities_Account',\n",
       "                                                   'CD_Account',\n",
       "                                                   'CreditCard']),\n",
       "                                                 ('minmaxscaler',\n",
       "                                                  MinMaxScaler(),\n",
       "                                                  ['Age', 'Experience',\n",
       "                                                   'Income', 'Family',\n",
       "                                                   'Education', 'Online'])])),\n",
       "                ('logisticregression', LogisticRegression())])"
      ]
     },
     "execution_count": 30,
     "metadata": {},
     "output_type": "execute_result"
    }
   ],
   "source": [
    "# Reminder of the pipeline structure\n",
    "logit_pipe= make_pipeline(preprocessing, LogisticRegression())\n",
    "logit_pipe.fit(X, y)\n"
   ]
  },
  {
   "cell_type": "code",
   "execution_count": 31,
   "id": "408079ce",
   "metadata": {
    "scrolled": true
   },
   "outputs": [
    {
     "data": {
      "text/plain": [
       "0.902656977144036"
      ]
     },
     "metadata": {},
     "output_type": "display_data"
    },
    {
     "data": {
      "text/plain": [
       "0.8883144658261234"
      ]
     },
     "metadata": {},
     "output_type": "display_data"
    },
    {
     "data": {
      "text/plain": [
       "0.8953150844719611"
      ]
     },
     "metadata": {},
     "output_type": "display_data"
    }
   ],
   "source": [
    "scores = cross_validate(logit_pipe, X, y, cv=5, scoring=['recall', 'precision', 'f1'])\n",
    "#Calculate mean scores     \n",
    "mean_recall_score = scores['test_recall'].mean()\n",
    "mean_precision_score = scores['test_precision'].mean()\n",
    "mean_f1_score = scores['test_f1'].mean()\n",
    "\n",
    "\n",
    "display(mean_recall_score)\n",
    "display(mean_precision_score)\n",
    "display(mean_f1_score)"
   ]
  },
  {
   "cell_type": "code",
   "execution_count": 32,
   "id": "2d40d478",
   "metadata": {},
   "outputs": [
    {
     "name": "stdout",
     "output_type": "stream",
     "text": [
      "Confusion Matrix:\n",
      " [[3202  414]\n",
      " [ 352 3264]]\n"
     ]
    }
   ],
   "source": [
    "from sklearn.metrics import confusion_matrix\n",
    "\n",
    "# Generate the confusion matrix\n",
    "cm = confusion_matrix(y, logit_pipe.predict(X))\n",
    "print(\"Confusion Matrix:\\n\", cm)"
   ]
  },
  {
   "cell_type": "code",
   "execution_count": 33,
   "id": "ae22285a",
   "metadata": {},
   "outputs": [
    {
     "name": "stdout",
     "output_type": "stream",
     "text": [
      "Final recall : 0.0\n",
      "Final precision : 0.0\n",
      "Final f1 : 0.0\n"
     ]
    }
   ],
   "source": [
    "# Separate featues from target\n",
    "X_test = strat_test_set.drop([\"Personal_Loan\"], axis=1)\n",
    "y_test = strat_test_set[\"Personal_Loan\"].copy()\n",
    "\n",
    "# Make the predictions\n",
    "final_predictions = logit_pipe.predict(X_test)\n",
    "\n",
    "# Calculation of metric\n",
    "final_recall = recall_score(y_test, final_predictions)\n",
    "final_precision = precision_score(y_test, final_predictions)\n",
    "final_f1 = f1_score(y_test, final_predictions)\n",
    "\n",
    "print(f\"Final recall : {final_recall}\")\n",
    "print(f\"Final precision : {final_precision}\")\n",
    "print(f\"Final f1 : {final_f1}\")"
   ]
  },
  {
   "cell_type": "code",
   "execution_count": 34,
   "id": "a1771d96",
   "metadata": {},
   "outputs": [
    {
     "name": "stdout",
     "output_type": "stream",
     "text": [
      "Confusion Matrix:\n",
      " [[904   0]\n",
      " [ 96   0]]\n"
     ]
    }
   ],
   "source": [
    "from sklearn.metrics import confusion_matrix\n",
    "\n",
    "# Generate the confusion matrix\n",
    "cm = confusion_matrix(y_test, final_predictions)\n",
    "print(\"Confusion Matrix:\\n\", cm)\n"
   ]
  },
  {
   "cell_type": "code",
   "execution_count": null,
   "id": "e2a3bace",
   "metadata": {},
   "outputs": [],
   "source": []
  },
  {
   "cell_type": "code",
   "execution_count": null,
   "id": "fb595da4",
   "metadata": {},
   "outputs": [],
   "source": []
  },
  {
   "cell_type": "code",
   "execution_count": null,
   "id": "112ddef7",
   "metadata": {},
   "outputs": [],
   "source": []
  },
  {
   "cell_type": "code",
   "execution_count": null,
   "id": "7fe256af",
   "metadata": {},
   "outputs": [],
   "source": []
  },
  {
   "cell_type": "code",
   "execution_count": null,
   "id": "14ce2696",
   "metadata": {},
   "outputs": [],
   "source": []
  },
  {
   "cell_type": "code",
   "execution_count": null,
   "id": "adcf66eb",
   "metadata": {},
   "outputs": [],
   "source": []
  },
  {
   "cell_type": "code",
   "execution_count": null,
   "id": "64b4c44c",
   "metadata": {},
   "outputs": [],
   "source": []
  },
  {
   "cell_type": "code",
   "execution_count": null,
   "id": "f509cb33",
   "metadata": {},
   "outputs": [],
   "source": []
  },
  {
   "cell_type": "code",
   "execution_count": null,
   "id": "b483ce3d",
   "metadata": {},
   "outputs": [],
   "source": []
  },
  {
   "cell_type": "code",
   "execution_count": null,
   "id": "3f55d396",
   "metadata": {},
   "outputs": [],
   "source": []
  },
  {
   "cell_type": "code",
   "execution_count": null,
   "id": "a0b0fcfc",
   "metadata": {},
   "outputs": [],
   "source": []
  },
  {
   "cell_type": "code",
   "execution_count": null,
   "id": "2e2d410a",
   "metadata": {},
   "outputs": [],
   "source": []
  },
  {
   "cell_type": "code",
   "execution_count": null,
   "id": "eb33c080",
   "metadata": {},
   "outputs": [],
   "source": []
  },
  {
   "cell_type": "code",
   "execution_count": null,
   "id": "39793970",
   "metadata": {},
   "outputs": [],
   "source": []
  },
  {
   "cell_type": "code",
   "execution_count": null,
   "id": "a875ee5d",
   "metadata": {},
   "outputs": [],
   "source": []
  },
  {
   "cell_type": "code",
   "execution_count": null,
   "id": "507d7075",
   "metadata": {},
   "outputs": [],
   "source": []
  },
  {
   "cell_type": "code",
   "execution_count": 35,
   "id": "1dd6dcb3",
   "metadata": {},
   "outputs": [
    {
     "ename": "SyntaxError",
     "evalue": "Missing parentheses in call to 'print'. Did you mean print(...)? (908402389.py, line 1)",
     "output_type": "error",
     "traceback": [
      "\u001b[0;36m  Cell \u001b[0;32mIn [35], line 1\u001b[0;36m\u001b[0m\n\u001b[0;31m    print i\u001b[0m\n\u001b[0m    ^\u001b[0m\n\u001b[0;31mSyntaxError\u001b[0m\u001b[0;31m:\u001b[0m Missing parentheses in call to 'print'. Did you mean print(...)?\n"
     ]
    }
   ],
   "source": [
    "print i\n"
   ]
  },
  {
   "cell_type": "markdown",
   "id": "569cf63f",
   "metadata": {},
   "source": [
    "# Train and evaluate on the training set with several models"
   ]
  },
  {
   "cell_type": "markdown",
   "id": "2928af6a",
   "metadata": {},
   "source": [
    "Now, let's use several classification models.\n"
   ]
  },
  {
   "cell_type": "code",
   "execution_count": null,
   "id": "adba9e07",
   "metadata": {
    "scrolled": true
   },
   "outputs": [],
   "source": [
    "%%time\n",
    "\n",
    "# Selection of models to try out\n",
    "classification_models = [LogisticRegression(random_state=42), \n",
    "                         LinearSVC(random_state=42)]\n",
    "\n",
    "# # Selection of models to try out\n",
    "# classification_models = [LogisticRegression(random_state=42), \n",
    "#                          LinearSVC(random_state=42), \n",
    "#                          KNeighborsClassifier()]\n",
    "\n",
    "mean_recall_scores = {}\n",
    "mean_precision_scores = {}\n",
    "mean_f1_scores = {}\n",
    "\n",
    "# Train and evaluate the models\n",
    "for model in classification_models:\n",
    "    piped_model = make_pipeline(preprocessing, model)\n",
    "    piped_model.fit(X, y)\n",
    "    scores = cross_validate(piped_model, X, y, cv=20, scoring=['recall', 'precision', 'f1'])\n",
    "    \n",
    "    #Calculate mean scores     \n",
    "    mean_recall_score = scores['test_recall'].mean()\n",
    "    mean_precision_score = scores['test_precision'].mean()\n",
    "    mean_f1_score = scores['test_f1'].mean()\n",
    "    \n",
    "    # Store mean scores in dicts     \n",
    "    mean_recall_scores[str(model)[:str(model).find('(')]] = mean_recall_score\n",
    "    mean_precision_scores[str(model)[:str(model).find('(')]] = mean_precision_score\n",
    "    mean_f1_scores[str(model)[:str(model).find('(')]] = mean_f1_score\n",
    " \n",
    "    \n",
    "# Formatting the results into a dataframe (RECALL)\n",
    "mean_recall_scores_df = pd.DataFrame(mean_recall_scores, index=[0])\n",
    "mean_recall_scores_df = mean_recall_scores_df.T\\\n",
    "                                .reset_index()\\\n",
    "                                .rename(columns={0:'recall', 'index' : 'Model'})\\\n",
    "                                .sort_values('recall', ascending=False)\n",
    "\n",
    "# Formatting the results into a dataframe (PRECISION)\n",
    "mean_precision_scores_df = pd.DataFrame(mean_precision_scores, index=[0])\n",
    "mean_precision_scores_df = mean_precision_scores_df.T\\\n",
    "                                .reset_index()\\\n",
    "                                .rename(columns={0:'precision', 'index' : 'Model'})\\\n",
    "                                .sort_values('precision', ascending=False)\n",
    "\n",
    "# Formatting the results into a dataframe (F1)\n",
    "mean_f1_scores_df = pd.DataFrame(mean_f1_scores, index=[0])\n",
    "mean_f1_scores_df = mean_f1_scores_df.T\\\n",
    "                                .reset_index()\\\n",
    "                                .rename(columns={0:'F1', 'index' : 'Model'})\\\n",
    "                                .sort_values('F1', ascending=False)\n",
    "\n",
    "# Merge\n",
    "merged = pd.merge(mean_recall_scores_df,mean_precision_scores_df,\n",
    "                        how='left',\n",
    "                        left_on='Model',\n",
    "                        right_on='Model')\n",
    "\n",
    "merged = pd.merge(merged,mean_f1_scores_df,\n",
    "                        how='left',\n",
    "                        left_on='Model',\n",
    "                        right_on='Model').sort_values('recall', ascending=False)\n",
    "                \n",
    "display(merged)"
   ]
  },
  {
   "cell_type": "markdown",
   "id": "2ffbbf5a",
   "metadata": {},
   "source": [
    "# Fine tune the model\n"
   ]
  },
  {
   "cell_type": "markdown",
   "id": "018de865",
   "metadata": {},
   "source": [
    "Let's fine tuned our chosen model (**KNeighbors Classifier**).\n"
   ]
  },
  {
   "cell_type": "markdown",
   "id": "2641cf8b",
   "metadata": {},
   "source": [
    "## Grid Search"
   ]
  },
  {
   "cell_type": "code",
   "execution_count": null,
   "id": "c8814d0a",
   "metadata": {},
   "outputs": [],
   "source": [
    "# Reminder of the pipeline structure\n",
    "logit_pipe= make_pipeline(preprocessing, LogisticRegression(random_state=42))\n",
    "logit_pipe"
   ]
  },
  {
   "cell_type": "markdown",
   "id": "53317acc",
   "metadata": {},
   "source": [
    "What are the available hyper parameters of the classifier ?\n"
   ]
  },
  {
   "cell_type": "code",
   "execution_count": null,
   "id": "754c3dce",
   "metadata": {},
   "outputs": [],
   "source": [
    "# Get the pipeline parmeters\n",
    "logit_pipe.get_params().keys()"
   ]
  },
  {
   "cell_type": "code",
   "execution_count": null,
   "id": "6b713953",
   "metadata": {},
   "outputs": [],
   "source": [
    "%%time\n",
    "# Create grid\n",
    "param_grid = {\n",
    "            'logisticregression__C' : [0.1,0.5],\n",
    "            'logisticregression__class_weight' : [None],\n",
    "            'logisticregression__l1_ratio' : [0],\n",
    "            'logisticregression__multi_class' : ['auto'],\n",
    "            'logisticregression__penalty' :['l2'],\n",
    "            'logisticregression__solver' : ['liblinear']\n",
    "}\n",
    "\n",
    "# Perform Grid Search\n",
    "grid_search = GridSearchCV(logit_pipe, param_grid, cv=5,scoring='recall')\n",
    "\n",
    "# Fit data to Grid Search\n",
    "grid_search.fit(X, y)"
   ]
  },
  {
   "cell_type": "markdown",
   "id": "7ff0521d",
   "metadata": {},
   "source": [
    "The best hyperparameter combination found:"
   ]
  },
  {
   "cell_type": "code",
   "execution_count": null,
   "id": "3eb32e8e",
   "metadata": {},
   "outputs": [],
   "source": [
    "# Get the best params found\n",
    "grid_search.best_params_"
   ]
  },
  {
   "cell_type": "code",
   "execution_count": null,
   "id": "2933f41b",
   "metadata": {},
   "outputs": [],
   "source": [
    "# Get the best estimator found\n",
    "grid_search.best_estimator_"
   ]
  },
  {
   "cell_type": "markdown",
   "id": "686142e4",
   "metadata": {},
   "source": [
    "👎 Limitations of Grid Search:<br>\n",
    "•\tComputationally costly <br>\n",
    "•\tThe optimal hyperparameter value can be missed <br>\n",
    "•\tCan overfit hyperparameters to the training set if too many combinations are tried out for too small a dataset"
   ]
  },
  {
   "cell_type": "markdown",
   "id": "d50505c4",
   "metadata": {},
   "source": [
    "So let's try a **random grid search** !"
   ]
  },
  {
   "cell_type": "markdown",
   "id": "6d93463e",
   "metadata": {},
   "source": [
    "## Random search"
   ]
  },
  {
   "cell_type": "markdown",
   "id": "349045fc",
   "metadata": {},
   "source": [
    "Randomly explore hyperparameter values from: <br>\n",
    "•\tA hyperparameter space to randomly sample from <br>\n",
    "•\tThe specified number of samples to be tested"
   ]
  },
  {
   "cell_type": "code",
   "execution_count": null,
   "id": "8ad0b4f5",
   "metadata": {},
   "outputs": [],
   "source": [
    "# %%time\n",
    "# # Create grid\n",
    "# param_grid = {\n",
    "#     'kneighborsclassifier__n_neighbors': [np.random.randint(low = 1, high = 30)],\n",
    "#     'kneighborsclassifier__weights': ['uniform', 'distance'],\n",
    "#     'kneighborsclassifier__metric': ['euclidean', 'manhattan', 'minkowski']\n",
    "# }\n",
    "\n",
    "# # Perform Grid Search\n",
    "# # rnd_search = RandomizedSearchCV(Kneighbors_pipe, param_grid, cv=5,scoring=['recall', 'precision', 'f1'], refit='f1')\n",
    "# rnd_search = RandomizedSearchCV(logit_pipe, param_grid, cv=5,scoring='recall')\n",
    "\n",
    "# # Fit data to Grid Search\n",
    "# rnd_search.fit(X, y)\n"
   ]
  },
  {
   "cell_type": "markdown",
   "id": "796d13c9",
   "metadata": {},
   "source": [
    "The best hyperparameter combination found:"
   ]
  },
  {
   "cell_type": "code",
   "execution_count": null,
   "id": "0a101b03",
   "metadata": {},
   "outputs": [],
   "source": [
    "# # Get the best params found\n",
    "# rnd_search.best_params_"
   ]
  },
  {
   "cell_type": "code",
   "execution_count": null,
   "id": "0cbeb808",
   "metadata": {
    "scrolled": true
   },
   "outputs": [],
   "source": [
    "# # Get the best estimator found\n",
    "# rnd_search.best_estimator_"
   ]
  },
  {
   "cell_type": "code",
   "execution_count": null,
   "id": "d6d3ecbe",
   "metadata": {},
   "outputs": [],
   "source": [
    "# Final model \n",
    "final_model = grid_search.best_estimator_  # includes preprocessing"
   ]
  },
  {
   "cell_type": "code",
   "execution_count": null,
   "id": "a25899ac",
   "metadata": {},
   "outputs": [],
   "source": [
    "final_model\n"
   ]
  },
  {
   "cell_type": "markdown",
   "id": "c6fe1765",
   "metadata": {},
   "source": [
    "# Evaluate the system on the Test set"
   ]
  },
  {
   "cell_type": "code",
   "execution_count": null,
   "id": "99104248",
   "metadata": {},
   "outputs": [],
   "source": [
    "# Separate featues from target\n",
    "X_test = strat_test_set.drop([\"Personal_Loan\",\"Age\", \"longitude\", \"Income\"], axis=1)\n",
    "y_test = strat_test_set[\"Personal_Loan\"].copy()"
   ]
  },
  {
   "cell_type": "code",
   "execution_count": null,
   "id": "aa3d370d",
   "metadata": {},
   "outputs": [],
   "source": [
    "# Make the predictions\n",
    "final_predictions = final_model.predict(X_test)"
   ]
  },
  {
   "cell_type": "code",
   "execution_count": null,
   "id": "57592343",
   "metadata": {},
   "outputs": [],
   "source": [
    "# Calculation of metric\n",
    "final_recall = recall_score(y_test, final_predictions)\n",
    "final_precision = precision_score(y_test, final_predictions)\n",
    "final_f1 = f1_score(y_test, final_predictions)\n",
    "\n",
    "print(f\"Final recall : {final_recall}\")\n",
    "print(f\"Final precision : {final_precision}\")\n",
    "print(f\"Final f1 : {final_f1}\")\n"
   ]
  },
  {
   "cell_type": "code",
   "execution_count": null,
   "id": "d7ae99d3",
   "metadata": {},
   "outputs": [],
   "source": [
    "from sklearn.metrics import confusion_matrix\n",
    "\n",
    "# Generate the confusion matrix\n",
    "cm = confusion_matrix(y_test, final_predictions)\n",
    "print(\"Confusion Matrix:\\n\", cm)"
   ]
  },
  {
   "cell_type": "code",
   "execution_count": null,
   "id": "3c3534d1",
   "metadata": {
    "scrolled": true
   },
   "outputs": [],
   "source": [
    "from sklearn.metrics import confusion_matrix\n",
    "\n",
    "# Generate the confusion matrix\n",
    "cm = confusion_matrix(y, final_model.predict(X))\n",
    "print(\"Confusion Matrix:\\n\", cm)"
   ]
  },
  {
   "cell_type": "code",
   "execution_count": null,
   "id": "66d1f0be",
   "metadata": {},
   "outputs": [],
   "source": [
    "merged_df = pd.merge(X,y,how='inner',left_index=True, right_index=True)"
   ]
  },
  {
   "cell_type": "code",
   "execution_count": null,
   "id": "2e532880",
   "metadata": {
    "scrolled": true
   },
   "outputs": [],
   "source": [
    "#Create a dataframe listing pair correlations and absolute correlations\n",
    "correlation_matrix = merged_df.corr()\n",
    "\n",
    "# Converting the correlation matrix into a DataFrame\n",
    "corr_df = correlation_matrix.stack().reset_index()\n",
    "\n",
    "# Renaming the columns\n",
    "corr_df.columns = ['feature_1','feature_2', 'correlation']\n",
    "\n",
    "# Remove \"self correlations\"\n",
    "no_self_correlation = (corr_df['feature_1'] != corr_df['feature_2'])\n",
    "corr_df = corr_df[no_self_correlation]\n",
    "\n",
    "corr_df['absolute_correlation'] = np.abs(corr_df['correlation'])\n",
    "\n",
    "corr_df.sort_values(by=\"absolute_correlation\", ascending=False, inplace = True)\n",
    "corr_df[corr_df['feature_1'] == 'Personal_Loan']\n",
    "\n",
    "\n"
   ]
  },
  {
   "cell_type": "code",
   "execution_count": null,
   "id": "5592137f",
   "metadata": {},
   "outputs": [],
   "source": []
  },
  {
   "cell_type": "code",
   "execution_count": null,
   "id": "6e7f7ddb",
   "metadata": {},
   "outputs": [],
   "source": []
  }
 ],
 "metadata": {
  "kernelspec": {
   "display_name": "Python 3 (ipykernel)",
   "language": "python",
   "name": "python3"
  },
  "language_info": {
   "codemirror_mode": {
    "name": "ipython",
    "version": 3
   },
   "file_extension": ".py",
   "mimetype": "text/x-python",
   "name": "python",
   "nbconvert_exporter": "python",
   "pygments_lexer": "ipython3",
   "version": "3.10.6"
  },
  "toc": {
   "base_numbering": 1,
   "nav_menu": {},
   "number_sections": true,
   "sideBar": true,
   "skip_h1_title": false,
   "title_cell": "Table of Contents",
   "title_sidebar": "Contents",
   "toc_cell": false,
   "toc_position": {
    "height": "calc(100% - 180px)",
    "left": "10px",
    "top": "150px",
    "width": "349.047px"
   },
   "toc_section_display": true,
   "toc_window_display": true
  },
  "varInspector": {
   "cols": {
    "lenName": 16,
    "lenType": 16,
    "lenVar": 40
   },
   "kernels_config": {
    "python": {
     "delete_cmd_postfix": "",
     "delete_cmd_prefix": "del ",
     "library": "var_list.py",
     "varRefreshCmd": "print(var_dic_list())"
    },
    "r": {
     "delete_cmd_postfix": ") ",
     "delete_cmd_prefix": "rm(",
     "library": "var_list.r",
     "varRefreshCmd": "cat(var_dic_list()) "
    }
   },
   "types_to_exclude": [
    "module",
    "function",
    "builtin_function_or_method",
    "instance",
    "_Feature"
   ],
   "window_display": false
  }
 },
 "nbformat": 4,
 "nbformat_minor": 5
}
